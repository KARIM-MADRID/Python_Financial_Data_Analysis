{
 "cells": [
  {
   "cell_type": "markdown",
   "id": "db52a768",
   "metadata": {},
   "source": [
    "### PYTHON FOR FINANCE : GET STOCK MARKET DATA \n",
    "--- IN THIS TUTORIAL I WILL USE PANDA DATA READER YFINANCE ---"
   ]
  },
  {
   "cell_type": "code",
   "execution_count": 12,
   "id": "4bb1a903",
   "metadata": {},
   "outputs": [],
   "source": [
    "import pandas as pd\n",
    "import pandas_datareader as pdr\n",
    "import datetime as dt \n",
    "import matplotlib.pyplot as plt\n",
    "import yfinance as yf"
   ]
  },
  {
   "cell_type": "markdown",
   "id": "5bc50efb",
   "metadata": {},
   "source": [
    "### step 1: specify date range for analysis"
   ]
  },
  {
   "cell_type": "code",
   "execution_count": 17,
   "id": "fca8e014",
   "metadata": {},
   "outputs": [],
   "source": [
    "end=dt.datetime.now()\n",
    "start=end-dt.timedelta(days=300)"
   ]
  },
  {
   "cell_type": "code",
   "execution_count": 18,
   "id": "afa86c5e",
   "metadata": {},
   "outputs": [
    {
     "data": {
      "text/plain": [
       "(datetime.datetime(2021, 8, 25, 23, 32, 52, 594535),\n",
       " datetime.datetime(2022, 6, 21, 23, 32, 52, 594535))"
      ]
     },
     "execution_count": 18,
     "metadata": {},
     "output_type": "execute_result"
    }
   ],
   "source": [
    "start,end"
   ]
  },
  {
   "cell_type": "markdown",
   "id": "c137d7e7",
   "metadata": {},
   "source": [
    "### step select the stock or tickers for analysis"
   ]
  },
  {
   "cell_type": "code",
   "execution_count": 19,
   "id": "71f12a4b",
   "metadata": {},
   "outputs": [],
   "source": [
    "stocklist=[\"AAPL\",\"TSLA\",\"IBM\",\"FB\",\"AMZN\",\"BA\"]"
   ]
  },
  {
   "cell_type": "code",
   "execution_count": 21,
   "id": "f077f082",
   "metadata": {},
   "outputs": [
    {
     "name": "stdout",
     "output_type": "stream",
     "text": [
      "[*********************100%***********************]  6 of 6 completed\n"
     ]
    }
   ],
   "source": [
    "df=yf.download(stocklist,start,end)"
   ]
  },
  {
   "cell_type": "code",
   "execution_count": null,
   "id": "2fb82d22",
   "metadata": {},
   "outputs": [],
   "source": [
    "#also can get -- pdr.get_data_yahoo( stocklist,start ,end ) if not yahoo fianace"
   ]
  },
  {
   "cell_type": "code",
   "execution_count": 22,
   "id": "4e870c2a",
   "metadata": {},
   "outputs": [
    {
     "data": {
      "text/html": [
       "<div>\n",
       "<style scoped>\n",
       "    .dataframe tbody tr th:only-of-type {\n",
       "        vertical-align: middle;\n",
       "    }\n",
       "\n",
       "    .dataframe tbody tr th {\n",
       "        vertical-align: top;\n",
       "    }\n",
       "\n",
       "    .dataframe thead tr th {\n",
       "        text-align: left;\n",
       "    }\n",
       "\n",
       "    .dataframe thead tr:last-of-type th {\n",
       "        text-align: right;\n",
       "    }\n",
       "</style>\n",
       "<table border=\"1\" class=\"dataframe\">\n",
       "  <thead>\n",
       "    <tr>\n",
       "      <th></th>\n",
       "      <th colspan=\"6\" halign=\"left\">Adj Close</th>\n",
       "      <th colspan=\"4\" halign=\"left\">Close</th>\n",
       "      <th>...</th>\n",
       "      <th colspan=\"4\" halign=\"left\">Open</th>\n",
       "      <th colspan=\"6\" halign=\"left\">Volume</th>\n",
       "    </tr>\n",
       "    <tr>\n",
       "      <th></th>\n",
       "      <th>AAPL</th>\n",
       "      <th>AMZN</th>\n",
       "      <th>BA</th>\n",
       "      <th>FB</th>\n",
       "      <th>IBM</th>\n",
       "      <th>TSLA</th>\n",
       "      <th>AAPL</th>\n",
       "      <th>AMZN</th>\n",
       "      <th>BA</th>\n",
       "      <th>FB</th>\n",
       "      <th>...</th>\n",
       "      <th>BA</th>\n",
       "      <th>FB</th>\n",
       "      <th>IBM</th>\n",
       "      <th>TSLA</th>\n",
       "      <th>AAPL</th>\n",
       "      <th>AMZN</th>\n",
       "      <th>BA</th>\n",
       "      <th>FB</th>\n",
       "      <th>IBM</th>\n",
       "      <th>TSLA</th>\n",
       "    </tr>\n",
       "    <tr>\n",
       "      <th>Date</th>\n",
       "      <th></th>\n",
       "      <th></th>\n",
       "      <th></th>\n",
       "      <th></th>\n",
       "      <th></th>\n",
       "      <th></th>\n",
       "      <th></th>\n",
       "      <th></th>\n",
       "      <th></th>\n",
       "      <th></th>\n",
       "      <th></th>\n",
       "      <th></th>\n",
       "      <th></th>\n",
       "      <th></th>\n",
       "      <th></th>\n",
       "      <th></th>\n",
       "      <th></th>\n",
       "      <th></th>\n",
       "      <th></th>\n",
       "      <th></th>\n",
       "      <th></th>\n",
       "    </tr>\n",
       "  </thead>\n",
       "  <tbody>\n",
       "    <tr>\n",
       "      <th>2021-08-25</th>\n",
       "      <td>147.738205</td>\n",
       "      <td>164.959000</td>\n",
       "      <td>221.029999</td>\n",
       "      <td>368.390015</td>\n",
       "      <td>128.815552</td>\n",
       "      <td>711.200012</td>\n",
       "      <td>148.360001</td>\n",
       "      <td>164.959000</td>\n",
       "      <td>221.029999</td>\n",
       "      <td>368.390015</td>\n",
       "      <td>...</td>\n",
       "      <td>221.500000</td>\n",
       "      <td>365.600006</td>\n",
       "      <td>133.766724</td>\n",
       "      <td>707.030029</td>\n",
       "      <td>58991300</td>\n",
       "      <td>33606000</td>\n",
       "      <td>6528900</td>\n",
       "      <td>9684519.0</td>\n",
       "      <td>2105389</td>\n",
       "      <td>12645600</td>\n",
       "    </tr>\n",
       "    <tr>\n",
       "      <th>2021-08-26</th>\n",
       "      <td>146.921646</td>\n",
       "      <td>165.800003</td>\n",
       "      <td>216.500000</td>\n",
       "      <td>364.380005</td>\n",
       "      <td>127.820839</td>\n",
       "      <td>701.159973</td>\n",
       "      <td>147.539993</td>\n",
       "      <td>165.800003</td>\n",
       "      <td>216.500000</td>\n",
       "      <td>364.380005</td>\n",
       "      <td>...</td>\n",
       "      <td>221.410004</td>\n",
       "      <td>368.375000</td>\n",
       "      <td>133.814529</td>\n",
       "      <td>708.309998</td>\n",
       "      <td>48597200</td>\n",
       "      <td>41976000</td>\n",
       "      <td>8341400</td>\n",
       "      <td>7888683.0</td>\n",
       "      <td>2613640</td>\n",
       "      <td>13214300</td>\n",
       "    </tr>\n",
       "    <tr>\n",
       "      <th>2021-08-27</th>\n",
       "      <td>147.977203</td>\n",
       "      <td>167.481506</td>\n",
       "      <td>221.750000</td>\n",
       "      <td>372.630005</td>\n",
       "      <td>128.401077</td>\n",
       "      <td>711.919983</td>\n",
       "      <td>148.600006</td>\n",
       "      <td>167.481506</td>\n",
       "      <td>221.750000</td>\n",
       "      <td>372.630005</td>\n",
       "      <td>...</td>\n",
       "      <td>217.470001</td>\n",
       "      <td>365.100006</td>\n",
       "      <td>132.609940</td>\n",
       "      <td>705.000000</td>\n",
       "      <td>55802400</td>\n",
       "      <td>48048000</td>\n",
       "      <td>7684900</td>\n",
       "      <td>11219142.0</td>\n",
       "      <td>2572637</td>\n",
       "      <td>13833800</td>\n",
       "    </tr>\n",
       "    <tr>\n",
       "      <th>2021-08-30</th>\n",
       "      <td>152.478271</td>\n",
       "      <td>171.078506</td>\n",
       "      <td>217.660004</td>\n",
       "      <td>380.660004</td>\n",
       "      <td>127.995819</td>\n",
       "      <td>730.909973</td>\n",
       "      <td>153.119995</td>\n",
       "      <td>171.078506</td>\n",
       "      <td>217.660004</td>\n",
       "      <td>380.660004</td>\n",
       "      <td>...</td>\n",
       "      <td>222.350006</td>\n",
       "      <td>372.559998</td>\n",
       "      <td>133.365204</td>\n",
       "      <td>714.719971</td>\n",
       "      <td>90956700</td>\n",
       "      <td>63844000</td>\n",
       "      <td>7587800</td>\n",
       "      <td>13547261.0</td>\n",
       "      <td>2087293</td>\n",
       "      <td>18604200</td>\n",
       "    </tr>\n",
       "    <tr>\n",
       "      <th>2021-08-31</th>\n",
       "      <td>151.193680</td>\n",
       "      <td>173.539505</td>\n",
       "      <td>219.500000</td>\n",
       "      <td>379.380005</td>\n",
       "      <td>129.257629</td>\n",
       "      <td>735.719971</td>\n",
       "      <td>151.830002</td>\n",
       "      <td>173.539505</td>\n",
       "      <td>219.500000</td>\n",
       "      <td>379.380005</td>\n",
       "      <td>...</td>\n",
       "      <td>217.330002</td>\n",
       "      <td>379.950012</td>\n",
       "      <td>133.403442</td>\n",
       "      <td>733.000000</td>\n",
       "      <td>86453100</td>\n",
       "      <td>87128000</td>\n",
       "      <td>6764500</td>\n",
       "      <td>12345350.0</td>\n",
       "      <td>4429915</td>\n",
       "      <td>20855400</td>\n",
       "    </tr>\n",
       "  </tbody>\n",
       "</table>\n",
       "<p>5 rows × 36 columns</p>\n",
       "</div>"
      ],
      "text/plain": [
       "             Adj Close                                                  \\\n",
       "                  AAPL        AMZN          BA          FB         IBM   \n",
       "Date                                                                     \n",
       "2021-08-25  147.738205  164.959000  221.029999  368.390015  128.815552   \n",
       "2021-08-26  146.921646  165.800003  216.500000  364.380005  127.820839   \n",
       "2021-08-27  147.977203  167.481506  221.750000  372.630005  128.401077   \n",
       "2021-08-30  152.478271  171.078506  217.660004  380.660004  127.995819   \n",
       "2021-08-31  151.193680  173.539505  219.500000  379.380005  129.257629   \n",
       "\n",
       "                             Close                                      ...  \\\n",
       "                  TSLA        AAPL        AMZN          BA          FB  ...   \n",
       "Date                                                                    ...   \n",
       "2021-08-25  711.200012  148.360001  164.959000  221.029999  368.390015  ...   \n",
       "2021-08-26  701.159973  147.539993  165.800003  216.500000  364.380005  ...   \n",
       "2021-08-27  711.919983  148.600006  167.481506  221.750000  372.630005  ...   \n",
       "2021-08-30  730.909973  153.119995  171.078506  217.660004  380.660004  ...   \n",
       "2021-08-31  735.719971  151.830002  173.539505  219.500000  379.380005  ...   \n",
       "\n",
       "                  Open                                        Volume  \\\n",
       "                    BA          FB         IBM        TSLA      AAPL   \n",
       "Date                                                                   \n",
       "2021-08-25  221.500000  365.600006  133.766724  707.030029  58991300   \n",
       "2021-08-26  221.410004  368.375000  133.814529  708.309998  48597200   \n",
       "2021-08-27  217.470001  365.100006  132.609940  705.000000  55802400   \n",
       "2021-08-30  222.350006  372.559998  133.365204  714.719971  90956700   \n",
       "2021-08-31  217.330002  379.950012  133.403442  733.000000  86453100   \n",
       "\n",
       "                                                              \n",
       "                AMZN       BA          FB      IBM      TSLA  \n",
       "Date                                                          \n",
       "2021-08-25  33606000  6528900   9684519.0  2105389  12645600  \n",
       "2021-08-26  41976000  8341400   7888683.0  2613640  13214300  \n",
       "2021-08-27  48048000  7684900  11219142.0  2572637  13833800  \n",
       "2021-08-30  63844000  7587800  13547261.0  2087293  18604200  \n",
       "2021-08-31  87128000  6764500  12345350.0  4429915  20855400  \n",
       "\n",
       "[5 rows x 36 columns]"
      ]
     },
     "execution_count": 22,
     "metadata": {},
     "output_type": "execute_result"
    }
   ],
   "source": [
    "df.head()"
   ]
  },
  {
   "cell_type": "code",
   "execution_count": 23,
   "id": "846b945b",
   "metadata": {},
   "outputs": [
    {
     "data": {
      "text/html": [
       "<div>\n",
       "<style scoped>\n",
       "    .dataframe tbody tr th:only-of-type {\n",
       "        vertical-align: middle;\n",
       "    }\n",
       "\n",
       "    .dataframe tbody tr th {\n",
       "        vertical-align: top;\n",
       "    }\n",
       "\n",
       "    .dataframe thead tr th {\n",
       "        text-align: left;\n",
       "    }\n",
       "</style>\n",
       "<table border=\"1\" class=\"dataframe\">\n",
       "  <thead>\n",
       "    <tr>\n",
       "      <th></th>\n",
       "      <th colspan=\"6\" halign=\"left\">Adj Close</th>\n",
       "      <th colspan=\"4\" halign=\"left\">Close</th>\n",
       "      <th>...</th>\n",
       "      <th colspan=\"4\" halign=\"left\">Open</th>\n",
       "      <th colspan=\"6\" halign=\"left\">Volume</th>\n",
       "    </tr>\n",
       "    <tr>\n",
       "      <th></th>\n",
       "      <th>AAPL</th>\n",
       "      <th>AMZN</th>\n",
       "      <th>BA</th>\n",
       "      <th>FB</th>\n",
       "      <th>IBM</th>\n",
       "      <th>TSLA</th>\n",
       "      <th>AAPL</th>\n",
       "      <th>AMZN</th>\n",
       "      <th>BA</th>\n",
       "      <th>FB</th>\n",
       "      <th>...</th>\n",
       "      <th>BA</th>\n",
       "      <th>FB</th>\n",
       "      <th>IBM</th>\n",
       "      <th>TSLA</th>\n",
       "      <th>AAPL</th>\n",
       "      <th>AMZN</th>\n",
       "      <th>BA</th>\n",
       "      <th>FB</th>\n",
       "      <th>IBM</th>\n",
       "      <th>TSLA</th>\n",
       "    </tr>\n",
       "  </thead>\n",
       "  <tbody>\n",
       "    <tr>\n",
       "      <th>count</th>\n",
       "      <td>207.000000</td>\n",
       "      <td>207.000000</td>\n",
       "      <td>207.000000</td>\n",
       "      <td>206.000000</td>\n",
       "      <td>207.000000</td>\n",
       "      <td>207.000000</td>\n",
       "      <td>207.000000</td>\n",
       "      <td>207.000000</td>\n",
       "      <td>207.000000</td>\n",
       "      <td>206.000000</td>\n",
       "      <td>...</td>\n",
       "      <td>207.000000</td>\n",
       "      <td>206.000000</td>\n",
       "      <td>207.000000</td>\n",
       "      <td>207.000000</td>\n",
       "      <td>2.070000e+02</td>\n",
       "      <td>2.070000e+02</td>\n",
       "      <td>2.070000e+02</td>\n",
       "      <td>2.060000e+02</td>\n",
       "      <td>2.070000e+02</td>\n",
       "      <td>2.070000e+02</td>\n",
       "    </tr>\n",
       "    <tr>\n",
       "      <th>mean</th>\n",
       "      <td>158.202792</td>\n",
       "      <td>154.393162</td>\n",
       "      <td>192.187730</td>\n",
       "      <td>276.288739</td>\n",
       "      <td>127.441557</td>\n",
       "      <td>906.182896</td>\n",
       "      <td>158.566619</td>\n",
       "      <td>154.393162</td>\n",
       "      <td>192.187730</td>\n",
       "      <td>276.288739</td>\n",
       "      <td>...</td>\n",
       "      <td>192.584300</td>\n",
       "      <td>276.643047</td>\n",
       "      <td>130.003935</td>\n",
       "      <td>907.451208</td>\n",
       "      <td>9.199519e+07</td>\n",
       "      <td>7.454318e+07</td>\n",
       "      <td>9.904404e+06</td>\n",
       "      <td>2.844567e+07</td>\n",
       "      <td>5.365653e+06</td>\n",
       "      <td>2.629612e+07</td>\n",
       "    </tr>\n",
       "    <tr>\n",
       "      <th>std</th>\n",
       "      <td>12.631269</td>\n",
       "      <td>21.588743</td>\n",
       "      <td>30.940352</td>\n",
       "      <td>69.463682</td>\n",
       "      <td>6.806965</td>\n",
       "      <td>147.911657</td>\n",
       "      <td>12.646633</td>\n",
       "      <td>21.588743</td>\n",
       "      <td>30.940352</td>\n",
       "      <td>69.463682</td>\n",
       "      <td>...</td>\n",
       "      <td>30.961170</td>\n",
       "      <td>69.389712</td>\n",
       "      <td>6.327723</td>\n",
       "      <td>149.181215</td>\n",
       "      <td>2.723498e+07</td>\n",
       "      <td>3.319280e+07</td>\n",
       "      <td>4.319999e+06</td>\n",
       "      <td>1.880909e+07</td>\n",
       "      <td>3.018615e+06</td>\n",
       "      <td>9.199717e+06</td>\n",
       "    </tr>\n",
       "    <tr>\n",
       "      <th>min</th>\n",
       "      <td>130.059998</td>\n",
       "      <td>102.309998</td>\n",
       "      <td>115.860001</td>\n",
       "      <td>160.869995</td>\n",
       "      <td>113.060127</td>\n",
       "      <td>628.159973</td>\n",
       "      <td>130.059998</td>\n",
       "      <td>102.309998</td>\n",
       "      <td>115.860001</td>\n",
       "      <td>160.869995</td>\n",
       "      <td>...</td>\n",
       "      <td>116.650002</td>\n",
       "      <td>161.679993</td>\n",
       "      <td>115.000000</td>\n",
       "      <td>623.849976</td>\n",
       "      <td>4.100000e+07</td>\n",
       "      <td>3.360600e+07</td>\n",
       "      <td>4.515000e+06</td>\n",
       "      <td>7.511356e+06</td>\n",
       "      <td>2.009575e+06</td>\n",
       "      <td>1.168090e+07</td>\n",
       "    </tr>\n",
       "    <tr>\n",
       "      <th>25%</th>\n",
       "      <td>148.101692</td>\n",
       "      <td>145.175751</td>\n",
       "      <td>179.285004</td>\n",
       "      <td>206.520004</td>\n",
       "      <td>123.206024</td>\n",
       "      <td>775.109985</td>\n",
       "      <td>148.700005</td>\n",
       "      <td>145.175751</td>\n",
       "      <td>179.285004</td>\n",
       "      <td>206.520004</td>\n",
       "      <td>...</td>\n",
       "      <td>180.589996</td>\n",
       "      <td>205.380001</td>\n",
       "      <td>125.320000</td>\n",
       "      <td>775.735016</td>\n",
       "      <td>7.321885e+07</td>\n",
       "      <td>5.387700e+07</td>\n",
       "      <td>7.250300e+06</td>\n",
       "      <td>1.761630e+07</td>\n",
       "      <td>3.913070e+06</td>\n",
       "      <td>1.985045e+07</td>\n",
       "    </tr>\n",
       "    <tr>\n",
       "      <th>50%</th>\n",
       "      <td>158.784103</td>\n",
       "      <td>162.554001</td>\n",
       "      <td>203.660004</td>\n",
       "      <td>311.410004</td>\n",
       "      <td>128.189240</td>\n",
       "      <td>902.940002</td>\n",
       "      <td>159.220001</td>\n",
       "      <td>162.554001</td>\n",
       "      <td>203.660004</td>\n",
       "      <td>311.410004</td>\n",
       "      <td>...</td>\n",
       "      <td>202.229996</td>\n",
       "      <td>313.360001</td>\n",
       "      <td>131.259995</td>\n",
       "      <td>903.179993</td>\n",
       "      <td>8.847140e+07</td>\n",
       "      <td>6.519800e+07</td>\n",
       "      <td>8.825500e+06</td>\n",
       "      <td>2.490756e+07</td>\n",
       "      <td>4.856000e+06</td>\n",
       "      <td>2.492230e+07</td>\n",
       "    </tr>\n",
       "    <tr>\n",
       "      <th>75%</th>\n",
       "      <td>169.852074</td>\n",
       "      <td>170.410751</td>\n",
       "      <td>214.409996</td>\n",
       "      <td>335.362495</td>\n",
       "      <td>131.914970</td>\n",
       "      <td>1027.554993</td>\n",
       "      <td>170.150002</td>\n",
       "      <td>170.410751</td>\n",
       "      <td>214.409996</td>\n",
       "      <td>335.362495</td>\n",
       "      <td>...</td>\n",
       "      <td>215.325005</td>\n",
       "      <td>335.728760</td>\n",
       "      <td>134.856598</td>\n",
       "      <td>1034.830017</td>\n",
       "      <td>1.074980e+08</td>\n",
       "      <td>8.719700e+07</td>\n",
       "      <td>1.120145e+07</td>\n",
       "      <td>3.198699e+07</td>\n",
       "      <td>5.968450e+06</td>\n",
       "      <td>3.079245e+07</td>\n",
       "    </tr>\n",
       "    <tr>\n",
       "      <th>max</th>\n",
       "      <td>181.511703</td>\n",
       "      <td>184.802994</td>\n",
       "      <td>233.089996</td>\n",
       "      <td>382.179993</td>\n",
       "      <td>142.880005</td>\n",
       "      <td>1229.910034</td>\n",
       "      <td>182.009995</td>\n",
       "      <td>184.802994</td>\n",
       "      <td>233.089996</td>\n",
       "      <td>382.179993</td>\n",
       "      <td>...</td>\n",
       "      <td>232.940002</td>\n",
       "      <td>381.679993</td>\n",
       "      <td>142.979996</td>\n",
       "      <td>1234.410034</td>\n",
       "      <td>1.954327e+08</td>\n",
       "      <td>2.726620e+08</td>\n",
       "      <td>4.037170e+07</td>\n",
       "      <td>1.881199e+08</td>\n",
       "      <td>3.291396e+07</td>\n",
       "      <td>6.285210e+07</td>\n",
       "    </tr>\n",
       "  </tbody>\n",
       "</table>\n",
       "<p>8 rows × 36 columns</p>\n",
       "</div>"
      ],
      "text/plain": [
       "        Adj Close                                                  \\\n",
       "             AAPL        AMZN          BA          FB         IBM   \n",
       "count  207.000000  207.000000  207.000000  206.000000  207.000000   \n",
       "mean   158.202792  154.393162  192.187730  276.288739  127.441557   \n",
       "std     12.631269   21.588743   30.940352   69.463682    6.806965   \n",
       "min    130.059998  102.309998  115.860001  160.869995  113.060127   \n",
       "25%    148.101692  145.175751  179.285004  206.520004  123.206024   \n",
       "50%    158.784103  162.554001  203.660004  311.410004  128.189240   \n",
       "75%    169.852074  170.410751  214.409996  335.362495  131.914970   \n",
       "max    181.511703  184.802994  233.089996  382.179993  142.880005   \n",
       "\n",
       "                         Close                                      ...  \\\n",
       "              TSLA        AAPL        AMZN          BA          FB  ...   \n",
       "count   207.000000  207.000000  207.000000  207.000000  206.000000  ...   \n",
       "mean    906.182896  158.566619  154.393162  192.187730  276.288739  ...   \n",
       "std     147.911657   12.646633   21.588743   30.940352   69.463682  ...   \n",
       "min     628.159973  130.059998  102.309998  115.860001  160.869995  ...   \n",
       "25%     775.109985  148.700005  145.175751  179.285004  206.520004  ...   \n",
       "50%     902.940002  159.220001  162.554001  203.660004  311.410004  ...   \n",
       "75%    1027.554993  170.150002  170.410751  214.409996  335.362495  ...   \n",
       "max    1229.910034  182.009995  184.802994  233.089996  382.179993  ...   \n",
       "\n",
       "             Open                                             Volume  \\\n",
       "               BA          FB         IBM         TSLA          AAPL   \n",
       "count  207.000000  206.000000  207.000000   207.000000  2.070000e+02   \n",
       "mean   192.584300  276.643047  130.003935   907.451208  9.199519e+07   \n",
       "std     30.961170   69.389712    6.327723   149.181215  2.723498e+07   \n",
       "min    116.650002  161.679993  115.000000   623.849976  4.100000e+07   \n",
       "25%    180.589996  205.380001  125.320000   775.735016  7.321885e+07   \n",
       "50%    202.229996  313.360001  131.259995   903.179993  8.847140e+07   \n",
       "75%    215.325005  335.728760  134.856598  1034.830017  1.074980e+08   \n",
       "max    232.940002  381.679993  142.979996  1234.410034  1.954327e+08   \n",
       "\n",
       "                                                                             \n",
       "               AMZN            BA            FB           IBM          TSLA  \n",
       "count  2.070000e+02  2.070000e+02  2.060000e+02  2.070000e+02  2.070000e+02  \n",
       "mean   7.454318e+07  9.904404e+06  2.844567e+07  5.365653e+06  2.629612e+07  \n",
       "std    3.319280e+07  4.319999e+06  1.880909e+07  3.018615e+06  9.199717e+06  \n",
       "min    3.360600e+07  4.515000e+06  7.511356e+06  2.009575e+06  1.168090e+07  \n",
       "25%    5.387700e+07  7.250300e+06  1.761630e+07  3.913070e+06  1.985045e+07  \n",
       "50%    6.519800e+07  8.825500e+06  2.490756e+07  4.856000e+06  2.492230e+07  \n",
       "75%    8.719700e+07  1.120145e+07  3.198699e+07  5.968450e+06  3.079245e+07  \n",
       "max    2.726620e+08  4.037170e+07  1.881199e+08  3.291396e+07  6.285210e+07  \n",
       "\n",
       "[8 rows x 36 columns]"
      ]
     },
     "execution_count": 23,
     "metadata": {},
     "output_type": "execute_result"
    }
   ],
   "source": [
    "df.describe()"
   ]
  },
  {
   "cell_type": "markdown",
   "id": "9d5d699e",
   "metadata": {},
   "source": [
    "### pandas_datareader module"
   ]
  },
  {
   "cell_type": "code",
   "execution_count": 25,
   "id": "8360eb9c",
   "metadata": {},
   "outputs": [
    {
     "data": {
      "text/plain": [
       "DatetimeIndex(['2021-08-25', '2021-08-26', '2021-08-27', '2021-08-30',\n",
       "               '2021-08-31', '2021-09-01', '2021-09-02', '2021-09-03',\n",
       "               '2021-09-07', '2021-09-08',\n",
       "               ...\n",
       "               '2022-06-07', '2022-06-08', '2022-06-09', '2022-06-10',\n",
       "               '2022-06-13', '2022-06-14', '2022-06-15', '2022-06-16',\n",
       "               '2022-06-17', '2022-06-21'],\n",
       "              dtype='datetime64[ns]', name='Date', length=207, freq=None)"
      ]
     },
     "execution_count": 25,
     "metadata": {},
     "output_type": "execute_result"
    }
   ],
   "source": [
    "df.index"
   ]
  },
  {
   "cell_type": "code",
   "execution_count": 27,
   "id": "54d8463b",
   "metadata": {},
   "outputs": [
    {
     "data": {
      "text/plain": [
       "MultiIndex([('Adj Close', 'AAPL'),\n",
       "            ('Adj Close', 'AMZN'),\n",
       "            ('Adj Close',   'BA'),\n",
       "            ('Adj Close',   'FB'),\n",
       "            ('Adj Close',  'IBM'),\n",
       "            ('Adj Close', 'TSLA'),\n",
       "            (    'Close', 'AAPL'),\n",
       "            (    'Close', 'AMZN'),\n",
       "            (    'Close',   'BA'),\n",
       "            (    'Close',   'FB'),\n",
       "            (    'Close',  'IBM'),\n",
       "            (    'Close', 'TSLA'),\n",
       "            (     'High', 'AAPL'),\n",
       "            (     'High', 'AMZN'),\n",
       "            (     'High',   'BA'),\n",
       "            (     'High',   'FB'),\n",
       "            (     'High',  'IBM'),\n",
       "            (     'High', 'TSLA'),\n",
       "            (      'Low', 'AAPL'),\n",
       "            (      'Low', 'AMZN'),\n",
       "            (      'Low',   'BA'),\n",
       "            (      'Low',   'FB'),\n",
       "            (      'Low',  'IBM'),\n",
       "            (      'Low', 'TSLA'),\n",
       "            (     'Open', 'AAPL'),\n",
       "            (     'Open', 'AMZN'),\n",
       "            (     'Open',   'BA'),\n",
       "            (     'Open',   'FB'),\n",
       "            (     'Open',  'IBM'),\n",
       "            (     'Open', 'TSLA'),\n",
       "            (   'Volume', 'AAPL'),\n",
       "            (   'Volume', 'AMZN'),\n",
       "            (   'Volume',   'BA'),\n",
       "            (   'Volume',   'FB'),\n",
       "            (   'Volume',  'IBM'),\n",
       "            (   'Volume', 'TSLA')],\n",
       "           )"
      ]
     },
     "execution_count": 27,
     "metadata": {},
     "output_type": "execute_result"
    }
   ],
   "source": [
    "df.columns"
   ]
  },
  {
   "cell_type": "code",
   "execution_count": null,
   "id": "16928d96",
   "metadata": {},
   "outputs": [],
   "source": [
    "#assess useful attribute easily "
   ]
  },
  {
   "cell_type": "code",
   "execution_count": 29,
   "id": "9edc7fee",
   "metadata": {},
   "outputs": [],
   "source": [
    "Close=df.Close"
   ]
  },
  {
   "cell_type": "code",
   "execution_count": 30,
   "id": "104a8aed",
   "metadata": {},
   "outputs": [
    {
     "data": {
      "text/html": [
       "<div>\n",
       "<style scoped>\n",
       "    .dataframe tbody tr th:only-of-type {\n",
       "        vertical-align: middle;\n",
       "    }\n",
       "\n",
       "    .dataframe tbody tr th {\n",
       "        vertical-align: top;\n",
       "    }\n",
       "\n",
       "    .dataframe thead th {\n",
       "        text-align: right;\n",
       "    }\n",
       "</style>\n",
       "<table border=\"1\" class=\"dataframe\">\n",
       "  <thead>\n",
       "    <tr style=\"text-align: right;\">\n",
       "      <th></th>\n",
       "      <th>AAPL</th>\n",
       "      <th>AMZN</th>\n",
       "      <th>BA</th>\n",
       "      <th>FB</th>\n",
       "      <th>IBM</th>\n",
       "      <th>TSLA</th>\n",
       "    </tr>\n",
       "    <tr>\n",
       "      <th>Date</th>\n",
       "      <th></th>\n",
       "      <th></th>\n",
       "      <th></th>\n",
       "      <th></th>\n",
       "      <th></th>\n",
       "      <th></th>\n",
       "    </tr>\n",
       "  </thead>\n",
       "  <tbody>\n",
       "    <tr>\n",
       "      <th>2021-08-25</th>\n",
       "      <td>148.360001</td>\n",
       "      <td>164.959000</td>\n",
       "      <td>221.029999</td>\n",
       "      <td>368.390015</td>\n",
       "      <td>133.709366</td>\n",
       "      <td>711.200012</td>\n",
       "    </tr>\n",
       "    <tr>\n",
       "      <th>2021-08-26</th>\n",
       "      <td>147.539993</td>\n",
       "      <td>165.800003</td>\n",
       "      <td>216.500000</td>\n",
       "      <td>364.380005</td>\n",
       "      <td>132.676865</td>\n",
       "      <td>701.159973</td>\n",
       "    </tr>\n",
       "    <tr>\n",
       "      <th>2021-08-27</th>\n",
       "      <td>148.600006</td>\n",
       "      <td>167.481506</td>\n",
       "      <td>221.750000</td>\n",
       "      <td>372.630005</td>\n",
       "      <td>133.279160</td>\n",
       "      <td>711.919983</td>\n",
       "    </tr>\n",
       "    <tr>\n",
       "      <th>2021-08-30</th>\n",
       "      <td>153.119995</td>\n",
       "      <td>171.078506</td>\n",
       "      <td>217.660004</td>\n",
       "      <td>380.660004</td>\n",
       "      <td>132.858505</td>\n",
       "      <td>730.909973</td>\n",
       "    </tr>\n",
       "    <tr>\n",
       "      <th>2021-08-31</th>\n",
       "      <td>151.830002</td>\n",
       "      <td>173.539505</td>\n",
       "      <td>219.500000</td>\n",
       "      <td>379.380005</td>\n",
       "      <td>134.168259</td>\n",
       "      <td>735.719971</td>\n",
       "    </tr>\n",
       "  </tbody>\n",
       "</table>\n",
       "</div>"
      ],
      "text/plain": [
       "                  AAPL        AMZN          BA          FB         IBM  \\\n",
       "Date                                                                     \n",
       "2021-08-25  148.360001  164.959000  221.029999  368.390015  133.709366   \n",
       "2021-08-26  147.539993  165.800003  216.500000  364.380005  132.676865   \n",
       "2021-08-27  148.600006  167.481506  221.750000  372.630005  133.279160   \n",
       "2021-08-30  153.119995  171.078506  217.660004  380.660004  132.858505   \n",
       "2021-08-31  151.830002  173.539505  219.500000  379.380005  134.168259   \n",
       "\n",
       "                  TSLA  \n",
       "Date                    \n",
       "2021-08-25  711.200012  \n",
       "2021-08-26  701.159973  \n",
       "2021-08-27  711.919983  \n",
       "2021-08-30  730.909973  \n",
       "2021-08-31  735.719971  "
      ]
     },
     "execution_count": 30,
     "metadata": {},
     "output_type": "execute_result"
    }
   ],
   "source": [
    "Close.head()"
   ]
  },
  {
   "cell_type": "code",
   "execution_count": 31,
   "id": "9a3fd1a9",
   "metadata": {},
   "outputs": [
    {
     "data": {
      "text/html": [
       "<div>\n",
       "<style scoped>\n",
       "    .dataframe tbody tr th:only-of-type {\n",
       "        vertical-align: middle;\n",
       "    }\n",
       "\n",
       "    .dataframe tbody tr th {\n",
       "        vertical-align: top;\n",
       "    }\n",
       "\n",
       "    .dataframe thead th {\n",
       "        text-align: right;\n",
       "    }\n",
       "</style>\n",
       "<table border=\"1\" class=\"dataframe\">\n",
       "  <thead>\n",
       "    <tr style=\"text-align: right;\">\n",
       "      <th></th>\n",
       "      <th>AAPL</th>\n",
       "      <th>AMZN</th>\n",
       "      <th>BA</th>\n",
       "      <th>FB</th>\n",
       "      <th>IBM</th>\n",
       "      <th>TSLA</th>\n",
       "    </tr>\n",
       "  </thead>\n",
       "  <tbody>\n",
       "    <tr>\n",
       "      <th>count</th>\n",
       "      <td>207.000000</td>\n",
       "      <td>207.000000</td>\n",
       "      <td>207.000000</td>\n",
       "      <td>206.000000</td>\n",
       "      <td>207.000000</td>\n",
       "      <td>207.000000</td>\n",
       "    </tr>\n",
       "    <tr>\n",
       "      <th>mean</th>\n",
       "      <td>158.566619</td>\n",
       "      <td>154.393162</td>\n",
       "      <td>192.187730</td>\n",
       "      <td>276.288739</td>\n",
       "      <td>130.050541</td>\n",
       "      <td>906.182896</td>\n",
       "    </tr>\n",
       "    <tr>\n",
       "      <th>std</th>\n",
       "      <td>12.646633</td>\n",
       "      <td>21.588743</td>\n",
       "      <td>30.940352</td>\n",
       "      <td>69.463682</td>\n",
       "      <td>6.414920</td>\n",
       "      <td>147.911657</td>\n",
       "    </tr>\n",
       "    <tr>\n",
       "      <th>min</th>\n",
       "      <td>130.059998</td>\n",
       "      <td>102.309998</td>\n",
       "      <td>115.860001</td>\n",
       "      <td>160.869995</td>\n",
       "      <td>115.809998</td>\n",
       "      <td>628.159973</td>\n",
       "    </tr>\n",
       "    <tr>\n",
       "      <th>25%</th>\n",
       "      <td>148.700005</td>\n",
       "      <td>145.175751</td>\n",
       "      <td>179.285004</td>\n",
       "      <td>206.520004</td>\n",
       "      <td>125.660000</td>\n",
       "      <td>775.109985</td>\n",
       "    </tr>\n",
       "    <tr>\n",
       "      <th>50%</th>\n",
       "      <td>159.220001</td>\n",
       "      <td>162.554001</td>\n",
       "      <td>203.660004</td>\n",
       "      <td>311.410004</td>\n",
       "      <td>131.350006</td>\n",
       "      <td>902.940002</td>\n",
       "    </tr>\n",
       "    <tr>\n",
       "      <th>75%</th>\n",
       "      <td>170.150002</td>\n",
       "      <td>170.410751</td>\n",
       "      <td>214.409996</td>\n",
       "      <td>335.362495</td>\n",
       "      <td>135.029999</td>\n",
       "      <td>1027.554993</td>\n",
       "    </tr>\n",
       "    <tr>\n",
       "      <th>max</th>\n",
       "      <td>182.009995</td>\n",
       "      <td>184.802994</td>\n",
       "      <td>233.089996</td>\n",
       "      <td>382.179993</td>\n",
       "      <td>142.880005</td>\n",
       "      <td>1229.910034</td>\n",
       "    </tr>\n",
       "  </tbody>\n",
       "</table>\n",
       "</div>"
      ],
      "text/plain": [
       "             AAPL        AMZN          BA          FB         IBM         TSLA\n",
       "count  207.000000  207.000000  207.000000  206.000000  207.000000   207.000000\n",
       "mean   158.566619  154.393162  192.187730  276.288739  130.050541   906.182896\n",
       "std     12.646633   21.588743   30.940352   69.463682    6.414920   147.911657\n",
       "min    130.059998  102.309998  115.860001  160.869995  115.809998   628.159973\n",
       "25%    148.700005  145.175751  179.285004  206.520004  125.660000   775.109985\n",
       "50%    159.220001  162.554001  203.660004  311.410004  131.350006   902.940002\n",
       "75%    170.150002  170.410751  214.409996  335.362495  135.029999  1027.554993\n",
       "max    182.009995  184.802994  233.089996  382.179993  142.880005  1229.910034"
      ]
     },
     "execution_count": 31,
     "metadata": {},
     "output_type": "execute_result"
    }
   ],
   "source": [
    "Close.describe()"
   ]
  },
  {
   "cell_type": "code",
   "execution_count": 34,
   "id": "31f47fde",
   "metadata": {},
   "outputs": [
    {
     "data": {
      "text/html": [
       "<div>\n",
       "<style scoped>\n",
       "    .dataframe tbody tr th:only-of-type {\n",
       "        vertical-align: middle;\n",
       "    }\n",
       "\n",
       "    .dataframe tbody tr th {\n",
       "        vertical-align: top;\n",
       "    }\n",
       "\n",
       "    .dataframe thead th {\n",
       "        text-align: right;\n",
       "    }\n",
       "</style>\n",
       "<table border=\"1\" class=\"dataframe\">\n",
       "  <thead>\n",
       "    <tr style=\"text-align: right;\">\n",
       "      <th></th>\n",
       "      <th>AAPL</th>\n",
       "      <th>AMZN</th>\n",
       "      <th>BA</th>\n",
       "      <th>FB</th>\n",
       "      <th>IBM</th>\n",
       "      <th>TSLA</th>\n",
       "    </tr>\n",
       "  </thead>\n",
       "  <tbody>\n",
       "    <tr>\n",
       "      <th>count</th>\n",
       "      <td>207.000000</td>\n",
       "      <td>207.000000</td>\n",
       "      <td>207.000000</td>\n",
       "      <td>206.000000</td>\n",
       "      <td>207.000000</td>\n",
       "      <td>207.000000</td>\n",
       "    </tr>\n",
       "    <tr>\n",
       "      <th>mean</th>\n",
       "      <td>158.566619</td>\n",
       "      <td>154.393162</td>\n",
       "      <td>192.187730</td>\n",
       "      <td>276.288739</td>\n",
       "      <td>130.050541</td>\n",
       "      <td>906.182896</td>\n",
       "    </tr>\n",
       "    <tr>\n",
       "      <th>std</th>\n",
       "      <td>12.646633</td>\n",
       "      <td>21.588743</td>\n",
       "      <td>30.940352</td>\n",
       "      <td>69.463682</td>\n",
       "      <td>6.414920</td>\n",
       "      <td>147.911657</td>\n",
       "    </tr>\n",
       "    <tr>\n",
       "      <th>min</th>\n",
       "      <td>130.059998</td>\n",
       "      <td>102.309998</td>\n",
       "      <td>115.860001</td>\n",
       "      <td>160.869995</td>\n",
       "      <td>115.809998</td>\n",
       "      <td>628.159973</td>\n",
       "    </tr>\n",
       "    <tr>\n",
       "      <th>10%</th>\n",
       "      <td>142.645996</td>\n",
       "      <td>114.996899</td>\n",
       "      <td>133.576001</td>\n",
       "      <td>191.010002</td>\n",
       "      <td>120.500954</td>\n",
       "      <td>722.269995</td>\n",
       "    </tr>\n",
       "    <tr>\n",
       "      <th>50%</th>\n",
       "      <td>159.220001</td>\n",
       "      <td>162.554001</td>\n",
       "      <td>203.660004</td>\n",
       "      <td>311.410004</td>\n",
       "      <td>131.350006</td>\n",
       "      <td>902.940002</td>\n",
       "    </tr>\n",
       "    <tr>\n",
       "      <th>90%</th>\n",
       "      <td>175.067999</td>\n",
       "      <td>174.185800</td>\n",
       "      <td>221.534000</td>\n",
       "      <td>350.259995</td>\n",
       "      <td>137.710983</td>\n",
       "      <td>1093.959961</td>\n",
       "    </tr>\n",
       "    <tr>\n",
       "      <th>max</th>\n",
       "      <td>182.009995</td>\n",
       "      <td>184.802994</td>\n",
       "      <td>233.089996</td>\n",
       "      <td>382.179993</td>\n",
       "      <td>142.880005</td>\n",
       "      <td>1229.910034</td>\n",
       "    </tr>\n",
       "  </tbody>\n",
       "</table>\n",
       "</div>"
      ],
      "text/plain": [
       "             AAPL        AMZN          BA          FB         IBM         TSLA\n",
       "count  207.000000  207.000000  207.000000  206.000000  207.000000   207.000000\n",
       "mean   158.566619  154.393162  192.187730  276.288739  130.050541   906.182896\n",
       "std     12.646633   21.588743   30.940352   69.463682    6.414920   147.911657\n",
       "min    130.059998  102.309998  115.860001  160.869995  115.809998   628.159973\n",
       "10%    142.645996  114.996899  133.576001  191.010002  120.500954   722.269995\n",
       "50%    159.220001  162.554001  203.660004  311.410004  131.350006   902.940002\n",
       "90%    175.067999  174.185800  221.534000  350.259995  137.710983  1093.959961\n",
       "max    182.009995  184.802994  233.089996  382.179993  142.880005  1229.910034"
      ]
     },
     "execution_count": 34,
     "metadata": {},
     "output_type": "execute_result"
    }
   ],
   "source": [
    "Close.describe(percentiles=[0.1,0.5,0.9])"
   ]
  },
  {
   "cell_type": "markdown",
   "id": "e4b0953c",
   "metadata": {},
   "source": [
    "### PLOTING WITH MATPLOTLIB VS PLOTLY "
   ]
  },
  {
   "cell_type": "code",
   "execution_count": 42,
   "id": "e3590b9c",
   "metadata": {},
   "outputs": [
    {
     "data": {
      "text/plain": [
       "<AxesSubplot:xlabel='Date'>"
      ]
     },
     "execution_count": 42,
     "metadata": {},
     "output_type": "execute_result"
    },
    {
     "data": {
      "image/png": "[encoded data removed]",
      "text/plain": [
       "<Figure size 1080x576 with 1 Axes>"
      ]
     },
     "metadata": {
      "needs_background": "light"
     },
     "output_type": "display_data"
    }
   ],
   "source": [
    "Close.plot(figsize=(15,8))"
   ]
  },
  {
   "cell_type": "markdown",
   "id": "b007e58c",
   "metadata": {},
   "source": [
    "### INSTALING PLOTLY IN JUPYTER NOTEBOOK "
   ]
  },
  {
   "cell_type": "code",
   "execution_count": 45,
   "id": "6462d074",
   "metadata": {},
   "outputs": [
    {
     "name": "stdout",
     "output_type": "stream",
     "text": [
      "Requirement already satisfied: plotly in c:\\users\\ibast\\anaconda3\\lib\\site-packages (5.8.2)\n",
      "Requirement already satisfied: tenacity>=6.2.0 in c:\\users\\ibast\\anaconda3\\lib\\site-packages (from plotly) (8.0.1)\n"
     ]
    }
   ],
   "source": [
    "!pip install plotly"
   ]
  },
  {
   "cell_type": "code",
   "execution_count": 53,
   "id": "ed66d10e",
   "metadata": {},
   "outputs": [
    {
     "data": {
      "text/html": [
       "        <script type=\"text/javascript\">\n",
       "        window.PlotlyConfig = {MathJaxConfig: 'local'};\n",
       "        if (window.MathJax && window.MathJax.Hub && window.MathJax.Hub.Config) {window.MathJax.Hub.Config({SVG: {font: \"STIX-Web\"}});}\n",
       "        if (typeof require !== 'undefined') {\n",
       "        require.undef(\"plotly\");\n",
       "        requirejs.config({\n",
       "            paths: {\n",
       "                'plotly': ['https://cdn.plot.ly/plotly-2.12.1.min']\n",
       "            }\n",
       "        });\n",
       "        require(['plotly'], function(Plotly) {\n",
       "            window._Plotly = Plotly;\n",
       "        });\n",
       "        }\n",
       "        </script>\n",
       "        "
      ]
     },
     "metadata": {},
     "output_type": "display_data"
    }
   ],
   "source": [
    "import plotly.offline as pyo\n",
    "pyo.init_notebook_mode(connected=True)\n",
    "pd.options.plotting.backend=\"plotly\""
   ]
  },
  {
   "cell_type": "code",
   "execution_count": 61,
   "id": "5dd792e2",
   "metadata": {},
   "outputs": [
    {
     "data": {
      "application/vnd.plotly.v1+json": {
       "config": {
        "plotlyServerURL": "https://plot.ly"
       },
       "data": [
        {
         "alignmentgroup": "True",
         "bingroup": "x",
         "hovertemplate": "variable=AAPL<br>value=%{x}<br>count=%{y}<extra></extra>",
         "legendgroup": "AAPL",
         "marker": {
          "color": "#636efa",
          "pattern": {
           "shape": ""
          }
         },
         "name": "AAPL",
         "offsetgroup": "AAPL",
         "orientation": "v",
         "showlegend": true,
         "type": "histogram",
         "x": [
          148.36000061035156,
          147.5399932861328,
          148.60000610351562,
          153.1199951171875,
          151.8300018310547,
          152.50999450683594,
          153.64999389648438,
          154.3000030517578,
          156.69000244140625,
          155.11000061035156,
          154.07000732421875,
          148.97000122070312,
          149.5500030517578,
          148.1199951171875,
          149.02999877929688,
          148.7899932861328,
          146.05999755859375,
          142.94000244140625,
          143.42999267578125,
          145.85000610351562,
          146.8300018310547,
          146.9199981689453,
          145.3699951171875,
          141.91000366210938,
          142.8300018310547,
          141.5,
          142.64999389648438,
          139.13999938964844,
          141.11000061035156,
          142,
          143.2899932861328,
          142.89999389648438,
          142.80999755859375,
          141.50999450683594,
          140.91000366210938,
          143.75999450683594,
          144.83999633789062,
          146.5500030517578,
          148.75999450683594,
          149.25999450683594,
          149.47999572753906,
          148.69000244140625,
          148.63999938964844,
          149.32000732421875,
          148.85000610351562,
          152.57000732421875,
          149.8000030517578,
          148.9600067138672,
          150.02000427246094,
          151.49000549316406,
          150.9600067138672,
          151.27999877929688,
          150.44000244140625,
          150.80999755859375,
          147.9199981689453,
          147.8699951171875,
          149.99000549316406,
          150,
          151,
          153.49000549316406,
          157.8699951171875,
          160.5500030517578,
          161.02000427246094,
          161.41000366210938,
          161.94000244140625,
          156.80999755859375,
          160.24000549316406,
          165.3000030517578,
          164.77000427246094,
          163.75999450683594,
          161.83999633789062,
          165.32000732421875,
          171.17999267578125,
          175.0800018310547,
          174.55999755859375,
          179.4499969482422,
          175.74000549316406,
          174.3300018310547,
          179.3000030517578,
          172.25999450683594,
          171.13999938964844,
          169.75,
          172.99000549316406,
          175.63999938964844,
          176.27999877929688,
          180.3300018310547,
          179.2899932861328,
          179.3800048828125,
          178.1999969482422,
          177.57000732421875,
          182.00999450683594,
          179.6999969482422,
          174.9199981689453,
          172,
          172.1699981689453,
          172.19000244140625,
          175.0800018310547,
          175.52999877929688,
          172.19000244140625,
          173.07000732421875,
          169.8000030517578,
          166.22999572753906,
          164.50999450683594,
          162.41000366210938,
          161.6199951171875,
          159.77999877929688,
          159.69000244140625,
          159.22000122070312,
          170.3300018310547,
          174.77999877929688,
          174.61000061035156,
          175.83999633789062,
          172.89999389648438,
          172.38999938964844,
          171.66000366210938,
          174.8300018310547,
          176.27999877929688,
          172.1199951171875,
          168.63999938964844,
          168.8800048828125,
          172.7899932861328,
          172.5500030517578,
          168.8800048828125,
          167.3000030517578,
          164.32000732421875,
          160.07000732421875,
          162.74000549316406,
          164.85000610351562,
          165.1199951171875,
          163.1999969482422,
          166.55999755859375,
          166.22999572753906,
          163.1699981689453,
          159.3000030517578,
          157.44000244140625,
          162.9499969482422,
          158.52000427246094,
          154.72999572753906,
          150.6199951171875,
          155.08999633789062,
          159.58999633789062,
          160.6199951171875,
          163.97999572753906,
          165.3800048828125,
          168.82000732421875,
          170.2100067138672,
          174.07000732421875,
          174.72000122070312,
          175.60000610351562,
          178.9600067138672,
          177.77000427246094,
          174.61000061035156,
          174.30999755859375,
          178.44000244140625,
          175.05999755859375,
          171.8300018310547,
          172.13999938964844,
          170.08999633789062,
          165.75,
          167.66000366210938,
          170.39999389648438,
          165.2899932861328,
          165.07000732421875,
          167.39999389648438,
          167.22999572753906,
          166.4199981689453,
          161.7899932861328,
          162.8800048828125,
          156.8000030517578,
          156.57000732421875,
          163.63999938964844,
          157.64999389648438,
          157.9600067138672,
          159.47999572753906,
          166.02000427246094,
          156.77000427246094,
          157.27999877929688,
          152.05999755859375,
          154.50999450683594,
          146.5,
          142.55999755859375,
          147.11000061035156,
          145.5399932861328,
          149.24000549316406,
          140.82000732421875,
          137.35000610351562,
          137.58999633789062,
          143.11000061035156,
          140.36000061035156,
          140.52000427246094,
          143.77999877929688,
          149.63999938964844,
          148.83999633789062,
          148.7100067138672,
          151.2100067138672,
          145.3800048828125,
          146.13999938964844,
          148.7100067138672,
          147.9600067138672,
          142.63999938964844,
          137.1300048828125,
          131.8800048828125,
          132.75999450683594,
          135.42999267578125,
          130.05999755859375,
          131.55999755859375,
          135.8699951171875
         ],
         "xaxis": "x",
         "yaxis": "y"
        },
        {
         "alignmentgroup": "True",
         "bingroup": "x",
         "hovertemplate": "variable=AMZN<br>value=%{x}<br>count=%{y}<extra></extra>",
         "legendgroup": "AMZN",
         "marker": {
          "color": "#EF553B",
          "pattern": {
           "shape": ""
          }
         },
         "name": "AMZN",
         "offsetgroup": "AMZN",
         "orientation": "v",
         "showlegend": true,
         "type": "histogram",
         "x": [
          164.95899963378906,
          165.8000030517578,
          167.48150634765625,
          171.07850646972656,
          173.5395050048828,
          173.9499969482422,
          173.156005859375,
          173.90249633789062,
          175.46449279785156,
          176.27499389648438,
          174.20799255371094,
          173.45750427246094,
          172.85850524902344,
          172.5,
          173.7895050048828,
          174.41200256347656,
          173.12600708007812,
          167.7864990234375,
          167.18150329589844,
          169.00250244140625,
          170.8000030517578,
          171.2760009765625,
          170.2899932861328,
          165.79800415039062,
          165.05599975585938,
          164.2519989013672,
          164.16299438476562,
          159.48899841308594,
          161.0500030517578,
          163.10049438476562,
          165.1215057373047,
          164.43099975585938,
          162.31500244140625,
          162.3665008544922,
          164.21400451660156,
          164.9929962158203,
          170.4510040283203,
          172.33700561523438,
          172.20750427246094,
          170.7530059814453,
          171.75050354003906,
          166.77749633789062,
          166.01849365234375,
          168.80349731445312,
          169.62449645996094,
          172.32850646972656,
          168.6215057373047,
          165.90550231933594,
          165.6374969482422,
          169.1999969482422,
          173.85000610351562,
          175.94949340820312,
          174.44900512695312,
          178.81149291992188,
          174.1024932861328,
          173.625,
          176.25750732421875,
          177.28399658203125,
          177.03500366210938,
          177.4499969482422,
          184.80299377441406,
          183.82850646972656,
          178.6284942626953,
          179.0019989013672,
          179.02049255371094,
          175.22799682617188,
          178.07850646972656,
          175.35350036621094,
          172.18600463867188,
          171.8679962158203,
          169.489501953125,
          171.36849975585938,
          176.1645050048828,
          176.1580047607422,
          174.17100524902344,
          172.21200561523438,
          169.5675048828125,
          169.0915069580078,
          173.31500244140625,
          168.87100219726562,
          170.0175018310547,
          167.07899475097656,
          170.41700744628906,
          171.03700256347656,
          171.06849670410156,
          169.66949462890625,
          170.66099548339844,
          169.2010040283203,
          168.64450073242188,
          166.7169952392578,
          170.4044952392578,
          167.52200317382812,
          164.35699462890625,
          163.25399780273438,
          162.5540008544922,
          161.48599243164062,
          165.36199951171875,
          165.20700073242188,
          161.21400451660156,
          162.13800048828125,
          158.91749572753906,
          156.2989959716797,
          151.66749572753906,
          142.64300537109375,
          144.54400634765625,
          139.98599243164062,
          138.87249755859375,
          139.6374969482422,
          143.97799682617188,
          149.57350158691406,
          151.19349670410156,
          150.6125030517578,
          138.8455047607422,
          157.63949584960938,
          157.9355010986328,
          161.4134979248047,
          161.1894989013672,
          159.0034942626953,
          153.2935028076172,
          155.16700744628906,
          156.510498046875,
          158.10049438476562,
          154.65249633789062,
          152.60150146484375,
          150.19749450683594,
          144.82699584960938,
          151.35800170898438,
          153.7884979248047,
          153.56300354003906,
          151.14199829101562,
          152.05250549316406,
          147.89849853515625,
          145.64100646972656,
          137.4530029296875,
          136.01449584960938,
          139.2790069580078,
          146.8175048828125,
          145.52450561523438,
          141.85299682617188,
          147.3665008544922,
          153.10400390625,
          157.23899841308594,
          161.25050354003906,
          161.4915008544922,
          164.88900756835938,
          163.4080047607422,
          163.64950561523438,
          164.77349853515625,
          168.99049377441406,
          169.31500244140625,
          166.30099487304688,
          162.99749755859375,
          163.55999755859375,
          168.34649658203125,
          164.05499267578125,
          158.75599670410156,
          157.7845001220703,
          154.4604949951172,
          151.1219940185547,
          150.78750610351562,
          155.54100036621094,
          151.7064971923828,
          152.78500366210938,
          158.11549377441406,
          153.9980010986328,
          148.29600524902344,
          144.35000610351562,
          146.07400512695312,
          139.39100646972656,
          138.16700744628906,
          144.59649658203125,
          124.28150177001953,
          124.5,
          124.25350189208984,
          125.92849731445312,
          116.40699768066406,
          114.77249908447266,
          108.78900146484375,
          108.85900115966797,
          105.37200164794922,
          106.93049621582031,
          113.05500030517578,
          110.81050109863281,
          115.36849975585938,
          107.11250305175781,
          107.31900024414062,
          107.59100341796875,
          107.55699920654297,
          104.0999984741211,
          106.7750015258789,
          111.07749938964844,
          115.14649963378906,
          120.20950317382812,
          121.68399810791016,
          125.51100158691406,
          122.3499984741211,
          124.79000091552734,
          123,
          121.18000030517578,
          116.1500015258789,
          109.6500015258789,
          103.66999816894531,
          102.30999755859375,
          107.66999816894531,
          103.66000366210938,
          106.22000122070312,
          108.68000030517578
         ],
         "xaxis": "x",
         "yaxis": "y"
        },
        {
         "alignmentgroup": "True",
         "bingroup": "x",
         "hovertemplate": "variable=BA<br>value=%{x}<br>count=%{y}<extra></extra>",
         "legendgroup": "BA",
         "marker": {
          "color": "#00cc96",
          "pattern": {
           "shape": ""
          }
         },
         "name": "BA",
         "offsetgroup": "BA",
         "orientation": "v",
         "showlegend": true,
         "type": "histogram",
         "x": [
          221.02999877929688,
          216.5,
          221.75,
          217.66000366210938,
          219.5,
          218.1199951171875,
          220.8300018310547,
          218.1699981689453,
          214.24000549316406,
          211.3800048828125,
          213.94000244140625,
          210.3000030517578,
          214.47999572753906,
          211.57000732421875,
          214.22000122070312,
          213.36000061035156,
          213.36000061035156,
          209.5,
          208.50999450683594,
          216.97999572753906,
          221.10000610351562,
          221.38999938964844,
          224.16000366210938,
          218.41000366210938,
          225.36000061035156,
          219.94000244140625,
          226,
          223.7899932861328,
          224.4199981689453,
          224.99000549316406,
          226.47999572753906,
          226.38999938964844,
          226.4499969482422,
          223.57000732421875,
          221.77999877929688,
          217.44000244140625,
          217.0399932861328,
          216.97999572753906,
          215.97000122070312,
          216.1699981689453,
          214.33999633789062,
          212.97000122070312,
          212.8699951171875,
          209.80999755859375,
          206.61000061035156,
          207.85000610351562,
          207.02999877929688,
          214.5800018310547,
          212.77000427246094,
          213.3800048828125,
          213.02999877929688,
          224.4600067138672,
          222.67999267578125,
          220.7899932861328,
          218.5,
          219.3800048828125,
          220.9600067138672,
          233.08999633789062,
          225.8000030517578,
          226.6199951171875,
          227.25,
          214.1300048828125,
          209.89999389648438,
          209.1300048828125,
          210.60000610351562,
          199.2100067138672,
          198.5,
          197.85000610351562,
          188.19000244140625,
          202.3800048828125,
          198.49000549316406,
          205.8800048828125,
          208.8300018310547,
          211.02999877929688,
          207.55999755859375,
          205.05999755859375,
          197.39999389648438,
          195.5,
          195.42999267578125,
          190.7899932861328,
          192.6300048828125,
          188.47999572753906,
          199.52000427246094,
          201.69000244140625,
          204.22000122070312,
          203.1699981689453,
          206.1300048828125,
          203.66000366210938,
          202.7100067138672,
          201.32000732421875,
          207.86000061035156,
          213.6300048828125,
          213.07000732421875,
          211.33999633789062,
          215.5,
          209.30999755859375,
          216.02000427246094,
          217.4499969482422,
          223.89999389648438,
          225.9600067138672,
          225.00999450683594,
          217.0800018310547,
          214.19000244140625,
          205.44000244140625,
          204.1999969482422,
          204.10000610351562,
          194.27000427246094,
          189.75,
          190.57000732421875,
          200.24000549316406,
          208.33999633789062,
          207.52000427246094,
          206.38999938964844,
          206.4499969482422,
          211.9199981689453,
          213.27000427246094,
          215.86000061035156,
          218.75,
          212.3000030517578,
          210.0399932861328,
          217.72999572753906,
          218.92999267578125,
          213.5800018310547,
          209.02999877929688,
          198.74000549316406,
          196.4199981689453,
          198.42999267578125,
          201.47999572753906,
          205.33999633789062,
          194.91000366210938,
          197.80999755859375,
          188.85000610351562,
          180.83999633789062,
          169.1699981689453,
          173.8000030517578,
          178.55999755859375,
          178.38999938964844,
          176.22999572753906,
          175.52000427246094,
          179.88999938964844,
          188.99000549316406,
          190.19000244140625,
          192.8300018310547,
          185.89999389648438,
          191.0399932861328,
          186.0399932861328,
          189.0500030517578,
          188.9499969482422,
          188.16000366210938,
          193.8000030517578,
          194.91000366210938,
          191.5,
          190.75999450683594,
          191.17999267578125,
          182.64999389648438,
          178.72000122070312,
          177.97000122070312,
          175.1999969482422,
          175.02999877929688,
          176.27999877929688,
          182.8699951171875,
          181.94000244140625,
          179.85000610351562,
          185.97999572753906,
          183.5500030517578,
          181.02000427246094,
          176.9199981689453,
          175.91000366210938,
          167.0399932861328,
          154.4600067138672,
          154.22000122070312,
          148.83999633789062,
          148.61000061035156,
          153.5800018310547,
          156.97000122070312,
          150.47000122070312,
          148.89999389648438,
          133.30999755859375,
          132.9499969482422,
          129.38999938964844,
          123.13999938964844,
          127.19999694824219,
          124.05000305175781,
          132.0500030517578,
          125.5199966430664,
          127.13999938964844,
          120.69999694824219,
          124.06999969482422,
          119.4000015258789,
          122.05999755859375,
          127.7300033569336,
          132.22999572753906,
          131.39999389648438,
          130.64999389648438,
          140.5,
          139.25,
          139.24000549316406,
          140.82000732421875,
          139.6300048828125,
          133.72999572753906,
          127,
          115.86000061035156,
          122.16000366210938,
          133.72000122070312,
          133.36000061035156,
          136.8000030517578,
          136.75
         ],
         "xaxis": "x",
         "yaxis": "y"
        },
        {
         "alignmentgroup": "True",
         "bingroup": "x",
         "hovertemplate": "variable=FB<br>value=%{x}<br>count=%{y}<extra></extra>",
         "legendgroup": "FB",
         "marker": {
          "color": "#ab63fa",
          "pattern": {
           "shape": ""
          }
         },
         "name": "FB",
         "offsetgroup": "FB",
         "orientation": "v",
         "showlegend": true,
         "type": "histogram",
         "x": [
          368.3900146484375,
          364.3800048828125,
          372.6300048828125,
          380.6600036621094,
          379.3800048828125,
          382.04998779296875,
          375.2799987792969,
          376.260009765625,
          382.17999267578125,
          377.57000732421875,
          378,
          378.69000244140625,
          376.510009765625,
          376.5299987792969,
          373.9200134277344,
          373.05999755859375,
          364.7200012207031,
          355.70001220703125,
          357.4800109863281,
          343.2099914550781,
          345.9599914550781,
          352.9599914550781,
          353.5799865722656,
          340.6499938964844,
          339.6099853515625,
          339.3900146484375,
          343.010009765625,
          326.2300109863281,
          332.9599914550781,
          333.6400146484375,
          329.2200012207031,
          330.04998779296875,
          325.45001220703125,
          323.7699890136719,
          324.5400085449219,
          328.5299987792969,
          324.760009765625,
          335.3399963378906,
          339.989990234375,
          340.7799987792969,
          341.8800048828125,
          324.6099853515625,
          328.69000244140625,
          315.80999755859375,
          312.2200012207031,
          316.9200134277344,
          323.57000732421875,
          329.9800109863281,
          328.0799865722656,
          331.6199951171875,
          335.8500061035156,
          341.1300048828125,
          338.6199951171875,
          335.3699951171875,
          327.6400146484375,
          327.739990234375,
          340.8900146484375,
          347.55999755859375,
          342.9599914550781,
          340.7699890136719,
          338.69000244140625,
          345.29998779296875,
          341.010009765625,
          337.25,
          341.05999755859375,
          333.1199951171875,
          338.0299987792969,
          324.4599914550781,
          310.6000061035156,
          310.3900146484375,
          306.8399963378906,
          317.8699951171875,
          322.80999755859375,
          330.55999755859375,
          329.82000732421875,
          329.75,
          334.489990234375,
          333.739990234375,
          341.6600036621094,
          334.8999938964844,
          333.7900085449219,
          325.45001220703125,
          334.20001220703125,
          330.45001220703125,
          335.239990234375,
          346.17999267578125,
          346.2200012207031,
          342.94000244140625,
          344.3599853515625,
          336.3500061035156,
          338.5400085449219,
          336.5299987792969,
          324.1700134277344,
          332.4599914550781,
          331.7900085449219,
          328.07000732421875,
          334.3699951171875,
          333.260009765625,
          326.4800109863281,
          331.8999938964844,
          318.1499938964844,
          319.5899963378906,
          316.55999755859375,
          303.1700134277344,
          308.7099914550781,
          300.1499938964844,
          294.6300048828125,
          294.6400146484375,
          301.7099914550781,
          313.260009765625,
          319,
          323,
          237.75999450683594,
          237.08999633789062,
          224.91000366210938,
          220.17999267578125,
          232,
          228.07000732421875,
          219.5500030517578,
          217.6999969482422,
          221,
          216.5399932861328,
          207.7100067138672,
          206.16000366210938,
          202.0800018310547,
          198.4499969482422,
          207.60000610351562,
          210.47999572753906,
          211.02999877929688,
          203.49000549316406,
          208.11000061035156,
          202.97000122070312,
          200.05999755859375,
          187.47000122070312,
          190.2899932861328,
          198.5,
          195.2100067138672,
          187.61000061035156,
          186.6300048828125,
          192.02999877929688,
          203.6300048828125,
          207.83999633789062,
          216.49000549316406,
          211.49000549316406,
          216.64999389648438,
          213.4600067138672,
          219.57000732421875,
          221.82000732421875,
          223.58999633789062,
          229.86000061035156,
          227.85000610351562,
          222.36000061035156,
          224.85000610351562,
          233.88999938964844,
          231.83999633789062,
          223.3000030517578,
          222.9499969482422,
          222.3300018310547,
          216.4600067138672,
          214.13999938964844,
          214.99000549316406,
          210.17999267578125,
          210.77000427246094,
          217.30999755859375,
          200.4199981689453,
          188.07000732421875,
          184.11000061035156,
          186.99000549316406,
          180.9499969482422,
          174.9499969482422,
          205.72999572753906,
          200.47000122070312,
          211.1300048828125,
          212.02999877929688,
          223.41000366210938,
          208.27999877929688,
          203.77000427246094,
          196.2100067138672,
          197.64999389648438,
          188.74000549316406,
          191.24000549316406,
          198.6199951171875,
          200.0399932861328,
          202.6199951171875,
          192.24000549316406,
          191.2899932861328,
          193.5399932861328,
          196.22999572753906,
          181.27999877929688,
          183.8300018310547,
          191.6300048828125,
          195.1300048828125,
          193.63999938964844,
          188.63999938964844,
          198.86000061035156,
          190.77999877929688,
          194.25,
          195.64999389648438,
          196.63999938964844,
          184,
          175.57000732421875,
          164.25999450683594,
          163.72999572753906,
          169.35000610351562,
          160.8699951171875,
          163.74000549316406,
          null
         ],
         "xaxis": "x",
         "yaxis": "y"
        },
        {
         "alignmentgroup": "True",
         "bingroup": "x",
         "hovertemplate": "variable=IBM<br>value=%{x}<br>count=%{y}<extra></extra>",
         "legendgroup": "IBM",
         "marker": {
          "color": "#FFA15A",
          "pattern": {
           "shape": ""
          }
         },
         "name": "IBM",
         "offsetgroup": "IBM",
         "orientation": "v",
         "showlegend": true,
         "type": "histogram",
         "x": [
          133.70936584472656,
          132.67686462402344,
          133.27915954589844,
          132.85850524902344,
          134.1682586669922,
          133.1739959716797,
          133.85276794433594,
          133.44168090820312,
          131.988525390625,
          132.5717010498047,
          131.68260192871094,
          130.9942626953125,
          132.07456970214844,
          130.2294464111328,
          131.16635131835938,
          130.43020629882812,
          129.28298950195312,
          128.4034423828125,
          127.12236785888672,
          128.70936584472656,
          130.71701049804688,
          131.44358825683594,
          132.46653747558594,
          131.42446899414062,
          133.0592803955078,
          132.8202667236328,
          137.0172119140625,
          137.7724609375,
          136.8546905517578,
          136.09942626953125,
          135.5736083984375,
          136.92160034179688,
          136.16635131835938,
          134.29254150390625,
          134.56979370117188,
          137.08413696289062,
          138.25047302246094,
          136.06118774414062,
          135.73614501953125,
          135.65965270996094,
          122.6864242553711,
          122.25621032714844,
          122.02677154541016,
          121.53919982910156,
          119.66539001464844,
          120.30592346191406,
          119.59847259521484,
          120.72657775878906,
          120.63097381591797,
          121.53919982910156,
          120.8499984741211,
          123.61000061035156,
          124.54000091552734,
          120.8499984741211,
          120.22000122070312,
          120.2699966430664,
          118.95999908447266,
          118.87000274658203,
          118.45999908447266,
          118.05999755859375,
          116.66000366210938,
          116.05000305175781,
          116.47000122070312,
          116.79000091552734,
          116.7300033569336,
          115.80999755859375,
          118.5,
          117.0999984741211,
          116.91999816894531,
          116.9000015258789,
          118.83999633789062,
          119.91000366210938,
          121.58000183105469,
          123.0199966430664,
          123.56999969482422,
          124.08999633789062,
          122.58000183105469,
          123.76000213623047,
          123.11000061035156,
          125.93000030517578,
          127.4000015258789,
          127.05999755859375,
          128.97000122070312,
          129.75,
          130.6300048828125,
          131.6199951171875,
          132.6300048828125,
          133.35000610351562,
          133.91000366210938,
          133.66000366210938,
          136.0399932861328,
          138.02000427246094,
          138.22000122070312,
          135.33999633789062,
          134.8300018310547,
          135.02999877929688,
          132.8699951171875,
          133.58999633789062,
          134.75999450683594,
          134.2100067138672,
          132.94000244140625,
          131.5800018310547,
          130.82000732421875,
          129.35000610351562,
          128.82000732421875,
          136.10000610351562,
          134.25999450683594,
          132.52000427246094,
          134.5,
          133.57000732421875,
          135.52999877929688,
          137.25,
          137.77999877929688,
          137.14999389648438,
          137.24000549316406,
          137.02000427246094,
          137.7899932861328,
          133.52000427246094,
          132.69000244140625,
          130.14999389648438,
          129.94000244140625,
          129.17999267578125,
          124.97000122070312,
          124.3499984741211,
          123.91999816894531,
          122.06999969482422,
          121.97000122070312,
          124.18000030517578,
          122.51000213623047,
          121.3499984741211,
          123.86000061035156,
          125.93000030517578,
          126.62000274658203,
          126.06999969482422,
          125.68000030517578,
          126.22000122070312,
          124.3499984741211,
          123.95999908447266,
          123.94000244140625,
          125.63999938964844,
          127.04000091552734,
          127.95999908447266,
          128.75999450683594,
          128.10000610351562,
          129.05999755859375,
          128.3000030517578,
          129.25,
          131.35000610351562,
          131.47000122070312,
          131.94000244140625,
          132.1300048828125,
          130.02000427246094,
          130.14999389648438,
          130.27000427246094,
          128.88999938964844,
          129.38999938964844,
          128.5500030517578,
          127.7300033569336,
          126.37000274658203,
          125.9800033569336,
          126.13999938964844,
          126.55999755859375,
          126.16999816894531,
          129.14999389648438,
          138.32000732421875,
          139.85000610351562,
          138.25,
          139.10000610351562,
          136.19000244140625,
          135.05999755859375,
          135.74000549316406,
          132.2100067138672,
          133.0399932861328,
          132.52000427246094,
          137.39999389648438,
          135.9199981689453,
          137.6699981689453,
          134.44000244140625,
          129.1300048828125,
          130.75,
          132.89999389648438,
          133.60000610351562,
          135.02999877929688,
          138.3699951171875,
          132.94000244140625,
          129.66000366210938,
          128.47999572753906,
          131.1699981689453,
          133.8000030517578,
          134.38999938964844,
          136.88999938964844,
          139.27000427246094,
          138.83999633789062,
          139.42999267578125,
          140.14999389648438,
          141.17999267578125,
          142.8800048828125,
          142.77999877929688,
          140.8300018310547,
          137.9600067138672,
          136.19000244140625,
          135.11000061035156,
          135.72000122070312,
          137.05999755859375,
          135.6699981689453,
          135.02000427246094,
          137.85000610351562
         ],
         "xaxis": "x",
         "yaxis": "y"
        },
        {
         "alignmentgroup": "True",
         "bingroup": "x",
         "hovertemplate": "variable=TSLA<br>value=%{x}<br>count=%{y}<extra></extra>",
         "legendgroup": "TSLA",
         "marker": {
          "color": "#19d3f3",
          "pattern": {
           "shape": ""
          }
         },
         "name": "TSLA",
         "offsetgroup": "TSLA",
         "orientation": "v",
         "showlegend": true,
         "type": "histogram",
         "x": [
          711.2000122070312,
          701.1599731445312,
          711.9199829101562,
          730.9099731445312,
          735.719970703125,
          734.0900268554688,
          732.3900146484375,
          733.5700073242188,
          752.9199829101562,
          753.8699951171875,
          754.8599853515625,
          736.27001953125,
          743,
          744.489990234375,
          755.8300170898438,
          756.989990234375,
          759.489990234375,
          730.1699829101562,
          739.3800048828125,
          751.9400024414062,
          753.6400146484375,
          774.3900146484375,
          791.3599853515625,
          777.5599975585938,
          781.3099975585938,
          775.47998046875,
          775.219970703125,
          781.530029296875,
          780.5900268554688,
          782.75,
          793.6099853515625,
          785.489990234375,
          791.9400024414062,
          805.719970703125,
          811.0800170898438,
          818.3200073242188,
          843.030029296875,
          870.1099853515625,
          864.27001953125,
          865.7999877929688,
          894,
          909.6799926757812,
          1024.8599853515625,
          1018.4299926757812,
          1037.8599853515625,
          1077.0400390625,
          1114,
          1208.5899658203125,
          1172,
          1213.8599853515625,
          1229.9100341796875,
          1222.0899658203125,
          1162.93994140625,
          1023.5,
          1067.949951171875,
          1063.510009765625,
          1033.4200439453125,
          1013.3900146484375,
          1054.72998046875,
          1089.010009765625,
          1096.3800048828125,
          1137.06005859375,
          1156.8699951171875,
          1109.030029296875,
          1116,
          1081.9200439453125,
          1136.989990234375,
          1144.760009765625,
          1095,
          1084.5999755859375,
          1014.969970703125,
          1009.010009765625,
          1051.75,
          1068.9599609375,
          1003.7999877929688,
          1017.030029296875,
          966.4099731445312,
          958.510009765625,
          975.989990234375,
          926.9199829101562,
          932.5700073242188,
          899.9400024414062,
          938.530029296875,
          1008.8699951171875,
          1067,
          1093.93994140625,
          1088.469970703125,
          1086.18994140625,
          1070.3399658203125,
          1056.780029296875,
          1199.780029296875,
          1149.5899658203125,
          1088.1199951171875,
          1064.699951171875,
          1026.9599609375,
          1058.1199951171875,
          1064.4000244140625,
          1106.219970703125,
          1031.56005859375,
          1049.6099853515625,
          1030.510009765625,
          995.6500244140625,
          996.27001953125,
          943.9000244140625,
          930,
          918.4000244140625,
          937.4099731445312,
          829.0999755859375,
          846.3499755859375,
          936.719970703125,
          931.25,
          905.6599731445312,
          891.1400146484375,
          923.3200073242188,
          907.3400268554688,
          922,
          932,
          904.5499877929688,
          860,
          875.760009765625,
          922.4299926757812,
          923.3900146484375,
          876.3499755859375,
          856.97998046875,
          821.530029296875,
          764.0399780273438,
          800.77001953125,
          809.8699951171875,
          870.4299926757812,
          864.3699951171875,
          879.8900146484375,
          839.2899780273438,
          838.2899780273438,
          804.5800170898438,
          824.4000244140625,
          858.969970703125,
          838.2999877929688,
          795.3499755859375,
          766.3699951171875,
          801.8900146484375,
          840.22998046875,
          871.5999755859375,
          905.3900146484375,
          921.1599731445312,
          993.97998046875,
          999.1099853515625,
          1013.9199829101562,
          1010.6400146484375,
          1091.8399658203125,
          1099.5699462890625,
          1093.989990234375,
          1077.5999755859375,
          1084.5899658203125,
          1145.449951171875,
          1091.260009765625,
          1045.760009765625,
          1057.260009765625,
          1025.489990234375,
          975.9299926757812,
          986.9500122070312,
          1022.3699951171875,
          985,
          1004.2899780273438,
          1028.1500244140625,
          977.2000122070312,
          1008.780029296875,
          1005.0499877929688,
          998.02001953125,
          876.4199829101562,
          881.510009765625,
          877.510009765625,
          870.760009765625,
          902.9400024414062,
          909.25,
          952.6199951171875,
          873.280029296875,
          865.6500244140625,
          787.1099853515625,
          800.0399780273438,
          734,
          728,
          769.5900268554688,
          724.3699951171875,
          761.6099853515625,
          709.8099975585938,
          709.4199829101562,
          663.9000244140625,
          674.9000244140625,
          628.1599731445312,
          658.7999877929688,
          707.72998046875,
          759.6300048828125,
          758.260009765625,
          740.3699951171875,
          775,
          703.5499877929688,
          714.8400268554688,
          716.6599731445312,
          725.5999755859375,
          719.1199951171875,
          696.6900024414062,
          647.2100219726562,
          662.6699829101562,
          699,
          639.2999877929688,
          650.280029296875,
          711.1099853515625
         ],
         "xaxis": "x",
         "yaxis": "y"
        }
       ],
       "layout": {
        "barmode": "relative",
        "legend": {
         "title": {
          "text": "variable"
         },
         "tracegroupgap": 0
        },
        "margin": {
         "t": 60
        },
        "template": {
         "data": {
          "bar": [
           {
            "error_x": {
             "color": "#2a3f5f"
            },
            "error_y": {
             "color": "#2a3f5f"
            },
            "marker": {
             "line": {
              "color": "#E5ECF6",
              "width": 0.5
             },
             "pattern": {
              "fillmode": "overlay",
              "size": 10,
              "solidity": 0.2
             }
            },
            "type": "bar"
           }
          ],
          "barpolar": [
           {
            "marker": {
             "line": {
              "color": "#E5ECF6",
              "width": 0.5
             },
             "pattern": {
              "fillmode": "overlay",
              "size": 10,
              "solidity": 0.2
             }
            },
            "type": "barpolar"
           }
          ],
          "carpet": [
           {
            "aaxis": {
             "endlinecolor": "#2a3f5f",
             "gridcolor": "white",
             "linecolor": "white",
             "minorgridcolor": "white",
             "startlinecolor": "#2a3f5f"
            },
            "baxis": {
             "endlinecolor": "#2a3f5f",
             "gridcolor": "white",
             "linecolor": "white",
             "minorgridcolor": "white",
             "startlinecolor": "#2a3f5f"
            },
            "type": "carpet"
           }
          ],
          "choropleth": [
           {
            "colorbar": {
             "outlinewidth": 0,
             "ticks": ""
            },
            "type": "choropleth"
           }
          ],
          "contour": [
           {
            "colorbar": {
             "outlinewidth": 0,
             "ticks": ""
            },
            "colorscale": [
             [
              0,
              "#0d0887"
             ],
             [
              0.1111111111111111,
              "#46039f"
             ],
             [
              0.2222222222222222,
              "#7201a8"
             ],
             [
              0.3333333333333333,
              "#9c179e"
             ],
             [
              0.4444444444444444,
              "#bd3786"
             ],
             [
              0.5555555555555556,
              "#d8576b"
             ],
             [
              0.6666666666666666,
              "#ed7953"
             ],
             [
              0.7777777777777778,
              "#fb9f3a"
             ],
             [
              0.8888888888888888,
              "#fdca26"
             ],
             [
              1,
              "#f0f921"
             ]
            ],
            "type": "contour"
           }
          ],
          "contourcarpet": [
           {
            "colorbar": {
             "outlinewidth": 0,
             "ticks": ""
            },
            "type": "contourcarpet"
           }
          ],
          "heatmap": [
           {
            "colorbar": {
             "outlinewidth": 0,
             "ticks": ""
            },
            "colorscale": [
             [
              0,
              "#0d0887"
             ],
             [
              0.1111111111111111,
              "#46039f"
             ],
             [
              0.2222222222222222,
              "#7201a8"
             ],
             [
              0.3333333333333333,
              "#9c179e"
             ],
             [
              0.4444444444444444,
              "#bd3786"
             ],
             [
              0.5555555555555556,
              "#d8576b"
             ],
             [
              0.6666666666666666,
              "#ed7953"
             ],
             [
              0.7777777777777778,
              "#fb9f3a"
             ],
             [
              0.8888888888888888,
              "#fdca26"
             ],
             [
              1,
              "#f0f921"
             ]
            ],
            "type": "heatmap"
           }
          ],
          "heatmapgl": [
           {
            "colorbar": {
             "outlinewidth": 0,
             "ticks": ""
            },
            "colorscale": [
             [
              0,
              "#0d0887"
             ],
             [
              0.1111111111111111,
              "#46039f"
             ],
             [
              0.2222222222222222,
              "#7201a8"
             ],
             [
              0.3333333333333333,
              "#9c179e"
             ],
             [
              0.4444444444444444,
              "#bd3786"
             ],
             [
              0.5555555555555556,
              "#d8576b"
             ],
             [
              0.6666666666666666,
              "#ed7953"
             ],
             [
              0.7777777777777778,
              "#fb9f3a"
             ],
             [
              0.8888888888888888,
              "#fdca26"
             ],
             [
              1,
              "#f0f921"
             ]
            ],
            "type": "heatmapgl"
           }
          ],
          "histogram": [
           {
            "marker": {
             "pattern": {
              "fillmode": "overlay",
              "size": 10,
              "solidity": 0.2
             }
            },
            "type": "histogram"
           }
          ],
          "histogram2d": [
           {
            "colorbar": {
             "outlinewidth": 0,
             "ticks": ""
            },
            "colorscale": [
             [
              0,
              "#0d0887"
             ],
             [
              0.1111111111111111,
              "#46039f"
             ],
             [
              0.2222222222222222,
              "#7201a8"
             ],
             [
              0.3333333333333333,
              "#9c179e"
             ],
             [
              0.4444444444444444,
              "#bd3786"
             ],
             [
              0.5555555555555556,
              "#d8576b"
             ],
             [
              0.6666666666666666,
              "#ed7953"
             ],
             [
              0.7777777777777778,
              "#fb9f3a"
             ],
             [
              0.8888888888888888,
              "#fdca26"
             ],
             [
              1,
              "#f0f921"
             ]
            ],
            "type": "histogram2d"
           }
          ],
          "histogram2dcontour": [
           {
            "colorbar": {
             "outlinewidth": 0,
             "ticks": ""
            },
            "colorscale": [
             [
              0,
              "#0d0887"
             ],
             [
              0.1111111111111111,
              "#46039f"
             ],
             [
              0.2222222222222222,
              "#7201a8"
             ],
             [
              0.3333333333333333,
              "#9c179e"
             ],
             [
              0.4444444444444444,
              "#bd3786"
             ],
             [
              0.5555555555555556,
              "#d8576b"
             ],
             [
              0.6666666666666666,
              "#ed7953"
             ],
             [
              0.7777777777777778,
              "#fb9f3a"
             ],
             [
              0.8888888888888888,
              "#fdca26"
             ],
             [
              1,
              "#f0f921"
             ]
            ],
            "type": "histogram2dcontour"
           }
          ],
          "mesh3d": [
           {
            "colorbar": {
             "outlinewidth": 0,
             "ticks": ""
            },
            "type": "mesh3d"
           }
          ],
          "parcoords": [
           {
            "line": {
             "colorbar": {
              "outlinewidth": 0,
              "ticks": ""
             }
            },
            "type": "parcoords"
           }
          ],
          "pie": [
           {
            "automargin": true,
            "type": "pie"
           }
          ],
          "scatter": [
           {
            "fillpattern": {
             "fillmode": "overlay",
             "size": 10,
             "solidity": 0.2
            },
            "type": "scatter"
           }
          ],
          "scatter3d": [
           {
            "line": {
             "colorbar": {
              "outlinewidth": 0,
              "ticks": ""
             }
            },
            "marker": {
             "colorbar": {
              "outlinewidth": 0,
              "ticks": ""
             }
            },
            "type": "scatter3d"
           }
          ],
          "scattercarpet": [
           {
            "marker": {
             "colorbar": {
              "outlinewidth": 0,
              "ticks": ""
             }
            },
            "type": "scattercarpet"
           }
          ],
          "scattergeo": [
           {
            "marker": {
             "colorbar": {
              "outlinewidth": 0,
              "ticks": ""
             }
            },
            "type": "scattergeo"
           }
          ],
          "scattergl": [
           {
            "marker": {
             "colorbar": {
              "outlinewidth": 0,
              "ticks": ""
             }
            },
            "type": "scattergl"
           }
          ],
          "scattermapbox": [
           {
            "marker": {
             "colorbar": {
              "outlinewidth": 0,
              "ticks": ""
             }
            },
            "type": "scattermapbox"
           }
          ],
          "scatterpolar": [
           {
            "marker": {
             "colorbar": {
              "outlinewidth": 0,
              "ticks": ""
             }
            },
            "type": "scatterpolar"
           }
          ],
          "scatterpolargl": [
           {
            "marker": {
             "colorbar": {
              "outlinewidth": 0,
              "ticks": ""
             }
            },
            "type": "scatterpolargl"
           }
          ],
          "scatterternary": [
           {
            "marker": {
             "colorbar": {
              "outlinewidth": 0,
              "ticks": ""
             }
            },
            "type": "scatterternary"
           }
          ],
          "surface": [
           {
            "colorbar": {
             "outlinewidth": 0,
             "ticks": ""
            },
            "colorscale": [
             [
              0,
              "#0d0887"
             ],
             [
              0.1111111111111111,
              "#46039f"
             ],
             [
              0.2222222222222222,
              "#7201a8"
             ],
             [
              0.3333333333333333,
              "#9c179e"
             ],
             [
              0.4444444444444444,
              "#bd3786"
             ],
             [
              0.5555555555555556,
              "#d8576b"
             ],
             [
              0.6666666666666666,
              "#ed7953"
             ],
             [
              0.7777777777777778,
              "#fb9f3a"
             ],
             [
              0.8888888888888888,
              "#fdca26"
             ],
             [
              1,
              "#f0f921"
             ]
            ],
            "type": "surface"
           }
          ],
          "table": [
           {
            "cells": {
             "fill": {
              "color": "#EBF0F8"
             },
             "line": {
              "color": "white"
             }
            },
            "header": {
             "fill": {
              "color": "#C8D4E3"
             },
             "line": {
              "color": "white"
             }
            },
            "type": "table"
           }
          ]
         },
         "layout": {
          "annotationdefaults": {
           "arrowcolor": "#2a3f5f",
           "arrowhead": 0,
           "arrowwidth": 1
          },
          "autotypenumbers": "strict",
          "coloraxis": {
           "colorbar": {
            "outlinewidth": 0,
            "ticks": ""
           }
          },
          "colorscale": {
           "diverging": [
            [
             0,
             "#8e0152"
            ],
            [
             0.1,
             "#c51b7d"
            ],
            [
             0.2,
             "#de77ae"
            ],
            [
             0.3,
             "#f1b6da"
            ],
            [
             0.4,
             "#fde0ef"
            ],
            [
             0.5,
             "#f7f7f7"
            ],
            [
             0.6,
             "#e6f5d0"
            ],
            [
             0.7,
             "#b8e186"
            ],
            [
             0.8,
             "#7fbc41"
            ],
            [
             0.9,
             "#4d9221"
            ],
            [
             1,
             "#276419"
            ]
           ],
           "sequential": [
            [
             0,
             "#0d0887"
            ],
            [
             0.1111111111111111,
             "#46039f"
            ],
            [
             0.2222222222222222,
             "#7201a8"
            ],
            [
             0.3333333333333333,
             "#9c179e"
            ],
            [
             0.4444444444444444,
             "#bd3786"
            ],
            [
             0.5555555555555556,
             "#d8576b"
            ],
            [
             0.6666666666666666,
             "#ed7953"
            ],
            [
             0.7777777777777778,
             "#fb9f3a"
            ],
            [
             0.8888888888888888,
             "#fdca26"
            ],
            [
             1,
             "#f0f921"
            ]
           ],
           "sequentialminus": [
            [
             0,
             "#0d0887"
            ],
            [
             0.1111111111111111,
             "#46039f"
            ],
            [
             0.2222222222222222,
             "#7201a8"
            ],
            [
             0.3333333333333333,
             "#9c179e"
            ],
            [
             0.4444444444444444,
             "#bd3786"
            ],
            [
             0.5555555555555556,
             "#d8576b"
            ],
            [
             0.6666666666666666,
             "#ed7953"
            ],
            [
             0.7777777777777778,
             "#fb9f3a"
            ],
            [
             0.8888888888888888,
             "#fdca26"
            ],
            [
             1,
             "#f0f921"
            ]
           ]
          },
          "colorway": [
           "#636efa",
           "#EF553B",
           "#00cc96",
           "#ab63fa",
           "#FFA15A",
           "#19d3f3",
           "#FF6692",
           "#B6E880",
           "#FF97FF",
           "#FECB52"
          ],
          "font": {
           "color": "#2a3f5f"
          },
          "geo": {
           "bgcolor": "white",
           "lakecolor": "white",
           "landcolor": "#E5ECF6",
           "showlakes": true,
           "showland": true,
           "subunitcolor": "white"
          },
          "hoverlabel": {
           "align": "left"
          },
          "hovermode": "closest",
          "mapbox": {
           "style": "light"
          },
          "paper_bgcolor": "white",
          "plot_bgcolor": "#E5ECF6",
          "polar": {
           "angularaxis": {
            "gridcolor": "white",
            "linecolor": "white",
            "ticks": ""
           },
           "bgcolor": "#E5ECF6",
           "radialaxis": {
            "gridcolor": "white",
            "linecolor": "white",
            "ticks": ""
           }
          },
          "scene": {
           "xaxis": {
            "backgroundcolor": "#E5ECF6",
            "gridcolor": "white",
            "gridwidth": 2,
            "linecolor": "white",
            "showbackground": true,
            "ticks": "",
            "zerolinecolor": "white"
           },
           "yaxis": {
            "backgroundcolor": "#E5ECF6",
            "gridcolor": "white",
            "gridwidth": 2,
            "linecolor": "white",
            "showbackground": true,
            "ticks": "",
            "zerolinecolor": "white"
           },
           "zaxis": {
            "backgroundcolor": "#E5ECF6",
            "gridcolor": "white",
            "gridwidth": 2,
            "linecolor": "white",
            "showbackground": true,
            "ticks": "",
            "zerolinecolor": "white"
           }
          },
          "shapedefaults": {
           "line": {
            "color": "#2a3f5f"
           }
          },
          "ternary": {
           "aaxis": {
            "gridcolor": "white",
            "linecolor": "white",
            "ticks": ""
           },
           "baxis": {
            "gridcolor": "white",
            "linecolor": "white",
            "ticks": ""
           },
           "bgcolor": "#E5ECF6",
           "caxis": {
            "gridcolor": "white",
            "linecolor": "white",
            "ticks": ""
           }
          },
          "title": {
           "x": 0.05
          },
          "xaxis": {
           "automargin": true,
           "gridcolor": "white",
           "linecolor": "white",
           "ticks": "",
           "title": {
            "standoff": 15
           },
           "zerolinecolor": "white",
           "zerolinewidth": 2
          },
          "yaxis": {
           "automargin": true,
           "gridcolor": "white",
           "linecolor": "white",
           "ticks": "",
           "title": {
            "standoff": 15
           },
           "zerolinecolor": "white",
           "zerolinewidth": 2
          }
         }
        },
        "xaxis": {
         "anchor": "y",
         "domain": [
          0,
          1
         ],
         "title": {
          "text": "value"
         }
        },
        "yaxis": {
         "anchor": "x",
         "domain": [
          0,
          1
         ],
         "title": {
          "text": "count"
         }
        }
       }
      },
      "text/html": [
       "<div>                            <div id=\"75ed280a-e9bd-4879-a846-ad97a914ff81\" class=\"plotly-graph-div\" style=\"height:525px; width:100%;\"></div>            <script type=\"text/javascript\">                require([\"plotly\"], function(Plotly) {                    window.PLOTLYENV=window.PLOTLYENV || {};                                    if (document.getElementById(\"75ed280a-e9bd-4879-a846-ad97a914ff81\")) {                    Plotly.newPlot(                        \"75ed280a-e9bd-4879-a846-ad97a914ff81\",                        [{\"alignmentgroup\":\"True\",\"bingroup\":\"x\",\"hovertemplate\":\"variable=AAPL<br>value=%{x}<br>count=%{y}<extra></extra>\",\"legendgroup\":\"AAPL\",\"marker\":{\"color\":\"#636efa\",\"pattern\":{\"shape\":\"\"}},\"name\":\"AAPL\",\"offsetgroup\":\"AAPL\",\"orientation\":\"v\",\"showlegend\":true,\"x\":[148.36000061035156,147.5399932861328,148.60000610351562,153.1199951171875,151.8300018310547,152.50999450683594,153.64999389648438,154.3000030517578,156.69000244140625,155.11000061035156,154.07000732421875,148.97000122070312,149.5500030517578,148.1199951171875,149.02999877929688,148.7899932861328,146.05999755859375,142.94000244140625,143.42999267578125,145.85000610351562,146.8300018310547,146.9199981689453,145.3699951171875,141.91000366210938,142.8300018310547,141.5,142.64999389648438,139.13999938964844,141.11000061035156,142.0,143.2899932861328,142.89999389648438,142.80999755859375,141.50999450683594,140.91000366210938,143.75999450683594,144.83999633789062,146.5500030517578,148.75999450683594,149.25999450683594,149.47999572753906,148.69000244140625,148.63999938964844,149.32000732421875,148.85000610351562,152.57000732421875,149.8000030517578,148.9600067138672,150.02000427246094,151.49000549316406,150.9600067138672,151.27999877929688,150.44000244140625,150.80999755859375,147.9199981689453,147.8699951171875,149.99000549316406,150.0,151.0,153.49000549316406,157.8699951171875,160.5500030517578,161.02000427246094,161.41000366210938,161.94000244140625,156.80999755859375,160.24000549316406,165.3000030517578,164.77000427246094,163.75999450683594,161.83999633789062,165.32000732421875,171.17999267578125,175.0800018310547,174.55999755859375,179.4499969482422,175.74000549316406,174.3300018310547,179.3000030517578,172.25999450683594,171.13999938964844,169.75,172.99000549316406,175.63999938964844,176.27999877929688,180.3300018310547,179.2899932861328,179.3800048828125,178.1999969482422,177.57000732421875,182.00999450683594,179.6999969482422,174.9199981689453,172.0,172.1699981689453,172.19000244140625,175.0800018310547,175.52999877929688,172.19000244140625,173.07000732421875,169.8000030517578,166.22999572753906,164.50999450683594,162.41000366210938,161.6199951171875,159.77999877929688,159.69000244140625,159.22000122070312,170.3300018310547,174.77999877929688,174.61000061035156,175.83999633789062,172.89999389648438,172.38999938964844,171.66000366210938,174.8300018310547,176.27999877929688,172.1199951171875,168.63999938964844,168.8800048828125,172.7899932861328,172.5500030517578,168.8800048828125,167.3000030517578,164.32000732421875,160.07000732421875,162.74000549316406,164.85000610351562,165.1199951171875,163.1999969482422,166.55999755859375,166.22999572753906,163.1699981689453,159.3000030517578,157.44000244140625,162.9499969482422,158.52000427246094,154.72999572753906,150.6199951171875,155.08999633789062,159.58999633789062,160.6199951171875,163.97999572753906,165.3800048828125,168.82000732421875,170.2100067138672,174.07000732421875,174.72000122070312,175.60000610351562,178.9600067138672,177.77000427246094,174.61000061035156,174.30999755859375,178.44000244140625,175.05999755859375,171.8300018310547,172.13999938964844,170.08999633789062,165.75,167.66000366210938,170.39999389648438,165.2899932861328,165.07000732421875,167.39999389648438,167.22999572753906,166.4199981689453,161.7899932861328,162.8800048828125,156.8000030517578,156.57000732421875,163.63999938964844,157.64999389648438,157.9600067138672,159.47999572753906,166.02000427246094,156.77000427246094,157.27999877929688,152.05999755859375,154.50999450683594,146.5,142.55999755859375,147.11000061035156,145.5399932861328,149.24000549316406,140.82000732421875,137.35000610351562,137.58999633789062,143.11000061035156,140.36000061035156,140.52000427246094,143.77999877929688,149.63999938964844,148.83999633789062,148.7100067138672,151.2100067138672,145.3800048828125,146.13999938964844,148.7100067138672,147.9600067138672,142.63999938964844,137.1300048828125,131.8800048828125,132.75999450683594,135.42999267578125,130.05999755859375,131.55999755859375,135.8699951171875],\"xaxis\":\"x\",\"yaxis\":\"y\",\"type\":\"histogram\"},{\"alignmentgroup\":\"True\",\"bingroup\":\"x\",\"hovertemplate\":\"variable=AMZN<br>value=%{x}<br>count=%{y}<extra></extra>\",\"legendgroup\":\"AMZN\",\"marker\":{\"color\":\"#EF553B\",\"pattern\":{\"shape\":\"\"}},\"name\":\"AMZN\",\"offsetgroup\":\"AMZN\",\"orientation\":\"v\",\"showlegend\":true,\"x\":[164.95899963378906,165.8000030517578,167.48150634765625,171.07850646972656,173.5395050048828,173.9499969482422,173.156005859375,173.90249633789062,175.46449279785156,176.27499389648438,174.20799255371094,173.45750427246094,172.85850524902344,172.5,173.7895050048828,174.41200256347656,173.12600708007812,167.7864990234375,167.18150329589844,169.00250244140625,170.8000030517578,171.2760009765625,170.2899932861328,165.79800415039062,165.05599975585938,164.2519989013672,164.16299438476562,159.48899841308594,161.0500030517578,163.10049438476562,165.1215057373047,164.43099975585938,162.31500244140625,162.3665008544922,164.21400451660156,164.9929962158203,170.4510040283203,172.33700561523438,172.20750427246094,170.7530059814453,171.75050354003906,166.77749633789062,166.01849365234375,168.80349731445312,169.62449645996094,172.32850646972656,168.6215057373047,165.90550231933594,165.6374969482422,169.1999969482422,173.85000610351562,175.94949340820312,174.44900512695312,178.81149291992188,174.1024932861328,173.625,176.25750732421875,177.28399658203125,177.03500366210938,177.4499969482422,184.80299377441406,183.82850646972656,178.6284942626953,179.0019989013672,179.02049255371094,175.22799682617188,178.07850646972656,175.35350036621094,172.18600463867188,171.8679962158203,169.489501953125,171.36849975585938,176.1645050048828,176.1580047607422,174.17100524902344,172.21200561523438,169.5675048828125,169.0915069580078,173.31500244140625,168.87100219726562,170.0175018310547,167.07899475097656,170.41700744628906,171.03700256347656,171.06849670410156,169.66949462890625,170.66099548339844,169.2010040283203,168.64450073242188,166.7169952392578,170.4044952392578,167.52200317382812,164.35699462890625,163.25399780273438,162.5540008544922,161.48599243164062,165.36199951171875,165.20700073242188,161.21400451660156,162.13800048828125,158.91749572753906,156.2989959716797,151.66749572753906,142.64300537109375,144.54400634765625,139.98599243164062,138.87249755859375,139.6374969482422,143.97799682617188,149.57350158691406,151.19349670410156,150.6125030517578,138.8455047607422,157.63949584960938,157.9355010986328,161.4134979248047,161.1894989013672,159.0034942626953,153.2935028076172,155.16700744628906,156.510498046875,158.10049438476562,154.65249633789062,152.60150146484375,150.19749450683594,144.82699584960938,151.35800170898438,153.7884979248047,153.56300354003906,151.14199829101562,152.05250549316406,147.89849853515625,145.64100646972656,137.4530029296875,136.01449584960938,139.2790069580078,146.8175048828125,145.52450561523438,141.85299682617188,147.3665008544922,153.10400390625,157.23899841308594,161.25050354003906,161.4915008544922,164.88900756835938,163.4080047607422,163.64950561523438,164.77349853515625,168.99049377441406,169.31500244140625,166.30099487304688,162.99749755859375,163.55999755859375,168.34649658203125,164.05499267578125,158.75599670410156,157.7845001220703,154.4604949951172,151.1219940185547,150.78750610351562,155.54100036621094,151.7064971923828,152.78500366210938,158.11549377441406,153.9980010986328,148.29600524902344,144.35000610351562,146.07400512695312,139.39100646972656,138.16700744628906,144.59649658203125,124.28150177001953,124.5,124.25350189208984,125.92849731445312,116.40699768066406,114.77249908447266,108.78900146484375,108.85900115966797,105.37200164794922,106.93049621582031,113.05500030517578,110.81050109863281,115.36849975585938,107.11250305175781,107.31900024414062,107.59100341796875,107.55699920654297,104.0999984741211,106.7750015258789,111.07749938964844,115.14649963378906,120.20950317382812,121.68399810791016,125.51100158691406,122.3499984741211,124.79000091552734,123.0,121.18000030517578,116.1500015258789,109.6500015258789,103.66999816894531,102.30999755859375,107.66999816894531,103.66000366210938,106.22000122070312,108.68000030517578],\"xaxis\":\"x\",\"yaxis\":\"y\",\"type\":\"histogram\"},{\"alignmentgroup\":\"True\",\"bingroup\":\"x\",\"hovertemplate\":\"variable=BA<br>value=%{x}<br>count=%{y}<extra></extra>\",\"legendgroup\":\"BA\",\"marker\":{\"color\":\"#00cc96\",\"pattern\":{\"shape\":\"\"}},\"name\":\"BA\",\"offsetgroup\":\"BA\",\"orientation\":\"v\",\"showlegend\":true,\"x\":[221.02999877929688,216.5,221.75,217.66000366210938,219.5,218.1199951171875,220.8300018310547,218.1699981689453,214.24000549316406,211.3800048828125,213.94000244140625,210.3000030517578,214.47999572753906,211.57000732421875,214.22000122070312,213.36000061035156,213.36000061035156,209.5,208.50999450683594,216.97999572753906,221.10000610351562,221.38999938964844,224.16000366210938,218.41000366210938,225.36000061035156,219.94000244140625,226.0,223.7899932861328,224.4199981689453,224.99000549316406,226.47999572753906,226.38999938964844,226.4499969482422,223.57000732421875,221.77999877929688,217.44000244140625,217.0399932861328,216.97999572753906,215.97000122070312,216.1699981689453,214.33999633789062,212.97000122070312,212.8699951171875,209.80999755859375,206.61000061035156,207.85000610351562,207.02999877929688,214.5800018310547,212.77000427246094,213.3800048828125,213.02999877929688,224.4600067138672,222.67999267578125,220.7899932861328,218.5,219.3800048828125,220.9600067138672,233.08999633789062,225.8000030517578,226.6199951171875,227.25,214.1300048828125,209.89999389648438,209.1300048828125,210.60000610351562,199.2100067138672,198.5,197.85000610351562,188.19000244140625,202.3800048828125,198.49000549316406,205.8800048828125,208.8300018310547,211.02999877929688,207.55999755859375,205.05999755859375,197.39999389648438,195.5,195.42999267578125,190.7899932861328,192.6300048828125,188.47999572753906,199.52000427246094,201.69000244140625,204.22000122070312,203.1699981689453,206.1300048828125,203.66000366210938,202.7100067138672,201.32000732421875,207.86000061035156,213.6300048828125,213.07000732421875,211.33999633789062,215.5,209.30999755859375,216.02000427246094,217.4499969482422,223.89999389648438,225.9600067138672,225.00999450683594,217.0800018310547,214.19000244140625,205.44000244140625,204.1999969482422,204.10000610351562,194.27000427246094,189.75,190.57000732421875,200.24000549316406,208.33999633789062,207.52000427246094,206.38999938964844,206.4499969482422,211.9199981689453,213.27000427246094,215.86000061035156,218.75,212.3000030517578,210.0399932861328,217.72999572753906,218.92999267578125,213.5800018310547,209.02999877929688,198.74000549316406,196.4199981689453,198.42999267578125,201.47999572753906,205.33999633789062,194.91000366210938,197.80999755859375,188.85000610351562,180.83999633789062,169.1699981689453,173.8000030517578,178.55999755859375,178.38999938964844,176.22999572753906,175.52000427246094,179.88999938964844,188.99000549316406,190.19000244140625,192.8300018310547,185.89999389648438,191.0399932861328,186.0399932861328,189.0500030517578,188.9499969482422,188.16000366210938,193.8000030517578,194.91000366210938,191.5,190.75999450683594,191.17999267578125,182.64999389648438,178.72000122070312,177.97000122070312,175.1999969482422,175.02999877929688,176.27999877929688,182.8699951171875,181.94000244140625,179.85000610351562,185.97999572753906,183.5500030517578,181.02000427246094,176.9199981689453,175.91000366210938,167.0399932861328,154.4600067138672,154.22000122070312,148.83999633789062,148.61000061035156,153.5800018310547,156.97000122070312,150.47000122070312,148.89999389648438,133.30999755859375,132.9499969482422,129.38999938964844,123.13999938964844,127.19999694824219,124.05000305175781,132.0500030517578,125.5199966430664,127.13999938964844,120.69999694824219,124.06999969482422,119.4000015258789,122.05999755859375,127.7300033569336,132.22999572753906,131.39999389648438,130.64999389648438,140.5,139.25,139.24000549316406,140.82000732421875,139.6300048828125,133.72999572753906,127.0,115.86000061035156,122.16000366210938,133.72000122070312,133.36000061035156,136.8000030517578,136.75],\"xaxis\":\"x\",\"yaxis\":\"y\",\"type\":\"histogram\"},{\"alignmentgroup\":\"True\",\"bingroup\":\"x\",\"hovertemplate\":\"variable=FB<br>value=%{x}<br>count=%{y}<extra></extra>\",\"legendgroup\":\"FB\",\"marker\":{\"color\":\"#ab63fa\",\"pattern\":{\"shape\":\"\"}},\"name\":\"FB\",\"offsetgroup\":\"FB\",\"orientation\":\"v\",\"showlegend\":true,\"x\":[368.3900146484375,364.3800048828125,372.6300048828125,380.6600036621094,379.3800048828125,382.04998779296875,375.2799987792969,376.260009765625,382.17999267578125,377.57000732421875,378.0,378.69000244140625,376.510009765625,376.5299987792969,373.9200134277344,373.05999755859375,364.7200012207031,355.70001220703125,357.4800109863281,343.2099914550781,345.9599914550781,352.9599914550781,353.5799865722656,340.6499938964844,339.6099853515625,339.3900146484375,343.010009765625,326.2300109863281,332.9599914550781,333.6400146484375,329.2200012207031,330.04998779296875,325.45001220703125,323.7699890136719,324.5400085449219,328.5299987792969,324.760009765625,335.3399963378906,339.989990234375,340.7799987792969,341.8800048828125,324.6099853515625,328.69000244140625,315.80999755859375,312.2200012207031,316.9200134277344,323.57000732421875,329.9800109863281,328.0799865722656,331.6199951171875,335.8500061035156,341.1300048828125,338.6199951171875,335.3699951171875,327.6400146484375,327.739990234375,340.8900146484375,347.55999755859375,342.9599914550781,340.7699890136719,338.69000244140625,345.29998779296875,341.010009765625,337.25,341.05999755859375,333.1199951171875,338.0299987792969,324.4599914550781,310.6000061035156,310.3900146484375,306.8399963378906,317.8699951171875,322.80999755859375,330.55999755859375,329.82000732421875,329.75,334.489990234375,333.739990234375,341.6600036621094,334.8999938964844,333.7900085449219,325.45001220703125,334.20001220703125,330.45001220703125,335.239990234375,346.17999267578125,346.2200012207031,342.94000244140625,344.3599853515625,336.3500061035156,338.5400085449219,336.5299987792969,324.1700134277344,332.4599914550781,331.7900085449219,328.07000732421875,334.3699951171875,333.260009765625,326.4800109863281,331.8999938964844,318.1499938964844,319.5899963378906,316.55999755859375,303.1700134277344,308.7099914550781,300.1499938964844,294.6300048828125,294.6400146484375,301.7099914550781,313.260009765625,319.0,323.0,237.75999450683594,237.08999633789062,224.91000366210938,220.17999267578125,232.0,228.07000732421875,219.5500030517578,217.6999969482422,221.0,216.5399932861328,207.7100067138672,206.16000366210938,202.0800018310547,198.4499969482422,207.60000610351562,210.47999572753906,211.02999877929688,203.49000549316406,208.11000061035156,202.97000122070312,200.05999755859375,187.47000122070312,190.2899932861328,198.5,195.2100067138672,187.61000061035156,186.6300048828125,192.02999877929688,203.6300048828125,207.83999633789062,216.49000549316406,211.49000549316406,216.64999389648438,213.4600067138672,219.57000732421875,221.82000732421875,223.58999633789062,229.86000061035156,227.85000610351562,222.36000061035156,224.85000610351562,233.88999938964844,231.83999633789062,223.3000030517578,222.9499969482422,222.3300018310547,216.4600067138672,214.13999938964844,214.99000549316406,210.17999267578125,210.77000427246094,217.30999755859375,200.4199981689453,188.07000732421875,184.11000061035156,186.99000549316406,180.9499969482422,174.9499969482422,205.72999572753906,200.47000122070312,211.1300048828125,212.02999877929688,223.41000366210938,208.27999877929688,203.77000427246094,196.2100067138672,197.64999389648438,188.74000549316406,191.24000549316406,198.6199951171875,200.0399932861328,202.6199951171875,192.24000549316406,191.2899932861328,193.5399932861328,196.22999572753906,181.27999877929688,183.8300018310547,191.6300048828125,195.1300048828125,193.63999938964844,188.63999938964844,198.86000061035156,190.77999877929688,194.25,195.64999389648438,196.63999938964844,184.0,175.57000732421875,164.25999450683594,163.72999572753906,169.35000610351562,160.8699951171875,163.74000549316406,null],\"xaxis\":\"x\",\"yaxis\":\"y\",\"type\":\"histogram\"},{\"alignmentgroup\":\"True\",\"bingroup\":\"x\",\"hovertemplate\":\"variable=IBM<br>value=%{x}<br>count=%{y}<extra></extra>\",\"legendgroup\":\"IBM\",\"marker\":{\"color\":\"#FFA15A\",\"pattern\":{\"shape\":\"\"}},\"name\":\"IBM\",\"offsetgroup\":\"IBM\",\"orientation\":\"v\",\"showlegend\":true,\"x\":[133.70936584472656,132.67686462402344,133.27915954589844,132.85850524902344,134.1682586669922,133.1739959716797,133.85276794433594,133.44168090820312,131.988525390625,132.5717010498047,131.68260192871094,130.9942626953125,132.07456970214844,130.2294464111328,131.16635131835938,130.43020629882812,129.28298950195312,128.4034423828125,127.12236785888672,128.70936584472656,130.71701049804688,131.44358825683594,132.46653747558594,131.42446899414062,133.0592803955078,132.8202667236328,137.0172119140625,137.7724609375,136.8546905517578,136.09942626953125,135.5736083984375,136.92160034179688,136.16635131835938,134.29254150390625,134.56979370117188,137.08413696289062,138.25047302246094,136.06118774414062,135.73614501953125,135.65965270996094,122.6864242553711,122.25621032714844,122.02677154541016,121.53919982910156,119.66539001464844,120.30592346191406,119.59847259521484,120.72657775878906,120.63097381591797,121.53919982910156,120.8499984741211,123.61000061035156,124.54000091552734,120.8499984741211,120.22000122070312,120.2699966430664,118.95999908447266,118.87000274658203,118.45999908447266,118.05999755859375,116.66000366210938,116.05000305175781,116.47000122070312,116.79000091552734,116.7300033569336,115.80999755859375,118.5,117.0999984741211,116.91999816894531,116.9000015258789,118.83999633789062,119.91000366210938,121.58000183105469,123.0199966430664,123.56999969482422,124.08999633789062,122.58000183105469,123.76000213623047,123.11000061035156,125.93000030517578,127.4000015258789,127.05999755859375,128.97000122070312,129.75,130.6300048828125,131.6199951171875,132.6300048828125,133.35000610351562,133.91000366210938,133.66000366210938,136.0399932861328,138.02000427246094,138.22000122070312,135.33999633789062,134.8300018310547,135.02999877929688,132.8699951171875,133.58999633789062,134.75999450683594,134.2100067138672,132.94000244140625,131.5800018310547,130.82000732421875,129.35000610351562,128.82000732421875,136.10000610351562,134.25999450683594,132.52000427246094,134.5,133.57000732421875,135.52999877929688,137.25,137.77999877929688,137.14999389648438,137.24000549316406,137.02000427246094,137.7899932861328,133.52000427246094,132.69000244140625,130.14999389648438,129.94000244140625,129.17999267578125,124.97000122070312,124.3499984741211,123.91999816894531,122.06999969482422,121.97000122070312,124.18000030517578,122.51000213623047,121.3499984741211,123.86000061035156,125.93000030517578,126.62000274658203,126.06999969482422,125.68000030517578,126.22000122070312,124.3499984741211,123.95999908447266,123.94000244140625,125.63999938964844,127.04000091552734,127.95999908447266,128.75999450683594,128.10000610351562,129.05999755859375,128.3000030517578,129.25,131.35000610351562,131.47000122070312,131.94000244140625,132.1300048828125,130.02000427246094,130.14999389648438,130.27000427246094,128.88999938964844,129.38999938964844,128.5500030517578,127.7300033569336,126.37000274658203,125.9800033569336,126.13999938964844,126.55999755859375,126.16999816894531,129.14999389648438,138.32000732421875,139.85000610351562,138.25,139.10000610351562,136.19000244140625,135.05999755859375,135.74000549316406,132.2100067138672,133.0399932861328,132.52000427246094,137.39999389648438,135.9199981689453,137.6699981689453,134.44000244140625,129.1300048828125,130.75,132.89999389648438,133.60000610351562,135.02999877929688,138.3699951171875,132.94000244140625,129.66000366210938,128.47999572753906,131.1699981689453,133.8000030517578,134.38999938964844,136.88999938964844,139.27000427246094,138.83999633789062,139.42999267578125,140.14999389648438,141.17999267578125,142.8800048828125,142.77999877929688,140.8300018310547,137.9600067138672,136.19000244140625,135.11000061035156,135.72000122070312,137.05999755859375,135.6699981689453,135.02000427246094,137.85000610351562],\"xaxis\":\"x\",\"yaxis\":\"y\",\"type\":\"histogram\"},{\"alignmentgroup\":\"True\",\"bingroup\":\"x\",\"hovertemplate\":\"variable=TSLA<br>value=%{x}<br>count=%{y}<extra></extra>\",\"legendgroup\":\"TSLA\",\"marker\":{\"color\":\"#19d3f3\",\"pattern\":{\"shape\":\"\"}},\"name\":\"TSLA\",\"offsetgroup\":\"TSLA\",\"orientation\":\"v\",\"showlegend\":true,\"x\":[711.2000122070312,701.1599731445312,711.9199829101562,730.9099731445312,735.719970703125,734.0900268554688,732.3900146484375,733.5700073242188,752.9199829101562,753.8699951171875,754.8599853515625,736.27001953125,743.0,744.489990234375,755.8300170898438,756.989990234375,759.489990234375,730.1699829101562,739.3800048828125,751.9400024414062,753.6400146484375,774.3900146484375,791.3599853515625,777.5599975585938,781.3099975585938,775.47998046875,775.219970703125,781.530029296875,780.5900268554688,782.75,793.6099853515625,785.489990234375,791.9400024414062,805.719970703125,811.0800170898438,818.3200073242188,843.030029296875,870.1099853515625,864.27001953125,865.7999877929688,894.0,909.6799926757812,1024.8599853515625,1018.4299926757812,1037.8599853515625,1077.0400390625,1114.0,1208.5899658203125,1172.0,1213.8599853515625,1229.9100341796875,1222.0899658203125,1162.93994140625,1023.5,1067.949951171875,1063.510009765625,1033.4200439453125,1013.3900146484375,1054.72998046875,1089.010009765625,1096.3800048828125,1137.06005859375,1156.8699951171875,1109.030029296875,1116.0,1081.9200439453125,1136.989990234375,1144.760009765625,1095.0,1084.5999755859375,1014.969970703125,1009.010009765625,1051.75,1068.9599609375,1003.7999877929688,1017.030029296875,966.4099731445312,958.510009765625,975.989990234375,926.9199829101562,932.5700073242188,899.9400024414062,938.530029296875,1008.8699951171875,1067.0,1093.93994140625,1088.469970703125,1086.18994140625,1070.3399658203125,1056.780029296875,1199.780029296875,1149.5899658203125,1088.1199951171875,1064.699951171875,1026.9599609375,1058.1199951171875,1064.4000244140625,1106.219970703125,1031.56005859375,1049.6099853515625,1030.510009765625,995.6500244140625,996.27001953125,943.9000244140625,930.0,918.4000244140625,937.4099731445312,829.0999755859375,846.3499755859375,936.719970703125,931.25,905.6599731445312,891.1400146484375,923.3200073242188,907.3400268554688,922.0,932.0,904.5499877929688,860.0,875.760009765625,922.4299926757812,923.3900146484375,876.3499755859375,856.97998046875,821.530029296875,764.0399780273438,800.77001953125,809.8699951171875,870.4299926757812,864.3699951171875,879.8900146484375,839.2899780273438,838.2899780273438,804.5800170898438,824.4000244140625,858.969970703125,838.2999877929688,795.3499755859375,766.3699951171875,801.8900146484375,840.22998046875,871.5999755859375,905.3900146484375,921.1599731445312,993.97998046875,999.1099853515625,1013.9199829101562,1010.6400146484375,1091.8399658203125,1099.5699462890625,1093.989990234375,1077.5999755859375,1084.5899658203125,1145.449951171875,1091.260009765625,1045.760009765625,1057.260009765625,1025.489990234375,975.9299926757812,986.9500122070312,1022.3699951171875,985.0,1004.2899780273438,1028.1500244140625,977.2000122070312,1008.780029296875,1005.0499877929688,998.02001953125,876.4199829101562,881.510009765625,877.510009765625,870.760009765625,902.9400024414062,909.25,952.6199951171875,873.280029296875,865.6500244140625,787.1099853515625,800.0399780273438,734.0,728.0,769.5900268554688,724.3699951171875,761.6099853515625,709.8099975585938,709.4199829101562,663.9000244140625,674.9000244140625,628.1599731445312,658.7999877929688,707.72998046875,759.6300048828125,758.260009765625,740.3699951171875,775.0,703.5499877929688,714.8400268554688,716.6599731445312,725.5999755859375,719.1199951171875,696.6900024414062,647.2100219726562,662.6699829101562,699.0,639.2999877929688,650.280029296875,711.1099853515625],\"xaxis\":\"x\",\"yaxis\":\"y\",\"type\":\"histogram\"}],                        {\"template\":{\"data\":{\"histogram2dcontour\":[{\"type\":\"histogram2dcontour\",\"colorbar\":{\"outlinewidth\":0,\"ticks\":\"\"},\"colorscale\":[[0.0,\"#0d0887\"],[0.1111111111111111,\"#46039f\"],[0.2222222222222222,\"#7201a8\"],[0.3333333333333333,\"#9c179e\"],[0.4444444444444444,\"#bd3786\"],[0.5555555555555556,\"#d8576b\"],[0.6666666666666666,\"#ed7953\"],[0.7777777777777778,\"#fb9f3a\"],[0.8888888888888888,\"#fdca26\"],[1.0,\"#f0f921\"]]}],\"choropleth\":[{\"type\":\"choropleth\",\"colorbar\":{\"outlinewidth\":0,\"ticks\":\"\"}}],\"histogram2d\":[{\"type\":\"histogram2d\",\"colorbar\":{\"outlinewidth\":0,\"ticks\":\"\"},\"colorscale\":[[0.0,\"#0d0887\"],[0.1111111111111111,\"#46039f\"],[0.2222222222222222,\"#7201a8\"],[0.3333333333333333,\"#9c179e\"],[0.4444444444444444,\"#bd3786\"],[0.5555555555555556,\"#d8576b\"],[0.6666666666666666,\"#ed7953\"],[0.7777777777777778,\"#fb9f3a\"],[0.8888888888888888,\"#fdca26\"],[1.0,\"#f0f921\"]]}],\"heatmap\":[{\"type\":\"heatmap\",\"colorbar\":{\"outlinewidth\":0,\"ticks\":\"\"},\"colorscale\":[[0.0,\"#0d0887\"],[0.1111111111111111,\"#46039f\"],[0.2222222222222222,\"#7201a8\"],[0.3333333333333333,\"#9c179e\"],[0.4444444444444444,\"#bd3786\"],[0.5555555555555556,\"#d8576b\"],[0.6666666666666666,\"#ed7953\"],[0.7777777777777778,\"#fb9f3a\"],[0.8888888888888888,\"#fdca26\"],[1.0,\"#f0f921\"]]}],\"heatmapgl\":[{\"type\":\"heatmapgl\",\"colorbar\":{\"outlinewidth\":0,\"ticks\":\"\"},\"colorscale\":[[0.0,\"#0d0887\"],[0.1111111111111111,\"#46039f\"],[0.2222222222222222,\"#7201a8\"],[0.3333333333333333,\"#9c179e\"],[0.4444444444444444,\"#bd3786\"],[0.5555555555555556,\"#d8576b\"],[0.6666666666666666,\"#ed7953\"],[0.7777777777777778,\"#fb9f3a\"],[0.8888888888888888,\"#fdca26\"],[1.0,\"#f0f921\"]]}],\"contourcarpet\":[{\"type\":\"contourcarpet\",\"colorbar\":{\"outlinewidth\":0,\"ticks\":\"\"}}],\"contour\":[{\"type\":\"contour\",\"colorbar\":{\"outlinewidth\":0,\"ticks\":\"\"},\"colorscale\":[[0.0,\"#0d0887\"],[0.1111111111111111,\"#46039f\"],[0.2222222222222222,\"#7201a8\"],[0.3333333333333333,\"#9c179e\"],[0.4444444444444444,\"#bd3786\"],[0.5555555555555556,\"#d8576b\"],[0.6666666666666666,\"#ed7953\"],[0.7777777777777778,\"#fb9f3a\"],[0.8888888888888888,\"#fdca26\"],[1.0,\"#f0f921\"]]}],\"surface\":[{\"type\":\"surface\",\"colorbar\":{\"outlinewidth\":0,\"ticks\":\"\"},\"colorscale\":[[0.0,\"#0d0887\"],[0.1111111111111111,\"#46039f\"],[0.2222222222222222,\"#7201a8\"],[0.3333333333333333,\"#9c179e\"],[0.4444444444444444,\"#bd3786\"],[0.5555555555555556,\"#d8576b\"],[0.6666666666666666,\"#ed7953\"],[0.7777777777777778,\"#fb9f3a\"],[0.8888888888888888,\"#fdca26\"],[1.0,\"#f0f921\"]]}],\"mesh3d\":[{\"type\":\"mesh3d\",\"colorbar\":{\"outlinewidth\":0,\"ticks\":\"\"}}],\"scatter\":[{\"fillpattern\":{\"fillmode\":\"overlay\",\"size\":10,\"solidity\":0.2},\"type\":\"scatter\"}],\"parcoords\":[{\"type\":\"parcoords\",\"line\":{\"colorbar\":{\"outlinewidth\":0,\"ticks\":\"\"}}}],\"scatterpolargl\":[{\"type\":\"scatterpolargl\",\"marker\":{\"colorbar\":{\"outlinewidth\":0,\"ticks\":\"\"}}}],\"bar\":[{\"error_x\":{\"color\":\"#2a3f5f\"},\"error_y\":{\"color\":\"#2a3f5f\"},\"marker\":{\"line\":{\"color\":\"#E5ECF6\",\"width\":0.5},\"pattern\":{\"fillmode\":\"overlay\",\"size\":10,\"solidity\":0.2}},\"type\":\"bar\"}],\"scattergeo\":[{\"type\":\"scattergeo\",\"marker\":{\"colorbar\":{\"outlinewidth\":0,\"ticks\":\"\"}}}],\"scatterpolar\":[{\"type\":\"scatterpolar\",\"marker\":{\"colorbar\":{\"outlinewidth\":0,\"ticks\":\"\"}}}],\"histogram\":[{\"marker\":{\"pattern\":{\"fillmode\":\"overlay\",\"size\":10,\"solidity\":0.2}},\"type\":\"histogram\"}],\"scattergl\":[{\"type\":\"scattergl\",\"marker\":{\"colorbar\":{\"outlinewidth\":0,\"ticks\":\"\"}}}],\"scatter3d\":[{\"type\":\"scatter3d\",\"line\":{\"colorbar\":{\"outlinewidth\":0,\"ticks\":\"\"}},\"marker\":{\"colorbar\":{\"outlinewidth\":0,\"ticks\":\"\"}}}],\"scattermapbox\":[{\"type\":\"scattermapbox\",\"marker\":{\"colorbar\":{\"outlinewidth\":0,\"ticks\":\"\"}}}],\"scatterternary\":[{\"type\":\"scatterternary\",\"marker\":{\"colorbar\":{\"outlinewidth\":0,\"ticks\":\"\"}}}],\"scattercarpet\":[{\"type\":\"scattercarpet\",\"marker\":{\"colorbar\":{\"outlinewidth\":0,\"ticks\":\"\"}}}],\"carpet\":[{\"aaxis\":{\"endlinecolor\":\"#2a3f5f\",\"gridcolor\":\"white\",\"linecolor\":\"white\",\"minorgridcolor\":\"white\",\"startlinecolor\":\"#2a3f5f\"},\"baxis\":{\"endlinecolor\":\"#2a3f5f\",\"gridcolor\":\"white\",\"linecolor\":\"white\",\"minorgridcolor\":\"white\",\"startlinecolor\":\"#2a3f5f\"},\"type\":\"carpet\"}],\"table\":[{\"cells\":{\"fill\":{\"color\":\"#EBF0F8\"},\"line\":{\"color\":\"white\"}},\"header\":{\"fill\":{\"color\":\"#C8D4E3\"},\"line\":{\"color\":\"white\"}},\"type\":\"table\"}],\"barpolar\":[{\"marker\":{\"line\":{\"color\":\"#E5ECF6\",\"width\":0.5},\"pattern\":{\"fillmode\":\"overlay\",\"size\":10,\"solidity\":0.2}},\"type\":\"barpolar\"}],\"pie\":[{\"automargin\":true,\"type\":\"pie\"}]},\"layout\":{\"autotypenumbers\":\"strict\",\"colorway\":[\"#636efa\",\"#EF553B\",\"#00cc96\",\"#ab63fa\",\"#FFA15A\",\"#19d3f3\",\"#FF6692\",\"#B6E880\",\"#FF97FF\",\"#FECB52\"],\"font\":{\"color\":\"#2a3f5f\"},\"hovermode\":\"closest\",\"hoverlabel\":{\"align\":\"left\"},\"paper_bgcolor\":\"white\",\"plot_bgcolor\":\"#E5ECF6\",\"polar\":{\"bgcolor\":\"#E5ECF6\",\"angularaxis\":{\"gridcolor\":\"white\",\"linecolor\":\"white\",\"ticks\":\"\"},\"radialaxis\":{\"gridcolor\":\"white\",\"linecolor\":\"white\",\"ticks\":\"\"}},\"ternary\":{\"bgcolor\":\"#E5ECF6\",\"aaxis\":{\"gridcolor\":\"white\",\"linecolor\":\"white\",\"ticks\":\"\"},\"baxis\":{\"gridcolor\":\"white\",\"linecolor\":\"white\",\"ticks\":\"\"},\"caxis\":{\"gridcolor\":\"white\",\"linecolor\":\"white\",\"ticks\":\"\"}},\"coloraxis\":{\"colorbar\":{\"outlinewidth\":0,\"ticks\":\"\"}},\"colorscale\":{\"sequential\":[[0.0,\"#0d0887\"],[0.1111111111111111,\"#46039f\"],[0.2222222222222222,\"#7201a8\"],[0.3333333333333333,\"#9c179e\"],[0.4444444444444444,\"#bd3786\"],[0.5555555555555556,\"#d8576b\"],[0.6666666666666666,\"#ed7953\"],[0.7777777777777778,\"#fb9f3a\"],[0.8888888888888888,\"#fdca26\"],[1.0,\"#f0f921\"]],\"sequentialminus\":[[0.0,\"#0d0887\"],[0.1111111111111111,\"#46039f\"],[0.2222222222222222,\"#7201a8\"],[0.3333333333333333,\"#9c179e\"],[0.4444444444444444,\"#bd3786\"],[0.5555555555555556,\"#d8576b\"],[0.6666666666666666,\"#ed7953\"],[0.7777777777777778,\"#fb9f3a\"],[0.8888888888888888,\"#fdca26\"],[1.0,\"#f0f921\"]],\"diverging\":[[0,\"#8e0152\"],[0.1,\"#c51b7d\"],[0.2,\"#de77ae\"],[0.3,\"#f1b6da\"],[0.4,\"#fde0ef\"],[0.5,\"#f7f7f7\"],[0.6,\"#e6f5d0\"],[0.7,\"#b8e186\"],[0.8,\"#7fbc41\"],[0.9,\"#4d9221\"],[1,\"#276419\"]]},\"xaxis\":{\"gridcolor\":\"white\",\"linecolor\":\"white\",\"ticks\":\"\",\"title\":{\"standoff\":15},\"zerolinecolor\":\"white\",\"automargin\":true,\"zerolinewidth\":2},\"yaxis\":{\"gridcolor\":\"white\",\"linecolor\":\"white\",\"ticks\":\"\",\"title\":{\"standoff\":15},\"zerolinecolor\":\"white\",\"automargin\":true,\"zerolinewidth\":2},\"scene\":{\"xaxis\":{\"backgroundcolor\":\"#E5ECF6\",\"gridcolor\":\"white\",\"linecolor\":\"white\",\"showbackground\":true,\"ticks\":\"\",\"zerolinecolor\":\"white\",\"gridwidth\":2},\"yaxis\":{\"backgroundcolor\":\"#E5ECF6\",\"gridcolor\":\"white\",\"linecolor\":\"white\",\"showbackground\":true,\"ticks\":\"\",\"zerolinecolor\":\"white\",\"gridwidth\":2},\"zaxis\":{\"backgroundcolor\":\"#E5ECF6\",\"gridcolor\":\"white\",\"linecolor\":\"white\",\"showbackground\":true,\"ticks\":\"\",\"zerolinecolor\":\"white\",\"gridwidth\":2}},\"shapedefaults\":{\"line\":{\"color\":\"#2a3f5f\"}},\"annotationdefaults\":{\"arrowcolor\":\"#2a3f5f\",\"arrowhead\":0,\"arrowwidth\":1},\"geo\":{\"bgcolor\":\"white\",\"landcolor\":\"#E5ECF6\",\"subunitcolor\":\"white\",\"showland\":true,\"showlakes\":true,\"lakecolor\":\"white\"},\"title\":{\"x\":0.05},\"mapbox\":{\"style\":\"light\"}}},\"xaxis\":{\"anchor\":\"y\",\"domain\":[0.0,1.0],\"title\":{\"text\":\"value\"}},\"yaxis\":{\"anchor\":\"x\",\"domain\":[0.0,1.0],\"title\":{\"text\":\"count\"}},\"legend\":{\"title\":{\"text\":\"variable\"},\"tracegroupgap\":0},\"margin\":{\"t\":60},\"barmode\":\"relative\"},                        {\"responsive\": true}                    ).then(function(){\n",
       "                            \n",
       "var gd = document.getElementById('75ed280a-e9bd-4879-a846-ad97a914ff81');\n",
       "var x = new MutationObserver(function (mutations, observer) {{\n",
       "        var display = window.getComputedStyle(gd).display;\n",
       "        if (!display || display === 'none') {{\n",
       "            console.log([gd, 'removed!']);\n",
       "            Plotly.purge(gd);\n",
       "            observer.disconnect();\n",
       "        }}\n",
       "}});\n",
       "\n",
       "// Listen for the removal of the full notebook cells\n",
       "var notebookContainer = gd.closest('#notebook-container');\n",
       "if (notebookContainer) {{\n",
       "    x.observe(notebookContainer, {childList: true});\n",
       "}}\n",
       "\n",
       "// Listen for the clearing of the current output cell\n",
       "var outputEl = gd.closest('.output');\n",
       "if (outputEl) {{\n",
       "    x.observe(outputEl, {childList: true});\n",
       "}}\n",
       "\n",
       "                        })                };                });            </script>        </div>"
      ]
     },
     "metadata": {},
     "output_type": "display_data"
    }
   ],
   "source": [
    "Close.plot(kind=\"hist\")"
   ]
  },
  {
   "cell_type": "code",
   "execution_count": 64,
   "id": "93b6ef44",
   "metadata": {},
   "outputs": [
    {
     "data": {
      "application/vnd.plotly.v1+json": {
       "config": {
        "plotlyServerURL": "https://plot.ly"
       },
       "data": [
        {
         "alignmentgroup": "True",
         "bingroup": "x",
         "hovertemplate": "variable=AAPL<br>value=%{x}<br>count=%{y}<extra></extra>",
         "legendgroup": "AAPL",
         "marker": {
          "color": "#636efa",
          "pattern": {
           "shape": ""
          }
         },
         "name": "AAPL",
         "offsetgroup": "AAPL",
         "orientation": "v",
         "showlegend": true,
         "type": "histogram",
         "x": [
          null,
          -0.005527145597501004,
          0.007184579541948732,
          0.03041715227469921,
          -0.008424721311841354,
          0.004478644981759983,
          0.007474915944589711,
          0.0042304535053308,
          0.01548930228372547,
          -0.010083616098260806,
          -0.006704875778740793,
          -0.03310187486902216,
          0.003893413615506436,
          -0.009562072252685905,
          0.006143692223250508,
          -0.0016104508832446296,
          -0.018347979371765355,
          -0.02136105141269684,
          0.003427943374884501,
          0.016872436389261614,
          0.0067192025130498045,
          0.0006129288072487249,
          -0.010549980064493591,
          -0.0238012765446467,
          0.006482969101571312,
          -0.009311781936598096,
          0.00812716534617941,
          -0.02460564077824645,
          0.014158410445197056,
          0.00630713192402288,
          0.009084459761498742,
          -0.00272174895611621,
          -0.0006297854565047167,
          -0.009103025516294383,
          -0.004239918507647045,
          0.02022561046524851,
          0.007512533892058082,
          0.01180617755525204,
          0.01508011879261173,
          0.003361118704377386,
          0.0014739463272126496,
          -0.005284943194491021,
          -0.0003362906109138919,
          0.004574865025313457,
          -0.0031476104851951847,
          0.02499160946030532,
          -0.0181556278395828,
          -0.005607452074619768,
          0.007115987586049588,
          0.009798701365408391,
          -0.003498572579567205,
          0.0021197141706292832,
          -0.005552593499925207,
          0.0024594197765426262,
          -0.01916318172822462,
          -0.0003380411869712274,
          0.014336988205730705,
          6.663448543164918e-05,
          0.006666666666666599,
          0.016490102603735624,
          0.02853599235957094,
          0.016976043690765552,
          0.002927444483147079,
          0.0024220555167078217,
          0.003283555958565998,
          -0.031678429081589354,
          0.02187365594013646,
          0.031577617231232535,
          -0.003206284147078464,
          -0.006129815739731703,
          -0.011724464053185835,
          0.021502787105003085,
          0.035446316791349686,
          0.02278308985945654,
          -0.0029700951966102895,
          0.028013287454401015,
          -0.020674235264256824,
          -0.008023236702153325,
          0.02850915601733095,
          -0.039263850669816525,
          -0.006501771466984829,
          -0.00812200183829448,
          0.01908692484927288,
          0.01531876878626437,
          0.0036438134358485197,
          0.022974830268908786,
          -0.00576725189575622,
          0.0005020447322792165,
          -0.006578257901939555,
          -0.0035352953693170708,
          0.025004150472947684,
          -0.012691597320536152,
          -0.02659988236212174,
          -0.016693335236175,
          0.0009883614473564784,
          0.00011618907285648739,
          0.016783781570778755,
          0.0025702361408266317,
          -0.019028065636177538,
          0.005110661887074208,
          -0.018894112983626976,
          -0.021024777738847034,
          -0.010347117036099251,
          -0.01276512622240289,
          -0.00486428500159064,
          -0.011384707297859231,
          -0.0005632515870458432,
          -0.0029432100539642514,
          0.06977766942076213,
          0.026125737688043937,
          -0.0009726408635577499,
          0.007044245594408194,
          -0.016719759455390393,
          -0.0029496502304173777,
          -0.004234559603942367,
          0.018466725511581794,
          0.008293753549481586,
          -0.02359884099680365,
          -0.020218427993619836,
          0.0014231824835904128,
          0.023152465006342826,
          -0.0013889128057177347,
          -0.021269186346200564,
          -0.009355766137921773,
          -0.017812287347162448,
          -0.02586416632525068,
          0.01668019020913314,
          0.012965469700934706,
          0.0016377858882354879,
          -0.011627896231359958,
          0.02058823941900667,
          -0.001981279033932526,
          -0.01840821534766368,
          -0.02371756548762427,
          -0.011676086470301161,
          0.034997423916368176,
          -0.027186209013482565,
          -0.02390870831928371,
          -0.026562403695717718,
          0.029677342754030223,
          0.02901541109199557,
          0.006454030972694147,
          0.020918943546848645,
          0.008537682593916074,
          0.0208005946295855,
          0.008233617636201895,
          0.02267787120671727,
          0.003734094727035453,
          0.005036657947940837,
          0.019134399166084615,
          -0.006649544014093012,
          -0.017775797863323284,
          -0.0017181321270783867,
          0.023693448113463633,
          -0.018941968373500706,
          -0.018450792714411857,
          0.0018040944846089424,
          -0.01190892912179875,
          -0.025515882364234077,
          0.01152340067637625,
          0.016342539511671417,
          -0.02998826756681583,
          -0.0013309091345490298,
          0.014115141872437453,
          -0.0010155207595194948,
          -0.004843614060203949,
          -0.02782120498590701,
          0.006737200333224225,
          -0.03732810442527357,
          -0.001466809458308127,
          0.04515546870218534,
          -0.036604775821961866,
          0.0019664626031408172,
          0.009622619328101267,
          0.0410083315784322,
          -0.05571617733980727,
          0.0032531383104996703,
          -0.03318922470255159,
          0.01611204121779708,
          -0.05184127106082803,
          -0.026894214617107504,
          0.03191640803646689,
          -0.010672335787539122,
          0.02542264929033622,
          -0.056419176219683176,
          -0.024641393553644142,
          0.0017472895792529641,
          0.04011922682885327,
          -0.019215987619813357,
          0.0011399519906925004,
          0.02319950475175747,
          0.04075671623385313,
          -0.005346184543042365,
          -0.0008733514325567349,
          0.016811242600575316,
          -0.03855566147871903,
          0.005227641225136415,
          0.017585926747997416,
          -0.005043372780172639,
          -0.0359557115626985,
          -0.038628677302390724,
          -0.03828483784046022,
          0.006672653862921818,
          0.020111466401181888,
          -0.039651446559871295,
          0.011533138767930717,
          0.032760699593918474
         ],
         "xaxis": "x",
         "yaxis": "y"
        }
       ],
       "layout": {
        "barmode": "relative",
        "legend": {
         "title": {
          "text": "variable"
         },
         "tracegroupgap": 0
        },
        "margin": {
         "t": 60
        },
        "template": {
         "data": {
          "bar": [
           {
            "error_x": {
             "color": "#2a3f5f"
            },
            "error_y": {
             "color": "#2a3f5f"
            },
            "marker": {
             "line": {
              "color": "#E5ECF6",
              "width": 0.5
             },
             "pattern": {
              "fillmode": "overlay",
              "size": 10,
              "solidity": 0.2
             }
            },
            "type": "bar"
           }
          ],
          "barpolar": [
           {
            "marker": {
             "line": {
              "color": "#E5ECF6",
              "width": 0.5
             },
             "pattern": {
              "fillmode": "overlay",
              "size": 10,
              "solidity": 0.2
             }
            },
            "type": "barpolar"
           }
          ],
          "carpet": [
           {
            "aaxis": {
             "endlinecolor": "#2a3f5f",
             "gridcolor": "white",
             "linecolor": "white",
             "minorgridcolor": "white",
             "startlinecolor": "#2a3f5f"
            },
            "baxis": {
             "endlinecolor": "#2a3f5f",
             "gridcolor": "white",
             "linecolor": "white",
             "minorgridcolor": "white",
             "startlinecolor": "#2a3f5f"
            },
            "type": "carpet"
           }
          ],
          "choropleth": [
           {
            "colorbar": {
             "outlinewidth": 0,
             "ticks": ""
            },
            "type": "choropleth"
           }
          ],
          "contour": [
           {
            "colorbar": {
             "outlinewidth": 0,
             "ticks": ""
            },
            "colorscale": [
             [
              0,
              "#0d0887"
             ],
             [
              0.1111111111111111,
              "#46039f"
             ],
             [
              0.2222222222222222,
              "#7201a8"
             ],
             [
              0.3333333333333333,
              "#9c179e"
             ],
             [
              0.4444444444444444,
              "#bd3786"
             ],
             [
              0.5555555555555556,
              "#d8576b"
             ],
             [
              0.6666666666666666,
              "#ed7953"
             ],
             [
              0.7777777777777778,
              "#fb9f3a"
             ],
             [
              0.8888888888888888,
              "#fdca26"
             ],
             [
              1,
              "#f0f921"
             ]
            ],
            "type": "contour"
           }
          ],
          "contourcarpet": [
           {
            "colorbar": {
             "outlinewidth": 0,
             "ticks": ""
            },
            "type": "contourcarpet"
           }
          ],
          "heatmap": [
           {
            "colorbar": {
             "outlinewidth": 0,
             "ticks": ""
            },
            "colorscale": [
             [
              0,
              "#0d0887"
             ],
             [
              0.1111111111111111,
              "#46039f"
             ],
             [
              0.2222222222222222,
              "#7201a8"
             ],
             [
              0.3333333333333333,
              "#9c179e"
             ],
             [
              0.4444444444444444,
              "#bd3786"
             ],
             [
              0.5555555555555556,
              "#d8576b"
             ],
             [
              0.6666666666666666,
              "#ed7953"
             ],
             [
              0.7777777777777778,
              "#fb9f3a"
             ],
             [
              0.8888888888888888,
              "#fdca26"
             ],
             [
              1,
              "#f0f921"
             ]
            ],
            "type": "heatmap"
           }
          ],
          "heatmapgl": [
           {
            "colorbar": {
             "outlinewidth": 0,
             "ticks": ""
            },
            "colorscale": [
             [
              0,
              "#0d0887"
             ],
             [
              0.1111111111111111,
              "#46039f"
             ],
             [
              0.2222222222222222,
              "#7201a8"
             ],
             [
              0.3333333333333333,
              "#9c179e"
             ],
             [
              0.4444444444444444,
              "#bd3786"
             ],
             [
              0.5555555555555556,
              "#d8576b"
             ],
             [
              0.6666666666666666,
              "#ed7953"
             ],
             [
              0.7777777777777778,
              "#fb9f3a"
             ],
             [
              0.8888888888888888,
              "#fdca26"
             ],
             [
              1,
              "#f0f921"
             ]
            ],
            "type": "heatmapgl"
           }
          ],
          "histogram": [
           {
            "marker": {
             "pattern": {
              "fillmode": "overlay",
              "size": 10,
              "solidity": 0.2
             }
            },
            "type": "histogram"
           }
          ],
          "histogram2d": [
           {
            "colorbar": {
             "outlinewidth": 0,
             "ticks": ""
            },
            "colorscale": [
             [
              0,
              "#0d0887"
             ],
             [
              0.1111111111111111,
              "#46039f"
             ],
             [
              0.2222222222222222,
              "#7201a8"
             ],
             [
              0.3333333333333333,
              "#9c179e"
             ],
             [
              0.4444444444444444,
              "#bd3786"
             ],
             [
              0.5555555555555556,
              "#d8576b"
             ],
             [
              0.6666666666666666,
              "#ed7953"
             ],
             [
              0.7777777777777778,
              "#fb9f3a"
             ],
             [
              0.8888888888888888,
              "#fdca26"
             ],
             [
              1,
              "#f0f921"
             ]
            ],
            "type": "histogram2d"
           }
          ],
          "histogram2dcontour": [
           {
            "colorbar": {
             "outlinewidth": 0,
             "ticks": ""
            },
            "colorscale": [
             [
              0,
              "#0d0887"
             ],
             [
              0.1111111111111111,
              "#46039f"
             ],
             [
              0.2222222222222222,
              "#7201a8"
             ],
             [
              0.3333333333333333,
              "#9c179e"
             ],
             [
              0.4444444444444444,
              "#bd3786"
             ],
             [
              0.5555555555555556,
              "#d8576b"
             ],
             [
              0.6666666666666666,
              "#ed7953"
             ],
             [
              0.7777777777777778,
              "#fb9f3a"
             ],
             [
              0.8888888888888888,
              "#fdca26"
             ],
             [
              1,
              "#f0f921"
             ]
            ],
            "type": "histogram2dcontour"
           }
          ],
          "mesh3d": [
           {
            "colorbar": {
             "outlinewidth": 0,
             "ticks": ""
            },
            "type": "mesh3d"
           }
          ],
          "parcoords": [
           {
            "line": {
             "colorbar": {
              "outlinewidth": 0,
              "ticks": ""
             }
            },
            "type": "parcoords"
           }
          ],
          "pie": [
           {
            "automargin": true,
            "type": "pie"
           }
          ],
          "scatter": [
           {
            "fillpattern": {
             "fillmode": "overlay",
             "size": 10,
             "solidity": 0.2
            },
            "type": "scatter"
           }
          ],
          "scatter3d": [
           {
            "line": {
             "colorbar": {
              "outlinewidth": 0,
              "ticks": ""
             }
            },
            "marker": {
             "colorbar": {
              "outlinewidth": 0,
              "ticks": ""
             }
            },
            "type": "scatter3d"
           }
          ],
          "scattercarpet": [
           {
            "marker": {
             "colorbar": {
              "outlinewidth": 0,
              "ticks": ""
             }
            },
            "type": "scattercarpet"
           }
          ],
          "scattergeo": [
           {
            "marker": {
             "colorbar": {
              "outlinewidth": 0,
              "ticks": ""
             }
            },
            "type": "scattergeo"
           }
          ],
          "scattergl": [
           {
            "marker": {
             "colorbar": {
              "outlinewidth": 0,
              "ticks": ""
             }
            },
            "type": "scattergl"
           }
          ],
          "scattermapbox": [
           {
            "marker": {
             "colorbar": {
              "outlinewidth": 0,
              "ticks": ""
             }
            },
            "type": "scattermapbox"
           }
          ],
          "scatterpolar": [
           {
            "marker": {
             "colorbar": {
              "outlinewidth": 0,
              "ticks": ""
             }
            },
            "type": "scatterpolar"
           }
          ],
          "scatterpolargl": [
           {
            "marker": {
             "colorbar": {
              "outlinewidth": 0,
              "ticks": ""
             }
            },
            "type": "scatterpolargl"
           }
          ],
          "scatterternary": [
           {
            "marker": {
             "colorbar": {
              "outlinewidth": 0,
              "ticks": ""
             }
            },
            "type": "scatterternary"
           }
          ],
          "surface": [
           {
            "colorbar": {
             "outlinewidth": 0,
             "ticks": ""
            },
            "colorscale": [
             [
              0,
              "#0d0887"
             ],
             [
              0.1111111111111111,
              "#46039f"
             ],
             [
              0.2222222222222222,
              "#7201a8"
             ],
             [
              0.3333333333333333,
              "#9c179e"
             ],
             [
              0.4444444444444444,
              "#bd3786"
             ],
             [
              0.5555555555555556,
              "#d8576b"
             ],
             [
              0.6666666666666666,
              "#ed7953"
             ],
             [
              0.7777777777777778,
              "#fb9f3a"
             ],
             [
              0.8888888888888888,
              "#fdca26"
             ],
             [
              1,
              "#f0f921"
             ]
            ],
            "type": "surface"
           }
          ],
          "table": [
           {
            "cells": {
             "fill": {
              "color": "#EBF0F8"
             },
             "line": {
              "color": "white"
             }
            },
            "header": {
             "fill": {
              "color": "#C8D4E3"
             },
             "line": {
              "color": "white"
             }
            },
            "type": "table"
           }
          ]
         },
         "layout": {
          "annotationdefaults": {
           "arrowcolor": "#2a3f5f",
           "arrowhead": 0,
           "arrowwidth": 1
          },
          "autotypenumbers": "strict",
          "coloraxis": {
           "colorbar": {
            "outlinewidth": 0,
            "ticks": ""
           }
          },
          "colorscale": {
           "diverging": [
            [
             0,
             "#8e0152"
            ],
            [
             0.1,
             "#c51b7d"
            ],
            [
             0.2,
             "#de77ae"
            ],
            [
             0.3,
             "#f1b6da"
            ],
            [
             0.4,
             "#fde0ef"
            ],
            [
             0.5,
             "#f7f7f7"
            ],
            [
             0.6,
             "#e6f5d0"
            ],
            [
             0.7,
             "#b8e186"
            ],
            [
             0.8,
             "#7fbc41"
            ],
            [
             0.9,
             "#4d9221"
            ],
            [
             1,
             "#276419"
            ]
           ],
           "sequential": [
            [
             0,
             "#0d0887"
            ],
            [
             0.1111111111111111,
             "#46039f"
            ],
            [
             0.2222222222222222,
             "#7201a8"
            ],
            [
             0.3333333333333333,
             "#9c179e"
            ],
            [
             0.4444444444444444,
             "#bd3786"
            ],
            [
             0.5555555555555556,
             "#d8576b"
            ],
            [
             0.6666666666666666,
             "#ed7953"
            ],
            [
             0.7777777777777778,
             "#fb9f3a"
            ],
            [
             0.8888888888888888,
             "#fdca26"
            ],
            [
             1,
             "#f0f921"
            ]
           ],
           "sequentialminus": [
            [
             0,
             "#0d0887"
            ],
            [
             0.1111111111111111,
             "#46039f"
            ],
            [
             0.2222222222222222,
             "#7201a8"
            ],
            [
             0.3333333333333333,
             "#9c179e"
            ],
            [
             0.4444444444444444,
             "#bd3786"
            ],
            [
             0.5555555555555556,
             "#d8576b"
            ],
            [
             0.6666666666666666,
             "#ed7953"
            ],
            [
             0.7777777777777778,
             "#fb9f3a"
            ],
            [
             0.8888888888888888,
             "#fdca26"
            ],
            [
             1,
             "#f0f921"
            ]
           ]
          },
          "colorway": [
           "#636efa",
           "#EF553B",
           "#00cc96",
           "#ab63fa",
           "#FFA15A",
           "#19d3f3",
           "#FF6692",
           "#B6E880",
           "#FF97FF",
           "#FECB52"
          ],
          "font": {
           "color": "#2a3f5f"
          },
          "geo": {
           "bgcolor": "white",
           "lakecolor": "white",
           "landcolor": "#E5ECF6",
           "showlakes": true,
           "showland": true,
           "subunitcolor": "white"
          },
          "hoverlabel": {
           "align": "left"
          },
          "hovermode": "closest",
          "mapbox": {
           "style": "light"
          },
          "paper_bgcolor": "white",
          "plot_bgcolor": "#E5ECF6",
          "polar": {
           "angularaxis": {
            "gridcolor": "white",
            "linecolor": "white",
            "ticks": ""
           },
           "bgcolor": "#E5ECF6",
           "radialaxis": {
            "gridcolor": "white",
            "linecolor": "white",
            "ticks": ""
           }
          },
          "scene": {
           "xaxis": {
            "backgroundcolor": "#E5ECF6",
            "gridcolor": "white",
            "gridwidth": 2,
            "linecolor": "white",
            "showbackground": true,
            "ticks": "",
            "zerolinecolor": "white"
           },
           "yaxis": {
            "backgroundcolor": "#E5ECF6",
            "gridcolor": "white",
            "gridwidth": 2,
            "linecolor": "white",
            "showbackground": true,
            "ticks": "",
            "zerolinecolor": "white"
           },
           "zaxis": {
            "backgroundcolor": "#E5ECF6",
            "gridcolor": "white",
            "gridwidth": 2,
            "linecolor": "white",
            "showbackground": true,
            "ticks": "",
            "zerolinecolor": "white"
           }
          },
          "shapedefaults": {
           "line": {
            "color": "#2a3f5f"
           }
          },
          "ternary": {
           "aaxis": {
            "gridcolor": "white",
            "linecolor": "white",
            "ticks": ""
           },
           "baxis": {
            "gridcolor": "white",
            "linecolor": "white",
            "ticks": ""
           },
           "bgcolor": "#E5ECF6",
           "caxis": {
            "gridcolor": "white",
            "linecolor": "white",
            "ticks": ""
           }
          },
          "title": {
           "x": 0.05
          },
          "xaxis": {
           "automargin": true,
           "gridcolor": "white",
           "linecolor": "white",
           "ticks": "",
           "title": {
            "standoff": 15
           },
           "zerolinecolor": "white",
           "zerolinewidth": 2
          },
          "yaxis": {
           "automargin": true,
           "gridcolor": "white",
           "linecolor": "white",
           "ticks": "",
           "title": {
            "standoff": 15
           },
           "zerolinecolor": "white",
           "zerolinewidth": 2
          }
         }
        },
        "xaxis": {
         "anchor": "y",
         "domain": [
          0,
          1
         ],
         "title": {
          "text": "value"
         }
        },
        "yaxis": {
         "anchor": "x",
         "domain": [
          0,
          1
         ],
         "title": {
          "text": "count"
         }
        }
       }
      },
      "text/html": [
       "<div>                            <div id=\"a635f6fd-fedc-4826-8530-51d5fed4c3b5\" class=\"plotly-graph-div\" style=\"height:525px; width:100%;\"></div>            <script type=\"text/javascript\">                require([\"plotly\"], function(Plotly) {                    window.PLOTLYENV=window.PLOTLYENV || {};                                    if (document.getElementById(\"a635f6fd-fedc-4826-8530-51d5fed4c3b5\")) {                    Plotly.newPlot(                        \"a635f6fd-fedc-4826-8530-51d5fed4c3b5\",                        [{\"alignmentgroup\":\"True\",\"bingroup\":\"x\",\"hovertemplate\":\"variable=AAPL<br>value=%{x}<br>count=%{y}<extra></extra>\",\"legendgroup\":\"AAPL\",\"marker\":{\"color\":\"#636efa\",\"pattern\":{\"shape\":\"\"}},\"name\":\"AAPL\",\"offsetgroup\":\"AAPL\",\"orientation\":\"v\",\"showlegend\":true,\"x\":[null,-0.005527145597501004,0.007184579541948732,0.03041715227469921,-0.008424721311841354,0.004478644981759983,0.007474915944589711,0.0042304535053308,0.01548930228372547,-0.010083616098260806,-0.006704875778740793,-0.03310187486902216,0.003893413615506436,-0.009562072252685905,0.006143692223250508,-0.0016104508832446296,-0.018347979371765355,-0.02136105141269684,0.003427943374884501,0.016872436389261614,0.0067192025130498045,0.0006129288072487249,-0.010549980064493591,-0.0238012765446467,0.006482969101571312,-0.009311781936598096,0.00812716534617941,-0.02460564077824645,0.014158410445197056,0.00630713192402288,0.009084459761498742,-0.00272174895611621,-0.0006297854565047167,-0.009103025516294383,-0.004239918507647045,0.02022561046524851,0.007512533892058082,0.01180617755525204,0.01508011879261173,0.003361118704377386,0.0014739463272126496,-0.005284943194491021,-0.0003362906109138919,0.004574865025313457,-0.0031476104851951847,0.02499160946030532,-0.0181556278395828,-0.005607452074619768,0.007115987586049588,0.009798701365408391,-0.003498572579567205,0.0021197141706292832,-0.005552593499925207,0.0024594197765426262,-0.01916318172822462,-0.0003380411869712274,0.014336988205730705,6.663448543164918e-05,0.006666666666666599,0.016490102603735624,0.02853599235957094,0.016976043690765552,0.002927444483147079,0.0024220555167078217,0.003283555958565998,-0.031678429081589354,0.02187365594013646,0.031577617231232535,-0.003206284147078464,-0.006129815739731703,-0.011724464053185835,0.021502787105003085,0.035446316791349686,0.02278308985945654,-0.0029700951966102895,0.028013287454401015,-0.020674235264256824,-0.008023236702153325,0.02850915601733095,-0.039263850669816525,-0.006501771466984829,-0.00812200183829448,0.01908692484927288,0.01531876878626437,0.0036438134358485197,0.022974830268908786,-0.00576725189575622,0.0005020447322792165,-0.006578257901939555,-0.0035352953693170708,0.025004150472947684,-0.012691597320536152,-0.02659988236212174,-0.016693335236175,0.0009883614473564784,0.00011618907285648739,0.016783781570778755,0.0025702361408266317,-0.019028065636177538,0.005110661887074208,-0.018894112983626976,-0.021024777738847034,-0.010347117036099251,-0.01276512622240289,-0.00486428500159064,-0.011384707297859231,-0.0005632515870458432,-0.0029432100539642514,0.06977766942076213,0.026125737688043937,-0.0009726408635577499,0.007044245594408194,-0.016719759455390393,-0.0029496502304173777,-0.004234559603942367,0.018466725511581794,0.008293753549481586,-0.02359884099680365,-0.020218427993619836,0.0014231824835904128,0.023152465006342826,-0.0013889128057177347,-0.021269186346200564,-0.009355766137921773,-0.017812287347162448,-0.02586416632525068,0.01668019020913314,0.012965469700934706,0.0016377858882354879,-0.011627896231359958,0.02058823941900667,-0.001981279033932526,-0.01840821534766368,-0.02371756548762427,-0.011676086470301161,0.034997423916368176,-0.027186209013482565,-0.02390870831928371,-0.026562403695717718,0.029677342754030223,0.02901541109199557,0.006454030972694147,0.020918943546848645,0.008537682593916074,0.0208005946295855,0.008233617636201895,0.02267787120671727,0.003734094727035453,0.005036657947940837,0.019134399166084615,-0.006649544014093012,-0.017775797863323284,-0.0017181321270783867,0.023693448113463633,-0.018941968373500706,-0.018450792714411857,0.0018040944846089424,-0.01190892912179875,-0.025515882364234077,0.01152340067637625,0.016342539511671417,-0.02998826756681583,-0.0013309091345490298,0.014115141872437453,-0.0010155207595194948,-0.004843614060203949,-0.02782120498590701,0.006737200333224225,-0.03732810442527357,-0.001466809458308127,0.04515546870218534,-0.036604775821961866,0.0019664626031408172,0.009622619328101267,0.0410083315784322,-0.05571617733980727,0.0032531383104996703,-0.03318922470255159,0.01611204121779708,-0.05184127106082803,-0.026894214617107504,0.03191640803646689,-0.010672335787539122,0.02542264929033622,-0.056419176219683176,-0.024641393553644142,0.0017472895792529641,0.04011922682885327,-0.019215987619813357,0.0011399519906925004,0.02319950475175747,0.04075671623385313,-0.005346184543042365,-0.0008733514325567349,0.016811242600575316,-0.03855566147871903,0.005227641225136415,0.017585926747997416,-0.005043372780172639,-0.0359557115626985,-0.038628677302390724,-0.03828483784046022,0.006672653862921818,0.020111466401181888,-0.039651446559871295,0.011533138767930717,0.032760699593918474],\"xaxis\":\"x\",\"yaxis\":\"y\",\"type\":\"histogram\"}],                        {\"template\":{\"data\":{\"histogram2dcontour\":[{\"type\":\"histogram2dcontour\",\"colorbar\":{\"outlinewidth\":0,\"ticks\":\"\"},\"colorscale\":[[0.0,\"#0d0887\"],[0.1111111111111111,\"#46039f\"],[0.2222222222222222,\"#7201a8\"],[0.3333333333333333,\"#9c179e\"],[0.4444444444444444,\"#bd3786\"],[0.5555555555555556,\"#d8576b\"],[0.6666666666666666,\"#ed7953\"],[0.7777777777777778,\"#fb9f3a\"],[0.8888888888888888,\"#fdca26\"],[1.0,\"#f0f921\"]]}],\"choropleth\":[{\"type\":\"choropleth\",\"colorbar\":{\"outlinewidth\":0,\"ticks\":\"\"}}],\"histogram2d\":[{\"type\":\"histogram2d\",\"colorbar\":{\"outlinewidth\":0,\"ticks\":\"\"},\"colorscale\":[[0.0,\"#0d0887\"],[0.1111111111111111,\"#46039f\"],[0.2222222222222222,\"#7201a8\"],[0.3333333333333333,\"#9c179e\"],[0.4444444444444444,\"#bd3786\"],[0.5555555555555556,\"#d8576b\"],[0.6666666666666666,\"#ed7953\"],[0.7777777777777778,\"#fb9f3a\"],[0.8888888888888888,\"#fdca26\"],[1.0,\"#f0f921\"]]}],\"heatmap\":[{\"type\":\"heatmap\",\"colorbar\":{\"outlinewidth\":0,\"ticks\":\"\"},\"colorscale\":[[0.0,\"#0d0887\"],[0.1111111111111111,\"#46039f\"],[0.2222222222222222,\"#7201a8\"],[0.3333333333333333,\"#9c179e\"],[0.4444444444444444,\"#bd3786\"],[0.5555555555555556,\"#d8576b\"],[0.6666666666666666,\"#ed7953\"],[0.7777777777777778,\"#fb9f3a\"],[0.8888888888888888,\"#fdca26\"],[1.0,\"#f0f921\"]]}],\"heatmapgl\":[{\"type\":\"heatmapgl\",\"colorbar\":{\"outlinewidth\":0,\"ticks\":\"\"},\"colorscale\":[[0.0,\"#0d0887\"],[0.1111111111111111,\"#46039f\"],[0.2222222222222222,\"#7201a8\"],[0.3333333333333333,\"#9c179e\"],[0.4444444444444444,\"#bd3786\"],[0.5555555555555556,\"#d8576b\"],[0.6666666666666666,\"#ed7953\"],[0.7777777777777778,\"#fb9f3a\"],[0.8888888888888888,\"#fdca26\"],[1.0,\"#f0f921\"]]}],\"contourcarpet\":[{\"type\":\"contourcarpet\",\"colorbar\":{\"outlinewidth\":0,\"ticks\":\"\"}}],\"contour\":[{\"type\":\"contour\",\"colorbar\":{\"outlinewidth\":0,\"ticks\":\"\"},\"colorscale\":[[0.0,\"#0d0887\"],[0.1111111111111111,\"#46039f\"],[0.2222222222222222,\"#7201a8\"],[0.3333333333333333,\"#9c179e\"],[0.4444444444444444,\"#bd3786\"],[0.5555555555555556,\"#d8576b\"],[0.6666666666666666,\"#ed7953\"],[0.7777777777777778,\"#fb9f3a\"],[0.8888888888888888,\"#fdca26\"],[1.0,\"#f0f921\"]]}],\"surface\":[{\"type\":\"surface\",\"colorbar\":{\"outlinewidth\":0,\"ticks\":\"\"},\"colorscale\":[[0.0,\"#0d0887\"],[0.1111111111111111,\"#46039f\"],[0.2222222222222222,\"#7201a8\"],[0.3333333333333333,\"#9c179e\"],[0.4444444444444444,\"#bd3786\"],[0.5555555555555556,\"#d8576b\"],[0.6666666666666666,\"#ed7953\"],[0.7777777777777778,\"#fb9f3a\"],[0.8888888888888888,\"#fdca26\"],[1.0,\"#f0f921\"]]}],\"mesh3d\":[{\"type\":\"mesh3d\",\"colorbar\":{\"outlinewidth\":0,\"ticks\":\"\"}}],\"scatter\":[{\"fillpattern\":{\"fillmode\":\"overlay\",\"size\":10,\"solidity\":0.2},\"type\":\"scatter\"}],\"parcoords\":[{\"type\":\"parcoords\",\"line\":{\"colorbar\":{\"outlinewidth\":0,\"ticks\":\"\"}}}],\"scatterpolargl\":[{\"type\":\"scatterpolargl\",\"marker\":{\"colorbar\":{\"outlinewidth\":0,\"ticks\":\"\"}}}],\"bar\":[{\"error_x\":{\"color\":\"#2a3f5f\"},\"error_y\":{\"color\":\"#2a3f5f\"},\"marker\":{\"line\":{\"color\":\"#E5ECF6\",\"width\":0.5},\"pattern\":{\"fillmode\":\"overlay\",\"size\":10,\"solidity\":0.2}},\"type\":\"bar\"}],\"scattergeo\":[{\"type\":\"scattergeo\",\"marker\":{\"colorbar\":{\"outlinewidth\":0,\"ticks\":\"\"}}}],\"scatterpolar\":[{\"type\":\"scatterpolar\",\"marker\":{\"colorbar\":{\"outlinewidth\":0,\"ticks\":\"\"}}}],\"histogram\":[{\"marker\":{\"pattern\":{\"fillmode\":\"overlay\",\"size\":10,\"solidity\":0.2}},\"type\":\"histogram\"}],\"scattergl\":[{\"type\":\"scattergl\",\"marker\":{\"colorbar\":{\"outlinewidth\":0,\"ticks\":\"\"}}}],\"scatter3d\":[{\"type\":\"scatter3d\",\"line\":{\"colorbar\":{\"outlinewidth\":0,\"ticks\":\"\"}},\"marker\":{\"colorbar\":{\"outlinewidth\":0,\"ticks\":\"\"}}}],\"scattermapbox\":[{\"type\":\"scattermapbox\",\"marker\":{\"colorbar\":{\"outlinewidth\":0,\"ticks\":\"\"}}}],\"scatterternary\":[{\"type\":\"scatterternary\",\"marker\":{\"colorbar\":{\"outlinewidth\":0,\"ticks\":\"\"}}}],\"scattercarpet\":[{\"type\":\"scattercarpet\",\"marker\":{\"colorbar\":{\"outlinewidth\":0,\"ticks\":\"\"}}}],\"carpet\":[{\"aaxis\":{\"endlinecolor\":\"#2a3f5f\",\"gridcolor\":\"white\",\"linecolor\":\"white\",\"minorgridcolor\":\"white\",\"startlinecolor\":\"#2a3f5f\"},\"baxis\":{\"endlinecolor\":\"#2a3f5f\",\"gridcolor\":\"white\",\"linecolor\":\"white\",\"minorgridcolor\":\"white\",\"startlinecolor\":\"#2a3f5f\"},\"type\":\"carpet\"}],\"table\":[{\"cells\":{\"fill\":{\"color\":\"#EBF0F8\"},\"line\":{\"color\":\"white\"}},\"header\":{\"fill\":{\"color\":\"#C8D4E3\"},\"line\":{\"color\":\"white\"}},\"type\":\"table\"}],\"barpolar\":[{\"marker\":{\"line\":{\"color\":\"#E5ECF6\",\"width\":0.5},\"pattern\":{\"fillmode\":\"overlay\",\"size\":10,\"solidity\":0.2}},\"type\":\"barpolar\"}],\"pie\":[{\"automargin\":true,\"type\":\"pie\"}]},\"layout\":{\"autotypenumbers\":\"strict\",\"colorway\":[\"#636efa\",\"#EF553B\",\"#00cc96\",\"#ab63fa\",\"#FFA15A\",\"#19d3f3\",\"#FF6692\",\"#B6E880\",\"#FF97FF\",\"#FECB52\"],\"font\":{\"color\":\"#2a3f5f\"},\"hovermode\":\"closest\",\"hoverlabel\":{\"align\":\"left\"},\"paper_bgcolor\":\"white\",\"plot_bgcolor\":\"#E5ECF6\",\"polar\":{\"bgcolor\":\"#E5ECF6\",\"angularaxis\":{\"gridcolor\":\"white\",\"linecolor\":\"white\",\"ticks\":\"\"},\"radialaxis\":{\"gridcolor\":\"white\",\"linecolor\":\"white\",\"ticks\":\"\"}},\"ternary\":{\"bgcolor\":\"#E5ECF6\",\"aaxis\":{\"gridcolor\":\"white\",\"linecolor\":\"white\",\"ticks\":\"\"},\"baxis\":{\"gridcolor\":\"white\",\"linecolor\":\"white\",\"ticks\":\"\"},\"caxis\":{\"gridcolor\":\"white\",\"linecolor\":\"white\",\"ticks\":\"\"}},\"coloraxis\":{\"colorbar\":{\"outlinewidth\":0,\"ticks\":\"\"}},\"colorscale\":{\"sequential\":[[0.0,\"#0d0887\"],[0.1111111111111111,\"#46039f\"],[0.2222222222222222,\"#7201a8\"],[0.3333333333333333,\"#9c179e\"],[0.4444444444444444,\"#bd3786\"],[0.5555555555555556,\"#d8576b\"],[0.6666666666666666,\"#ed7953\"],[0.7777777777777778,\"#fb9f3a\"],[0.8888888888888888,\"#fdca26\"],[1.0,\"#f0f921\"]],\"sequentialminus\":[[0.0,\"#0d0887\"],[0.1111111111111111,\"#46039f\"],[0.2222222222222222,\"#7201a8\"],[0.3333333333333333,\"#9c179e\"],[0.4444444444444444,\"#bd3786\"],[0.5555555555555556,\"#d8576b\"],[0.6666666666666666,\"#ed7953\"],[0.7777777777777778,\"#fb9f3a\"],[0.8888888888888888,\"#fdca26\"],[1.0,\"#f0f921\"]],\"diverging\":[[0,\"#8e0152\"],[0.1,\"#c51b7d\"],[0.2,\"#de77ae\"],[0.3,\"#f1b6da\"],[0.4,\"#fde0ef\"],[0.5,\"#f7f7f7\"],[0.6,\"#e6f5d0\"],[0.7,\"#b8e186\"],[0.8,\"#7fbc41\"],[0.9,\"#4d9221\"],[1,\"#276419\"]]},\"xaxis\":{\"gridcolor\":\"white\",\"linecolor\":\"white\",\"ticks\":\"\",\"title\":{\"standoff\":15},\"zerolinecolor\":\"white\",\"automargin\":true,\"zerolinewidth\":2},\"yaxis\":{\"gridcolor\":\"white\",\"linecolor\":\"white\",\"ticks\":\"\",\"title\":{\"standoff\":15},\"zerolinecolor\":\"white\",\"automargin\":true,\"zerolinewidth\":2},\"scene\":{\"xaxis\":{\"backgroundcolor\":\"#E5ECF6\",\"gridcolor\":\"white\",\"linecolor\":\"white\",\"showbackground\":true,\"ticks\":\"\",\"zerolinecolor\":\"white\",\"gridwidth\":2},\"yaxis\":{\"backgroundcolor\":\"#E5ECF6\",\"gridcolor\":\"white\",\"linecolor\":\"white\",\"showbackground\":true,\"ticks\":\"\",\"zerolinecolor\":\"white\",\"gridwidth\":2},\"zaxis\":{\"backgroundcolor\":\"#E5ECF6\",\"gridcolor\":\"white\",\"linecolor\":\"white\",\"showbackground\":true,\"ticks\":\"\",\"zerolinecolor\":\"white\",\"gridwidth\":2}},\"shapedefaults\":{\"line\":{\"color\":\"#2a3f5f\"}},\"annotationdefaults\":{\"arrowcolor\":\"#2a3f5f\",\"arrowhead\":0,\"arrowwidth\":1},\"geo\":{\"bgcolor\":\"white\",\"landcolor\":\"#E5ECF6\",\"subunitcolor\":\"white\",\"showland\":true,\"showlakes\":true,\"lakecolor\":\"white\"},\"title\":{\"x\":0.05},\"mapbox\":{\"style\":\"light\"}}},\"xaxis\":{\"anchor\":\"y\",\"domain\":[0.0,1.0],\"title\":{\"text\":\"value\"}},\"yaxis\":{\"anchor\":\"x\",\"domain\":[0.0,1.0],\"title\":{\"text\":\"count\"}},\"legend\":{\"title\":{\"text\":\"variable\"},\"tracegroupgap\":0},\"margin\":{\"t\":60},\"barmode\":\"relative\"},                        {\"responsive\": true}                    ).then(function(){\n",
       "                            \n",
       "var gd = document.getElementById('a635f6fd-fedc-4826-8530-51d5fed4c3b5');\n",
       "var x = new MutationObserver(function (mutations, observer) {{\n",
       "        var display = window.getComputedStyle(gd).display;\n",
       "        if (!display || display === 'none') {{\n",
       "            console.log([gd, 'removed!']);\n",
       "            Plotly.purge(gd);\n",
       "            observer.disconnect();\n",
       "        }}\n",
       "}});\n",
       "\n",
       "// Listen for the removal of the full notebook cells\n",
       "var notebookContainer = gd.closest('#notebook-container');\n",
       "if (notebookContainer) {{\n",
       "    x.observe(notebookContainer, {childList: true});\n",
       "}}\n",
       "\n",
       "// Listen for the clearing of the current output cell\n",
       "var outputEl = gd.closest('.output');\n",
       "if (outputEl) {{\n",
       "    x.observe(outputEl, {childList: true});\n",
       "}}\n",
       "\n",
       "                        })                };                });            </script>        </div>"
      ]
     },
     "metadata": {},
     "output_type": "display_data"
    }
   ],
   "source": [
    "Close[\"AAPL\"].pct_change().plot(kind=\"hist\")"
   ]
  },
  {
   "cell_type": "code",
   "execution_count": 67,
   "id": "7fd71f19",
   "metadata": {},
   "outputs": [
    {
     "data": {
      "application/vnd.plotly.v1+json": {
       "config": {
        "plotlyServerURL": "https://plot.ly"
       },
       "data": [
        {
         "alignmentgroup": "True",
         "bingroup": "x",
         "hovertemplate": "variable=TSLA<br>value=%{x}<br>count=%{y}<extra></extra>",
         "legendgroup": "TSLA",
         "marker": {
          "color": "#636efa",
          "pattern": {
           "shape": ""
          }
         },
         "name": "TSLA",
         "offsetgroup": "TSLA",
         "orientation": "v",
         "showlegend": true,
         "type": "histogram",
         "x": [
          null,
          -0.014117040059298147,
          0.01534601257594459,
          0.026674332355089314,
          0.0065808344875910585,
          -0.00221544053792444,
          -0.002315808885612225,
          0.0016111534185070386,
          0.026377817239991552,
          0.0012617704783970396,
          0.0013132108198856685,
          -0.024627038366134335,
          0.009140641734991073,
          0.0020053704365747826,
          0.0152319399914278,
          0.001534701081332468,
          0.0033025535769977132,
          -0.0386048633967786,
          0.012613531353273144,
          0.016987202082350716,
          0.002260834909050713,
          0.027533039112419777,
          0.021913984403361786,
          -0.017438318904686723,
          0.004822778964677088,
          -0.0074618488283282325,
          -0.00033528881747257877,
          0.008139700771674807,
          -0.0012027720064089475,
          0.0027671031786462574,
          0.013874142895640373,
          -0.010231719946908746,
          0.008211450543254672,
          0.01740026797388383,
          0.00665249290276515,
          0.008926357550210762,
          0.030196037920976915,
          0.03212217253669292,
          -0.00671175589135764,
          0.0017702433581445742,
          0.032571047129391406,
          0.017539141695504856,
          0.12661594583056024,
          -0.006274020615192222,
          0.019078378303384103,
          0.03775080864849589,
          0.03431623672010509,
          0.08491020271123206,
          -0.03027492106926244,
          0.03571671105082119,
          0.013222323020621207,
          -0.006358244214659803,
          -0.04840071195115225,
          -0.11990296011128176,
          0.04342936118404972,
          -0.00415744333466006,
          -0.028293072508968398,
          -0.0193822728852886,
          0.040793737083203885,
          0.03250123721868614,
          0.006767610078050268,
          0.03710397264613152,
          0.017422066999642327,
          -0.04135293163642506,
          0.006284744794100794,
          -0.030537595031082,
          0.05090019969335757,
          0.006833850427872656,
          -0.04346763456194869,
          -0.00949773919092467,
          -0.06419878890850617,
          -0.0058720564248528895,
          0.04235834116680648,
          0.01636316704302354,
          -0.06095642075067487,
          0.013179957825059097,
          -0.04977243020772948,
          -0.00817454661938255,
          0.018236617552929157,
          -0.05027716248650771,
          0.006095482369819827,
          -0.034989335520704046,
          0.04288066621194697,
          0.0749469528140827,
          0.05761892529677248,
          0.02524830497305519,
          -0.0050002477248370925,
          -0.0020947103349137075,
          -0.014592268793630292,
          -0.012668812673032437,
          0.13531671306766135,
          -0.04183272120805026,
          -0.05347121367683638,
          -0.02152340187700552,
          -0.03544659713080289,
          0.03034201464995956,
          0.005935082340240205,
          0.039289689336566624,
          -0.06749101813983738,
          0.017497698371938375,
          -0.018197212157371023,
          -0.033827895916790696,
          0.0006227038637922622,
          -0.05256606551487697,
          -0.014726161727446785,
          -0.01247309202788982,
          0.020698985436762296,
          -0.1155417593811906,
          0.020805693532687908,
          0.10677615374729976,
          -0.005839494058207273,
          -0.0274792234689597,
          -0.01603246132837155,
          0.03611103995647258,
          -0.017307087837357682,
          0.01615708853420439,
          0.010845986984815648,
          -0.029452802797243827,
          -0.04925099595840721,
          0.01832559275072665,
          0.053290835833719186,
          0.0010407532065077607,
          -0.05094276342202986,
          -0.02210303606642594,
          -0.04136613687578161,
          -0.06997924509069431,
          0.04807345500262783,
          0.011364031324829549,
          0.07477743085151678,
          -0.006962073468958496,
          0.017955296480584026,
          -0.046142172254694414,
          -0.0011914833087253163,
          -0.04021276863744205,
          0.024633979098694914,
          0.04193346102049533,
          -0.024063685128871803,
          -0.05123465684415396,
          -0.0364367653967681,
          0.04634839536719926,
          0.04781200054863066,
          0.037335010469022656,
          0.03876782928978906,
          0.017417862181987154,
          0.0790525092787473,
          0.005161074653025954,
          0.01482319041519986,
          -0.003234937980317265,
          0.0803450783611821,
          0.0070797742441515155,
          -0.0050746713053765324,
          -0.014981868933669262,
          0.0064866280556235,
          0.056113358291612014,
          -0.04730886875573215,
          -0.04169492109380257,
          0.010996786923012536,
          -0.03004939110322813,
          -0.04832811439462892,
          0.011291813566499442,
          0.03588832511481477,
          -0.036552319899513463,
          0.01958373403791236,
          0.0237581245544094,
          -0.04955503671370076,
          0.03231684066245499,
          -0.003697576672395231,
          -0.006994645387893739,
          -0.12184127997573324,
          0.00580774851637611,
          -0.004537668268864592,
          -0.007692219946075496,
          0.03695621332500432,
          0.006988279998153324,
          0.04769864736561735,
          -0.08328605973733783,
          -0.008737180087532548,
          -0.09072955218324152,
          0.016427173986372612,
          -0.08254584750899363,
          -0.008174386920980936,
          0.05712915776850114,
          -0.05875859894267277,
          0.05141017778952928,
          -0.06801379812405906,
          -0.0005494634476534976,
          -0.06416503565259535,
          0.01656875974618055,
          -0.06925477786152134,
          0.04877740696379518,
          0.07427139280876505,
          0.07333308725975907,
          -0.0018035031638842236,
          -0.023593509374135735,
          0.04677391724570246,
          -0.09219356413810487,
          0.01604724505492028,
          0.002545949052501051,
          0.012474538520938605,
          -0.008930513625661662,
          -0.031190890015686534,
          -0.07102151644972321,
          0.02388708520053351,
          0.05482369509223606,
          -0.08540774278545238,
          0.01717510044355275,
          0.09354424757663371
         ],
         "xaxis": "x",
         "yaxis": "y"
        }
       ],
       "layout": {
        "barmode": "relative",
        "legend": {
         "title": {
          "text": "variable"
         },
         "tracegroupgap": 0
        },
        "margin": {
         "t": 60
        },
        "template": {
         "data": {
          "bar": [
           {
            "error_x": {
             "color": "#2a3f5f"
            },
            "error_y": {
             "color": "#2a3f5f"
            },
            "marker": {
             "line": {
              "color": "#E5ECF6",
              "width": 0.5
             },
             "pattern": {
              "fillmode": "overlay",
              "size": 10,
              "solidity": 0.2
             }
            },
            "type": "bar"
           }
          ],
          "barpolar": [
           {
            "marker": {
             "line": {
              "color": "#E5ECF6",
              "width": 0.5
             },
             "pattern": {
              "fillmode": "overlay",
              "size": 10,
              "solidity": 0.2
             }
            },
            "type": "barpolar"
           }
          ],
          "carpet": [
           {
            "aaxis": {
             "endlinecolor": "#2a3f5f",
             "gridcolor": "white",
             "linecolor": "white",
             "minorgridcolor": "white",
             "startlinecolor": "#2a3f5f"
            },
            "baxis": {
             "endlinecolor": "#2a3f5f",
             "gridcolor": "white",
             "linecolor": "white",
             "minorgridcolor": "white",
             "startlinecolor": "#2a3f5f"
            },
            "type": "carpet"
           }
          ],
          "choropleth": [
           {
            "colorbar": {
             "outlinewidth": 0,
             "ticks": ""
            },
            "type": "choropleth"
           }
          ],
          "contour": [
           {
            "colorbar": {
             "outlinewidth": 0,
             "ticks": ""
            },
            "colorscale": [
             [
              0,
              "#0d0887"
             ],
             [
              0.1111111111111111,
              "#46039f"
             ],
             [
              0.2222222222222222,
              "#7201a8"
             ],
             [
              0.3333333333333333,
              "#9c179e"
             ],
             [
              0.4444444444444444,
              "#bd3786"
             ],
             [
              0.5555555555555556,
              "#d8576b"
             ],
             [
              0.6666666666666666,
              "#ed7953"
             ],
             [
              0.7777777777777778,
              "#fb9f3a"
             ],
             [
              0.8888888888888888,
              "#fdca26"
             ],
             [
              1,
              "#f0f921"
             ]
            ],
            "type": "contour"
           }
          ],
          "contourcarpet": [
           {
            "colorbar": {
             "outlinewidth": 0,
             "ticks": ""
            },
            "type": "contourcarpet"
           }
          ],
          "heatmap": [
           {
            "colorbar": {
             "outlinewidth": 0,
             "ticks": ""
            },
            "colorscale": [
             [
              0,
              "#0d0887"
             ],
             [
              0.1111111111111111,
              "#46039f"
             ],
             [
              0.2222222222222222,
              "#7201a8"
             ],
             [
              0.3333333333333333,
              "#9c179e"
             ],
             [
              0.4444444444444444,
              "#bd3786"
             ],
             [
              0.5555555555555556,
              "#d8576b"
             ],
             [
              0.6666666666666666,
              "#ed7953"
             ],
             [
              0.7777777777777778,
              "#fb9f3a"
             ],
             [
              0.8888888888888888,
              "#fdca26"
             ],
             [
              1,
              "#f0f921"
             ]
            ],
            "type": "heatmap"
           }
          ],
          "heatmapgl": [
           {
            "colorbar": {
             "outlinewidth": 0,
             "ticks": ""
            },
            "colorscale": [
             [
              0,
              "#0d0887"
             ],
             [
              0.1111111111111111,
              "#46039f"
             ],
             [
              0.2222222222222222,
              "#7201a8"
             ],
             [
              0.3333333333333333,
              "#9c179e"
             ],
             [
              0.4444444444444444,
              "#bd3786"
             ],
             [
              0.5555555555555556,
              "#d8576b"
             ],
             [
              0.6666666666666666,
              "#ed7953"
             ],
             [
              0.7777777777777778,
              "#fb9f3a"
             ],
             [
              0.8888888888888888,
              "#fdca26"
             ],
             [
              1,
              "#f0f921"
             ]
            ],
            "type": "heatmapgl"
           }
          ],
          "histogram": [
           {
            "marker": {
             "pattern": {
              "fillmode": "overlay",
              "size": 10,
              "solidity": 0.2
             }
            },
            "type": "histogram"
           }
          ],
          "histogram2d": [
           {
            "colorbar": {
             "outlinewidth": 0,
             "ticks": ""
            },
            "colorscale": [
             [
              0,
              "#0d0887"
             ],
             [
              0.1111111111111111,
              "#46039f"
             ],
             [
              0.2222222222222222,
              "#7201a8"
             ],
             [
              0.3333333333333333,
              "#9c179e"
             ],
             [
              0.4444444444444444,
              "#bd3786"
             ],
             [
              0.5555555555555556,
              "#d8576b"
             ],
             [
              0.6666666666666666,
              "#ed7953"
             ],
             [
              0.7777777777777778,
              "#fb9f3a"
             ],
             [
              0.8888888888888888,
              "#fdca26"
             ],
             [
              1,
              "#f0f921"
             ]
            ],
            "type": "histogram2d"
           }
          ],
          "histogram2dcontour": [
           {
            "colorbar": {
             "outlinewidth": 0,
             "ticks": ""
            },
            "colorscale": [
             [
              0,
              "#0d0887"
             ],
             [
              0.1111111111111111,
              "#46039f"
             ],
             [
              0.2222222222222222,
              "#7201a8"
             ],
             [
              0.3333333333333333,
              "#9c179e"
             ],
             [
              0.4444444444444444,
              "#bd3786"
             ],
             [
              0.5555555555555556,
              "#d8576b"
             ],
             [
              0.6666666666666666,
              "#ed7953"
             ],
             [
              0.7777777777777778,
              "#fb9f3a"
             ],
             [
              0.8888888888888888,
              "#fdca26"
             ],
             [
              1,
              "#f0f921"
             ]
            ],
            "type": "histogram2dcontour"
           }
          ],
          "mesh3d": [
           {
            "colorbar": {
             "outlinewidth": 0,
             "ticks": ""
            },
            "type": "mesh3d"
           }
          ],
          "parcoords": [
           {
            "line": {
             "colorbar": {
              "outlinewidth": 0,
              "ticks": ""
             }
            },
            "type": "parcoords"
           }
          ],
          "pie": [
           {
            "automargin": true,
            "type": "pie"
           }
          ],
          "scatter": [
           {
            "fillpattern": {
             "fillmode": "overlay",
             "size": 10,
             "solidity": 0.2
            },
            "type": "scatter"
           }
          ],
          "scatter3d": [
           {
            "line": {
             "colorbar": {
              "outlinewidth": 0,
              "ticks": ""
             }
            },
            "marker": {
             "colorbar": {
              "outlinewidth": 0,
              "ticks": ""
             }
            },
            "type": "scatter3d"
           }
          ],
          "scattercarpet": [
           {
            "marker": {
             "colorbar": {
              "outlinewidth": 0,
              "ticks": ""
             }
            },
            "type": "scattercarpet"
           }
          ],
          "scattergeo": [
           {
            "marker": {
             "colorbar": {
              "outlinewidth": 0,
              "ticks": ""
             }
            },
            "type": "scattergeo"
           }
          ],
          "scattergl": [
           {
            "marker": {
             "colorbar": {
              "outlinewidth": 0,
              "ticks": ""
             }
            },
            "type": "scattergl"
           }
          ],
          "scattermapbox": [
           {
            "marker": {
             "colorbar": {
              "outlinewidth": 0,
              "ticks": ""
             }
            },
            "type": "scattermapbox"
           }
          ],
          "scatterpolar": [
           {
            "marker": {
             "colorbar": {
              "outlinewidth": 0,
              "ticks": ""
             }
            },
            "type": "scatterpolar"
           }
          ],
          "scatterpolargl": [
           {
            "marker": {
             "colorbar": {
              "outlinewidth": 0,
              "ticks": ""
             }
            },
            "type": "scatterpolargl"
           }
          ],
          "scatterternary": [
           {
            "marker": {
             "colorbar": {
              "outlinewidth": 0,
              "ticks": ""
             }
            },
            "type": "scatterternary"
           }
          ],
          "surface": [
           {
            "colorbar": {
             "outlinewidth": 0,
             "ticks": ""
            },
            "colorscale": [
             [
              0,
              "#0d0887"
             ],
             [
              0.1111111111111111,
              "#46039f"
             ],
             [
              0.2222222222222222,
              "#7201a8"
             ],
             [
              0.3333333333333333,
              "#9c179e"
             ],
             [
              0.4444444444444444,
              "#bd3786"
             ],
             [
              0.5555555555555556,
              "#d8576b"
             ],
             [
              0.6666666666666666,
              "#ed7953"
             ],
             [
              0.7777777777777778,
              "#fb9f3a"
             ],
             [
              0.8888888888888888,
              "#fdca26"
             ],
             [
              1,
              "#f0f921"
             ]
            ],
            "type": "surface"
           }
          ],
          "table": [
           {
            "cells": {
             "fill": {
              "color": "#EBF0F8"
             },
             "line": {
              "color": "white"
             }
            },
            "header": {
             "fill": {
              "color": "#C8D4E3"
             },
             "line": {
              "color": "white"
             }
            },
            "type": "table"
           }
          ]
         },
         "layout": {
          "annotationdefaults": {
           "arrowcolor": "#2a3f5f",
           "arrowhead": 0,
           "arrowwidth": 1
          },
          "autotypenumbers": "strict",
          "coloraxis": {
           "colorbar": {
            "outlinewidth": 0,
            "ticks": ""
           }
          },
          "colorscale": {
           "diverging": [
            [
             0,
             "#8e0152"
            ],
            [
             0.1,
             "#c51b7d"
            ],
            [
             0.2,
             "#de77ae"
            ],
            [
             0.3,
             "#f1b6da"
            ],
            [
             0.4,
             "#fde0ef"
            ],
            [
             0.5,
             "#f7f7f7"
            ],
            [
             0.6,
             "#e6f5d0"
            ],
            [
             0.7,
             "#b8e186"
            ],
            [
             0.8,
             "#7fbc41"
            ],
            [
             0.9,
             "#4d9221"
            ],
            [
             1,
             "#276419"
            ]
           ],
           "sequential": [
            [
             0,
             "#0d0887"
            ],
            [
             0.1111111111111111,
             "#46039f"
            ],
            [
             0.2222222222222222,
             "#7201a8"
            ],
            [
             0.3333333333333333,
             "#9c179e"
            ],
            [
             0.4444444444444444,
             "#bd3786"
            ],
            [
             0.5555555555555556,
             "#d8576b"
            ],
            [
             0.6666666666666666,
             "#ed7953"
            ],
            [
             0.7777777777777778,
             "#fb9f3a"
            ],
            [
             0.8888888888888888,
             "#fdca26"
            ],
            [
             1,
             "#f0f921"
            ]
           ],
           "sequentialminus": [
            [
             0,
             "#0d0887"
            ],
            [
             0.1111111111111111,
             "#46039f"
            ],
            [
             0.2222222222222222,
             "#7201a8"
            ],
            [
             0.3333333333333333,
             "#9c179e"
            ],
            [
             0.4444444444444444,
             "#bd3786"
            ],
            [
             0.5555555555555556,
             "#d8576b"
            ],
            [
             0.6666666666666666,
             "#ed7953"
            ],
            [
             0.7777777777777778,
             "#fb9f3a"
            ],
            [
             0.8888888888888888,
             "#fdca26"
            ],
            [
             1,
             "#f0f921"
            ]
           ]
          },
          "colorway": [
           "#636efa",
           "#EF553B",
           "#00cc96",
           "#ab63fa",
           "#FFA15A",
           "#19d3f3",
           "#FF6692",
           "#B6E880",
           "#FF97FF",
           "#FECB52"
          ],
          "font": {
           "color": "#2a3f5f"
          },
          "geo": {
           "bgcolor": "white",
           "lakecolor": "white",
           "landcolor": "#E5ECF6",
           "showlakes": true,
           "showland": true,
           "subunitcolor": "white"
          },
          "hoverlabel": {
           "align": "left"
          },
          "hovermode": "closest",
          "mapbox": {
           "style": "light"
          },
          "paper_bgcolor": "white",
          "plot_bgcolor": "#E5ECF6",
          "polar": {
           "angularaxis": {
            "gridcolor": "white",
            "linecolor": "white",
            "ticks": ""
           },
           "bgcolor": "#E5ECF6",
           "radialaxis": {
            "gridcolor": "white",
            "linecolor": "white",
            "ticks": ""
           }
          },
          "scene": {
           "xaxis": {
            "backgroundcolor": "#E5ECF6",
            "gridcolor": "white",
            "gridwidth": 2,
            "linecolor": "white",
            "showbackground": true,
            "ticks": "",
            "zerolinecolor": "white"
           },
           "yaxis": {
            "backgroundcolor": "#E5ECF6",
            "gridcolor": "white",
            "gridwidth": 2,
            "linecolor": "white",
            "showbackground": true,
            "ticks": "",
            "zerolinecolor": "white"
           },
           "zaxis": {
            "backgroundcolor": "#E5ECF6",
            "gridcolor": "white",
            "gridwidth": 2,
            "linecolor": "white",
            "showbackground": true,
            "ticks": "",
            "zerolinecolor": "white"
           }
          },
          "shapedefaults": {
           "line": {
            "color": "#2a3f5f"
           }
          },
          "ternary": {
           "aaxis": {
            "gridcolor": "white",
            "linecolor": "white",
            "ticks": ""
           },
           "baxis": {
            "gridcolor": "white",
            "linecolor": "white",
            "ticks": ""
           },
           "bgcolor": "#E5ECF6",
           "caxis": {
            "gridcolor": "white",
            "linecolor": "white",
            "ticks": ""
           }
          },
          "title": {
           "x": 0.05
          },
          "xaxis": {
           "automargin": true,
           "gridcolor": "white",
           "linecolor": "white",
           "ticks": "",
           "title": {
            "standoff": 15
           },
           "zerolinecolor": "white",
           "zerolinewidth": 2
          },
          "yaxis": {
           "automargin": true,
           "gridcolor": "white",
           "linecolor": "white",
           "ticks": "",
           "title": {
            "standoff": 15
           },
           "zerolinecolor": "white",
           "zerolinewidth": 2
          }
         }
        },
        "xaxis": {
         "anchor": "y",
         "domain": [
          0,
          1
         ],
         "title": {
          "text": "value"
         }
        },
        "yaxis": {
         "anchor": "x",
         "domain": [
          0,
          1
         ],
         "title": {
          "text": "count"
         }
        }
       }
      },
      "text/html": [
       "<div>                            <div id=\"625663f5-6781-41b2-bdb4-980f1c1972cc\" class=\"plotly-graph-div\" style=\"height:525px; width:100%;\"></div>            <script type=\"text/javascript\">                require([\"plotly\"], function(Plotly) {                    window.PLOTLYENV=window.PLOTLYENV || {};                                    if (document.getElementById(\"625663f5-6781-41b2-bdb4-980f1c1972cc\")) {                    Plotly.newPlot(                        \"625663f5-6781-41b2-bdb4-980f1c1972cc\",                        [{\"alignmentgroup\":\"True\",\"bingroup\":\"x\",\"hovertemplate\":\"variable=TSLA<br>value=%{x}<br>count=%{y}<extra></extra>\",\"legendgroup\":\"TSLA\",\"marker\":{\"color\":\"#636efa\",\"pattern\":{\"shape\":\"\"}},\"name\":\"TSLA\",\"offsetgroup\":\"TSLA\",\"orientation\":\"v\",\"showlegend\":true,\"x\":[null,-0.014117040059298147,0.01534601257594459,0.026674332355089314,0.0065808344875910585,-0.00221544053792444,-0.002315808885612225,0.0016111534185070386,0.026377817239991552,0.0012617704783970396,0.0013132108198856685,-0.024627038366134335,0.009140641734991073,0.0020053704365747826,0.0152319399914278,0.001534701081332468,0.0033025535769977132,-0.0386048633967786,0.012613531353273144,0.016987202082350716,0.002260834909050713,0.027533039112419777,0.021913984403361786,-0.017438318904686723,0.004822778964677088,-0.0074618488283282325,-0.00033528881747257877,0.008139700771674807,-0.0012027720064089475,0.0027671031786462574,0.013874142895640373,-0.010231719946908746,0.008211450543254672,0.01740026797388383,0.00665249290276515,0.008926357550210762,0.030196037920976915,0.03212217253669292,-0.00671175589135764,0.0017702433581445742,0.032571047129391406,0.017539141695504856,0.12661594583056024,-0.006274020615192222,0.019078378303384103,0.03775080864849589,0.03431623672010509,0.08491020271123206,-0.03027492106926244,0.03571671105082119,0.013222323020621207,-0.006358244214659803,-0.04840071195115225,-0.11990296011128176,0.04342936118404972,-0.00415744333466006,-0.028293072508968398,-0.0193822728852886,0.040793737083203885,0.03250123721868614,0.006767610078050268,0.03710397264613152,0.017422066999642327,-0.04135293163642506,0.006284744794100794,-0.030537595031082,0.05090019969335757,0.006833850427872656,-0.04346763456194869,-0.00949773919092467,-0.06419878890850617,-0.0058720564248528895,0.04235834116680648,0.01636316704302354,-0.06095642075067487,0.013179957825059097,-0.04977243020772948,-0.00817454661938255,0.018236617552929157,-0.05027716248650771,0.006095482369819827,-0.034989335520704046,0.04288066621194697,0.0749469528140827,0.05761892529677248,0.02524830497305519,-0.0050002477248370925,-0.0020947103349137075,-0.014592268793630292,-0.012668812673032437,0.13531671306766135,-0.04183272120805026,-0.05347121367683638,-0.02152340187700552,-0.03544659713080289,0.03034201464995956,0.005935082340240205,0.039289689336566624,-0.06749101813983738,0.017497698371938375,-0.018197212157371023,-0.033827895916790696,0.0006227038637922622,-0.05256606551487697,-0.014726161727446785,-0.01247309202788982,0.020698985436762296,-0.1155417593811906,0.020805693532687908,0.10677615374729976,-0.005839494058207273,-0.0274792234689597,-0.01603246132837155,0.03611103995647258,-0.017307087837357682,0.01615708853420439,0.010845986984815648,-0.029452802797243827,-0.04925099595840721,0.01832559275072665,0.053290835833719186,0.0010407532065077607,-0.05094276342202986,-0.02210303606642594,-0.04136613687578161,-0.06997924509069431,0.04807345500262783,0.011364031324829549,0.07477743085151678,-0.006962073468958496,0.017955296480584026,-0.046142172254694414,-0.0011914833087253163,-0.04021276863744205,0.024633979098694914,0.04193346102049533,-0.024063685128871803,-0.05123465684415396,-0.0364367653967681,0.04634839536719926,0.04781200054863066,0.037335010469022656,0.03876782928978906,0.017417862181987154,0.0790525092787473,0.005161074653025954,0.01482319041519986,-0.003234937980317265,0.0803450783611821,0.0070797742441515155,-0.0050746713053765324,-0.014981868933669262,0.0064866280556235,0.056113358291612014,-0.04730886875573215,-0.04169492109380257,0.010996786923012536,-0.03004939110322813,-0.04832811439462892,0.011291813566499442,0.03588832511481477,-0.036552319899513463,0.01958373403791236,0.0237581245544094,-0.04955503671370076,0.03231684066245499,-0.003697576672395231,-0.006994645387893739,-0.12184127997573324,0.00580774851637611,-0.004537668268864592,-0.007692219946075496,0.03695621332500432,0.006988279998153324,0.04769864736561735,-0.08328605973733783,-0.008737180087532548,-0.09072955218324152,0.016427173986372612,-0.08254584750899363,-0.008174386920980936,0.05712915776850114,-0.05875859894267277,0.05141017778952928,-0.06801379812405906,-0.0005494634476534976,-0.06416503565259535,0.01656875974618055,-0.06925477786152134,0.04877740696379518,0.07427139280876505,0.07333308725975907,-0.0018035031638842236,-0.023593509374135735,0.04677391724570246,-0.09219356413810487,0.01604724505492028,0.002545949052501051,0.012474538520938605,-0.008930513625661662,-0.031190890015686534,-0.07102151644972321,0.02388708520053351,0.05482369509223606,-0.08540774278545238,0.01717510044355275,0.09354424757663371],\"xaxis\":\"x\",\"yaxis\":\"y\",\"type\":\"histogram\"}],                        {\"template\":{\"data\":{\"histogram2dcontour\":[{\"type\":\"histogram2dcontour\",\"colorbar\":{\"outlinewidth\":0,\"ticks\":\"\"},\"colorscale\":[[0.0,\"#0d0887\"],[0.1111111111111111,\"#46039f\"],[0.2222222222222222,\"#7201a8\"],[0.3333333333333333,\"#9c179e\"],[0.4444444444444444,\"#bd3786\"],[0.5555555555555556,\"#d8576b\"],[0.6666666666666666,\"#ed7953\"],[0.7777777777777778,\"#fb9f3a\"],[0.8888888888888888,\"#fdca26\"],[1.0,\"#f0f921\"]]}],\"choropleth\":[{\"type\":\"choropleth\",\"colorbar\":{\"outlinewidth\":0,\"ticks\":\"\"}}],\"histogram2d\":[{\"type\":\"histogram2d\",\"colorbar\":{\"outlinewidth\":0,\"ticks\":\"\"},\"colorscale\":[[0.0,\"#0d0887\"],[0.1111111111111111,\"#46039f\"],[0.2222222222222222,\"#7201a8\"],[0.3333333333333333,\"#9c179e\"],[0.4444444444444444,\"#bd3786\"],[0.5555555555555556,\"#d8576b\"],[0.6666666666666666,\"#ed7953\"],[0.7777777777777778,\"#fb9f3a\"],[0.8888888888888888,\"#fdca26\"],[1.0,\"#f0f921\"]]}],\"heatmap\":[{\"type\":\"heatmap\",\"colorbar\":{\"outlinewidth\":0,\"ticks\":\"\"},\"colorscale\":[[0.0,\"#0d0887\"],[0.1111111111111111,\"#46039f\"],[0.2222222222222222,\"#7201a8\"],[0.3333333333333333,\"#9c179e\"],[0.4444444444444444,\"#bd3786\"],[0.5555555555555556,\"#d8576b\"],[0.6666666666666666,\"#ed7953\"],[0.7777777777777778,\"#fb9f3a\"],[0.8888888888888888,\"#fdca26\"],[1.0,\"#f0f921\"]]}],\"heatmapgl\":[{\"type\":\"heatmapgl\",\"colorbar\":{\"outlinewidth\":0,\"ticks\":\"\"},\"colorscale\":[[0.0,\"#0d0887\"],[0.1111111111111111,\"#46039f\"],[0.2222222222222222,\"#7201a8\"],[0.3333333333333333,\"#9c179e\"],[0.4444444444444444,\"#bd3786\"],[0.5555555555555556,\"#d8576b\"],[0.6666666666666666,\"#ed7953\"],[0.7777777777777778,\"#fb9f3a\"],[0.8888888888888888,\"#fdca26\"],[1.0,\"#f0f921\"]]}],\"contourcarpet\":[{\"type\":\"contourcarpet\",\"colorbar\":{\"outlinewidth\":0,\"ticks\":\"\"}}],\"contour\":[{\"type\":\"contour\",\"colorbar\":{\"outlinewidth\":0,\"ticks\":\"\"},\"colorscale\":[[0.0,\"#0d0887\"],[0.1111111111111111,\"#46039f\"],[0.2222222222222222,\"#7201a8\"],[0.3333333333333333,\"#9c179e\"],[0.4444444444444444,\"#bd3786\"],[0.5555555555555556,\"#d8576b\"],[0.6666666666666666,\"#ed7953\"],[0.7777777777777778,\"#fb9f3a\"],[0.8888888888888888,\"#fdca26\"],[1.0,\"#f0f921\"]]}],\"surface\":[{\"type\":\"surface\",\"colorbar\":{\"outlinewidth\":0,\"ticks\":\"\"},\"colorscale\":[[0.0,\"#0d0887\"],[0.1111111111111111,\"#46039f\"],[0.2222222222222222,\"#7201a8\"],[0.3333333333333333,\"#9c179e\"],[0.4444444444444444,\"#bd3786\"],[0.5555555555555556,\"#d8576b\"],[0.6666666666666666,\"#ed7953\"],[0.7777777777777778,\"#fb9f3a\"],[0.8888888888888888,\"#fdca26\"],[1.0,\"#f0f921\"]]}],\"mesh3d\":[{\"type\":\"mesh3d\",\"colorbar\":{\"outlinewidth\":0,\"ticks\":\"\"}}],\"scatter\":[{\"fillpattern\":{\"fillmode\":\"overlay\",\"size\":10,\"solidity\":0.2},\"type\":\"scatter\"}],\"parcoords\":[{\"type\":\"parcoords\",\"line\":{\"colorbar\":{\"outlinewidth\":0,\"ticks\":\"\"}}}],\"scatterpolargl\":[{\"type\":\"scatterpolargl\",\"marker\":{\"colorbar\":{\"outlinewidth\":0,\"ticks\":\"\"}}}],\"bar\":[{\"error_x\":{\"color\":\"#2a3f5f\"},\"error_y\":{\"color\":\"#2a3f5f\"},\"marker\":{\"line\":{\"color\":\"#E5ECF6\",\"width\":0.5},\"pattern\":{\"fillmode\":\"overlay\",\"size\":10,\"solidity\":0.2}},\"type\":\"bar\"}],\"scattergeo\":[{\"type\":\"scattergeo\",\"marker\":{\"colorbar\":{\"outlinewidth\":0,\"ticks\":\"\"}}}],\"scatterpolar\":[{\"type\":\"scatterpolar\",\"marker\":{\"colorbar\":{\"outlinewidth\":0,\"ticks\":\"\"}}}],\"histogram\":[{\"marker\":{\"pattern\":{\"fillmode\":\"overlay\",\"size\":10,\"solidity\":0.2}},\"type\":\"histogram\"}],\"scattergl\":[{\"type\":\"scattergl\",\"marker\":{\"colorbar\":{\"outlinewidth\":0,\"ticks\":\"\"}}}],\"scatter3d\":[{\"type\":\"scatter3d\",\"line\":{\"colorbar\":{\"outlinewidth\":0,\"ticks\":\"\"}},\"marker\":{\"colorbar\":{\"outlinewidth\":0,\"ticks\":\"\"}}}],\"scattermapbox\":[{\"type\":\"scattermapbox\",\"marker\":{\"colorbar\":{\"outlinewidth\":0,\"ticks\":\"\"}}}],\"scatterternary\":[{\"type\":\"scatterternary\",\"marker\":{\"colorbar\":{\"outlinewidth\":0,\"ticks\":\"\"}}}],\"scattercarpet\":[{\"type\":\"scattercarpet\",\"marker\":{\"colorbar\":{\"outlinewidth\":0,\"ticks\":\"\"}}}],\"carpet\":[{\"aaxis\":{\"endlinecolor\":\"#2a3f5f\",\"gridcolor\":\"white\",\"linecolor\":\"white\",\"minorgridcolor\":\"white\",\"startlinecolor\":\"#2a3f5f\"},\"baxis\":{\"endlinecolor\":\"#2a3f5f\",\"gridcolor\":\"white\",\"linecolor\":\"white\",\"minorgridcolor\":\"white\",\"startlinecolor\":\"#2a3f5f\"},\"type\":\"carpet\"}],\"table\":[{\"cells\":{\"fill\":{\"color\":\"#EBF0F8\"},\"line\":{\"color\":\"white\"}},\"header\":{\"fill\":{\"color\":\"#C8D4E3\"},\"line\":{\"color\":\"white\"}},\"type\":\"table\"}],\"barpolar\":[{\"marker\":{\"line\":{\"color\":\"#E5ECF6\",\"width\":0.5},\"pattern\":{\"fillmode\":\"overlay\",\"size\":10,\"solidity\":0.2}},\"type\":\"barpolar\"}],\"pie\":[{\"automargin\":true,\"type\":\"pie\"}]},\"layout\":{\"autotypenumbers\":\"strict\",\"colorway\":[\"#636efa\",\"#EF553B\",\"#00cc96\",\"#ab63fa\",\"#FFA15A\",\"#19d3f3\",\"#FF6692\",\"#B6E880\",\"#FF97FF\",\"#FECB52\"],\"font\":{\"color\":\"#2a3f5f\"},\"hovermode\":\"closest\",\"hoverlabel\":{\"align\":\"left\"},\"paper_bgcolor\":\"white\",\"plot_bgcolor\":\"#E5ECF6\",\"polar\":{\"bgcolor\":\"#E5ECF6\",\"angularaxis\":{\"gridcolor\":\"white\",\"linecolor\":\"white\",\"ticks\":\"\"},\"radialaxis\":{\"gridcolor\":\"white\",\"linecolor\":\"white\",\"ticks\":\"\"}},\"ternary\":{\"bgcolor\":\"#E5ECF6\",\"aaxis\":{\"gridcolor\":\"white\",\"linecolor\":\"white\",\"ticks\":\"\"},\"baxis\":{\"gridcolor\":\"white\",\"linecolor\":\"white\",\"ticks\":\"\"},\"caxis\":{\"gridcolor\":\"white\",\"linecolor\":\"white\",\"ticks\":\"\"}},\"coloraxis\":{\"colorbar\":{\"outlinewidth\":0,\"ticks\":\"\"}},\"colorscale\":{\"sequential\":[[0.0,\"#0d0887\"],[0.1111111111111111,\"#46039f\"],[0.2222222222222222,\"#7201a8\"],[0.3333333333333333,\"#9c179e\"],[0.4444444444444444,\"#bd3786\"],[0.5555555555555556,\"#d8576b\"],[0.6666666666666666,\"#ed7953\"],[0.7777777777777778,\"#fb9f3a\"],[0.8888888888888888,\"#fdca26\"],[1.0,\"#f0f921\"]],\"sequentialminus\":[[0.0,\"#0d0887\"],[0.1111111111111111,\"#46039f\"],[0.2222222222222222,\"#7201a8\"],[0.3333333333333333,\"#9c179e\"],[0.4444444444444444,\"#bd3786\"],[0.5555555555555556,\"#d8576b\"],[0.6666666666666666,\"#ed7953\"],[0.7777777777777778,\"#fb9f3a\"],[0.8888888888888888,\"#fdca26\"],[1.0,\"#f0f921\"]],\"diverging\":[[0,\"#8e0152\"],[0.1,\"#c51b7d\"],[0.2,\"#de77ae\"],[0.3,\"#f1b6da\"],[0.4,\"#fde0ef\"],[0.5,\"#f7f7f7\"],[0.6,\"#e6f5d0\"],[0.7,\"#b8e186\"],[0.8,\"#7fbc41\"],[0.9,\"#4d9221\"],[1,\"#276419\"]]},\"xaxis\":{\"gridcolor\":\"white\",\"linecolor\":\"white\",\"ticks\":\"\",\"title\":{\"standoff\":15},\"zerolinecolor\":\"white\",\"automargin\":true,\"zerolinewidth\":2},\"yaxis\":{\"gridcolor\":\"white\",\"linecolor\":\"white\",\"ticks\":\"\",\"title\":{\"standoff\":15},\"zerolinecolor\":\"white\",\"automargin\":true,\"zerolinewidth\":2},\"scene\":{\"xaxis\":{\"backgroundcolor\":\"#E5ECF6\",\"gridcolor\":\"white\",\"linecolor\":\"white\",\"showbackground\":true,\"ticks\":\"\",\"zerolinecolor\":\"white\",\"gridwidth\":2},\"yaxis\":{\"backgroundcolor\":\"#E5ECF6\",\"gridcolor\":\"white\",\"linecolor\":\"white\",\"showbackground\":true,\"ticks\":\"\",\"zerolinecolor\":\"white\",\"gridwidth\":2},\"zaxis\":{\"backgroundcolor\":\"#E5ECF6\",\"gridcolor\":\"white\",\"linecolor\":\"white\",\"showbackground\":true,\"ticks\":\"\",\"zerolinecolor\":\"white\",\"gridwidth\":2}},\"shapedefaults\":{\"line\":{\"color\":\"#2a3f5f\"}},\"annotationdefaults\":{\"arrowcolor\":\"#2a3f5f\",\"arrowhead\":0,\"arrowwidth\":1},\"geo\":{\"bgcolor\":\"white\",\"landcolor\":\"#E5ECF6\",\"subunitcolor\":\"white\",\"showland\":true,\"showlakes\":true,\"lakecolor\":\"white\"},\"title\":{\"x\":0.05},\"mapbox\":{\"style\":\"light\"}}},\"xaxis\":{\"anchor\":\"y\",\"domain\":[0.0,1.0],\"title\":{\"text\":\"value\"}},\"yaxis\":{\"anchor\":\"x\",\"domain\":[0.0,1.0],\"title\":{\"text\":\"count\"}},\"legend\":{\"title\":{\"text\":\"variable\"},\"tracegroupgap\":0},\"margin\":{\"t\":60},\"barmode\":\"relative\"},                        {\"responsive\": true}                    ).then(function(){\n",
       "                            \n",
       "var gd = document.getElementById('625663f5-6781-41b2-bdb4-980f1c1972cc');\n",
       "var x = new MutationObserver(function (mutations, observer) {{\n",
       "        var display = window.getComputedStyle(gd).display;\n",
       "        if (!display || display === 'none') {{\n",
       "            console.log([gd, 'removed!']);\n",
       "            Plotly.purge(gd);\n",
       "            observer.disconnect();\n",
       "        }}\n",
       "}});\n",
       "\n",
       "// Listen for the removal of the full notebook cells\n",
       "var notebookContainer = gd.closest('#notebook-container');\n",
       "if (notebookContainer) {{\n",
       "    x.observe(notebookContainer, {childList: true});\n",
       "}}\n",
       "\n",
       "// Listen for the clearing of the current output cell\n",
       "var outputEl = gd.closest('.output');\n",
       "if (outputEl) {{\n",
       "    x.observe(outputEl, {childList: true});\n",
       "}}\n",
       "\n",
       "                        })                };                });            </script>        </div>"
      ]
     },
     "metadata": {},
     "output_type": "display_data"
    }
   ],
   "source": [
    "Close[\"TSLA\"].pct_change().plot(kind=\"hist\")"
   ]
  },
  {
   "cell_type": "code",
   "execution_count": null,
   "id": "0e336d42",
   "metadata": {},
   "outputs": [],
   "source": []
  }
 ],
 "metadata": {
  "kernelspec": {
   "display_name": "Python 3 (ipykernel)",
   "language": "python",
   "name": "python3"
  },
  "language_info": {
   "codemirror_mode": {
    "name": "ipython",
    "version": 3
   },
   "file_extension": ".py",
   "mimetype": "text/x-python",
   "name": "python",
   "nbconvert_exporter": "python",
   "pygments_lexer": "ipython3",
   "version": "3.9.7"
  }
 },
 "nbformat": 4,
 "nbformat_minor": 5
}
